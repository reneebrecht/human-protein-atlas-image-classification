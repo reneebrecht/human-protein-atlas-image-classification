{
  "nbformat": 4,
  "nbformat_minor": 0,
  "metadata": {
    "colab": {
      "name": "Getting_data_onto_Drive.ipynb",
      "provenance": [],
      "mount_file_id": "1332Is8Bqs9_Eipmo9hULQ5F3JozoAAqw",
      "authorship_tag": "ABX9TyNHQlKeok1o9sH2rujiOuw8",
      "include_colab_link": true
    },
    "kernelspec": {
      "name": "python3",
      "display_name": "Python 3"
    },
    "language_info": {
      "name": "python"
    }
  },
  "cells": [
    {
      "cell_type": "markdown",
      "metadata": {
        "id": "view-in-github",
        "colab_type": "text"
      },
      "source": [
        "<a href=\"https://colab.research.google.com/github/reneebrecht/human-protein-atlas-image-classification/blob/ryans_branch/Getting_data_onto_Drive.ipynb\" target=\"_parent\"><img src=\"https://colab.research.google.com/assets/colab-badge.svg\" alt=\"Open In Colab\"/></a>"
      ]
    },
    {
      "cell_type": "markdown",
      "source": [
        "### First we need to mount google drive, so that we can access the folder"
      ],
      "metadata": {
        "id": "b2ztRjECtQKe"
      }
    },
    {
      "cell_type": "code",
      "execution_count": null,
      "metadata": {
        "colab": {
          "base_uri": "https://localhost:8080/"
        },
        "id": "YzLs8-9qeySD",
        "outputId": "95d5791b-cba1-4ab6-b211-0aa1ae2e58d6"
      },
      "outputs": [
        {
          "output_type": "stream",
          "name": "stdout",
          "text": [
            "Mounted at /content/drive\n"
          ]
        }
      ],
      "source": [
        "from google.colab import drive\n",
        "drive.mount('/content/drive')"
      ]
    },
    {
      "cell_type": "code",
      "source": [
        "import os\n",
        "os.environ['KAGGLE_CONFIG_DIR'] = \"/content/drive/MyDrive/Work/Courses/Neuefische/human-protein-atlas-image-classification/Data\""
      ],
      "metadata": {
        "id": "gwbQ_wfxviFW"
      },
      "execution_count": null,
      "outputs": []
    },
    {
      "cell_type": "markdown",
      "source": [
        "# Download the data directly from Kaggle"
      ],
      "metadata": {
        "id": "BC9a5Xcf2m4U"
      }
    },
    {
      "cell_type": "code",
      "source": [
        "%cd /content/drive/MyDrive/Work/Courses/Neuefische/human-protein-atlas-image-classification/Data"
      ],
      "metadata": {
        "colab": {
          "base_uri": "https://localhost:8080/"
        },
        "id": "X5cwtaW2wWTW",
        "outputId": "e39e4d6c-5b71-4a44-9f80-2928f849068f"
      },
      "execution_count": null,
      "outputs": [
        {
          "output_type": "stream",
          "name": "stdout",
          "text": [
            "/content/drive/MyDrive/Work/Courses/Neuefische/human-protein-atlas-image-classification/Data\n"
          ]
        }
      ]
    },
    {
      "cell_type": "code",
      "source": [
        "!kaggle competitions download -c human-protein-atlas-image-classification"
      ],
      "metadata": {
        "colab": {
          "base_uri": "https://localhost:8080/"
        },
        "id": "rhF7ryWhwblb",
        "outputId": "a27dd0fd-a4ce-4d2b-a9cc-989b15d98ae0"
      },
      "execution_count": null,
      "outputs": [
        {
          "output_type": "stream",
          "name": "stdout",
          "text": [
            "Downloading human-protein-atlas-image-classification.zip to /content/drive/MyDrive/Work/Courses/Neuefische/human-protein-atlas-image-classification/Data\n",
            "100% 17.5G/17.5G [04:05<00:00, 140MB/s]\n",
            "100% 17.5G/17.5G [04:05<00:00, 76.3MB/s]\n"
          ]
        }
      ]
    },
    {
      "cell_type": "code",
      "source": [
        "!unzip -uq \"/content/drive/MyDrive/Work/Courses/Neuefische/human-protein-atlas-image-classification/Data/human-protein-atlas-image-classification.zip\""
      ],
      "metadata": {
        "id": "g5AOHw3QfGe4"
      },
      "execution_count": null,
      "outputs": []
    },
    {
      "cell_type": "markdown",
      "source": [
        "# Trying to access data in folder\n",
        "\n",
        "\n"
      ],
      "metadata": {
        "id": "eQB3OTCFyM6o"
      }
    },
    {
      "cell_type": "code",
      "source": [
        "%cd /content/drive/MyDrive/Work/Courses/Neuefische/human-protein-atlas-image-classification/Data"
      ],
      "metadata": {
        "colab": {
          "base_uri": "https://localhost:8080/"
        },
        "id": "6gerYoS8whe_",
        "outputId": "daf332db-8aa7-45ff-df23-451dcde0bd3b"
      },
      "execution_count": 2,
      "outputs": [
        {
          "output_type": "stream",
          "name": "stdout",
          "text": [
            "/content/drive/MyDrive/Work/Courses/Neuefische/human-protein-atlas-image-classification/Data\n"
          ]
        }
      ]
    },
    {
      "cell_type": "code",
      "source": [
        "%ls -la"
      ],
      "metadata": {
        "colab": {
          "base_uri": "https://localhost:8080/"
        },
        "id": "F50OIcl0UOVL",
        "outputId": "f2373c4a-b0a5-458c-a143-5c0f85b4270f"
      },
      "execution_count": null,
      "outputs": [
        {
          "output_type": "stream",
          "name": "stdout",
          "text": [
            "total 18318868\n",
            "-rw------- 1 root root 18758519573 Jun 21 15:28 human-protein-atlas-image-classification.zip\n",
            "-rw------- 1 root root          65 Jun 21 13:34 kaggle.json\n"
          ]
        }
      ]
    },
    {
      "cell_type": "code",
      "source": [
        "import matplotlib.image as img  \n",
        "# reading png image\n",
        "im_red = img.imread('test/0a00aab2-bbbb-11e8-b2ba-ac1f6b6435d0_red.png')\n",
        "im_blue = img.imread('test/0a00aab2-bbbb-11e8-b2ba-ac1f6b6435d0_blue.png')\n",
        "im_green = img.imread('test/0a00aab2-bbbb-11e8-b2ba-ac1f6b6435d0_green.png')\n",
        "im_yellow = img.imread('test/0a00aab2-bbbb-11e8-b2ba-ac1f6b6435d0_yellow.png')\n",
        "\n",
        "im = im_red+im_blue+im_green+im_yellow\n",
        "im.shape"
      ],
      "metadata": {
        "colab": {
          "base_uri": "https://localhost:8080/"
        },
        "id": "eKq7cOay0Fmy",
        "outputId": "ed26fbf0-fb33-4844-b999-1229970d0fea"
      },
      "execution_count": null,
      "outputs": [
        {
          "output_type": "execute_result",
          "data": {
            "text/plain": [
              "(512, 512)"
            ]
          },
          "metadata": {},
          "execution_count": 27
        }
      ]
    },
    {
      "cell_type": "code",
      "source": [
        "type(im)"
      ],
      "metadata": {
        "colab": {
          "base_uri": "https://localhost:8080/"
        },
        "id": "71ddNNhz3Ara",
        "outputId": "ec4bcd36-697e-4e87-9ef5-f9852dba3bc4"
      },
      "execution_count": null,
      "outputs": [
        {
          "output_type": "execute_result",
          "data": {
            "text/plain": [
              "numpy.ndarray"
            ]
          },
          "metadata": {},
          "execution_count": 29
        }
      ]
    },
    {
      "cell_type": "code",
      "source": [
        "plt.imshow(im)"
      ],
      "metadata": {
        "colab": {
          "base_uri": "https://localhost:8080/",
          "height": 287
        },
        "id": "YpGLVRFa2ePW",
        "outputId": "a11583a1-6283-4d99-8956-3667337b1102"
      },
      "execution_count": null,
      "outputs": [
        {
          "output_type": "execute_result",
          "data": {
            "text/plain": [
              "<matplotlib.image.AxesImage at 0x7f66b5182510>"
            ]
          },
          "metadata": {},
          "execution_count": 28
        },
        {
          "output_type": "display_data",
          "data": {
            "text/plain": [
              "<Figure size 432x288 with 1 Axes>"
            ],
            "image/png": "[encoded data removed]"
          },
          "metadata": {
            "needs_background": "light"
          }
        }
      ]
    },
    {
      "cell_type": "code",
      "source": [
        "import tensorflow as tf\n",
        "img = tf.keras.preprocessing.image.load_img('test/0a00aab2-bbbb-11e8-b2ba-ac1f6b6435d0_red.png')\n",
        "img"
      ],
      "metadata": {
        "id": "ErYFEIze079n"
      },
      "execution_count": null,
      "outputs": []
    }
  ]
}