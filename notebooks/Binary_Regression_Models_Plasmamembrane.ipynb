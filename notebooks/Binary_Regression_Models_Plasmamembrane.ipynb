{
 "cells": [
  {
   "cell_type": "markdown",
   "metadata": {},
   "source": [
    "## Finding the best fitting regression model for binary subset of the data (one protein at a time)\n",
    "- for a given protein, fit a regression model and optimize for the best fit\n",
    "- using embeddings (efficientnet.tfkeras import EfficientNetB0) as input features"
   ]
  },
  {
   "cell_type": "code",
   "execution_count": 19,
   "metadata": {},
   "outputs": [],
   "source": [
    "# Import all the libraries I need\n",
    "import numpy as np\n",
    "import pandas as pd\n",
    "import matplotlib.pyplot as plt\n",
    "import seaborn as sns\n",
    "%matplotlib inline\n",
    "\n",
    "# ignore Deprecation Warning\n",
    "import warnings\n",
    "warnings.filterwarnings(\"ignore\", category=DeprecationWarning) \n",
    "from sklearn.model_selection import train_test_split\n",
    "from sklearn.utils import shuffle\n",
    "from sklearn.metrics import plot_confusion_matrix, recall_score, accuracy_score, precision_score\n",
    "from sklearn.metrics import classification_report, confusion_matrix, roc_curve\n",
    "from sklearn.metrics import fbeta_score, make_scorer\n",
    "from sklearn.preprocessing import MinMaxScaler, StandardScaler, QuantileTransformer\n",
    "from sklearn.pipeline import make_pipeline\n",
    "\n",
    "from sklearn.neighbors import KNeighborsClassifier\n",
    "from sklearn.svm import LinearSVC, SVC\n",
    "from sklearn.naive_bayes import MultinomialNB\n",
    "from sklearn.linear_model import SGDClassifier, LogisticRegression\n",
    "from sklearn.tree import DecisionTreeClassifier\n",
    "from sklearn.pipeline import Pipeline\n",
    "from sklearn.model_selection import GridSearchCV\n",
    "\n",
    "import xgboost as xgb\n",
    "\n",
    "import pyarrow.parquet as pq\n",
    "\n",
    "import warnings\n",
    "warnings.filterwarnings(\"ignore\", category=DeprecationWarning)\n",
    "warnings.filterwarnings(\"ignore\", category=UserWarning)\n",
    "warnings.filterwarnings(\"ignore\", category=FutureWarning)\n",
    "\n",
    "\n"
   ]
  },
  {
   "cell_type": "code",
   "execution_count": 20,
   "metadata": {},
   "outputs": [],
   "source": [
    "# Set base path\n",
    "\n",
    "base_path = '/Users/reneebrecht/neue_fische/human-protein-atlas-image-classification/data/'\n",
    "embed_path = '/Users/reneebrecht/neue_fische/human-protein-atlas-image-classification/data/embeddings_train/'"
   ]
  },
  {
   "cell_type": "markdown",
   "metadata": {},
   "source": [
    "### Loading the image labels and image names"
   ]
  },
  {
   "cell_type": "code",
   "execution_count": 21,
   "metadata": {},
   "outputs": [],
   "source": [
    "#get all of the labels\n",
    "labels_training = pd.read_csv(base_path+'train.csv')"
   ]
  },
  {
   "cell_type": "markdown",
   "metadata": {},
   "source": [
    "### Some setup"
   ]
  },
  {
   "cell_type": "code",
   "execution_count": 22,
   "metadata": {},
   "outputs": [],
   "source": [
    "class Location_in_Target(object):\n",
    "    ''' Class to get a list of name of pictures which are labeled with a specific \n",
    "        location and the same number of names of pictures which labels do not \n",
    "        contain the specific location.\n",
    "        ...\n",
    "        Attributes:\n",
    "        ----------\n",
    "        location: int \n",
    "            number which define a location in a human cell\n",
    "        pictures: panda.DataFrame\n",
    "            list of the names of the pictures labeled with the location and \n",
    "            same number of pictures without the label\n",
    "        \n",
    "        Methods:\n",
    "        ----------\n",
    "        save_pictures(pictures, column_name):\n",
    "            Saves the list of picture names in an Attribute\n",
    "        get_pictures()\n",
    "            Returns the list of picture names\n",
    "        determine_pictures(labels)  \n",
    "            Find pictures with and without the specific label and call save method\n",
    "            when list is build\n",
    "    '''\n",
    "\n",
    "    def __init__(self, location): \n",
    "        '''Parameters\n",
    "           ----------\n",
    "           location: int \n",
    "                number which define a location in a human cell\n",
    "        '''\n",
    "\n",
    "        self.location = location\n",
    "        self.pictures = pd.DataFrame()\n",
    "\n",
    "    def save_pictures(self, pictures, column_name):\n",
    "        ''' Saves the list of pictures in the attribute pictures\n",
    "\n",
    "            Parameters\n",
    "            ----------\n",
    "            pictures: panda.DataFrame\n",
    "                list of the names of the pictures labeled with the location and \n",
    "                same number of pictures without the label\n",
    "            column_name: str\n",
    "                Description of the data saved in the DataFrame used as column names \n",
    "        '''\n",
    "\n",
    "        self.pictures[column_name] = pictures\n",
    "\n",
    "    def get_pictures(self):\n",
    "        '''Gives back the list of picture names which are labeled or not labeled\n",
    "            with the given location\n",
    "        '''\n",
    "\n",
    "        return self.pictures\n",
    "\n",
    "    def determine_pictures(self, labels):\n",
    "        ''' First the names of the pictures labeled with the given location are \n",
    "            saved in a list and the method to save it in a DataFrame column is \n",
    "            called. \n",
    "            The same number of names from pictures not labeled with the location \n",
    "            are chosen randomly. The saving function is called with it again. \n",
    "\n",
    "            Parameters\n",
    "            ----------\n",
    "            labels: DataFrame with all picture names and Targets       \n",
    "        '''\n",
    "\n",
    "        pictures = [label.Id  for index, label in labels.iterrows() \n",
    "                              if str(self.location) in label.Target]\n",
    "        self.save_pictures(pictures, f'pictures_with_location_{self.location}')\n",
    "        #The number of pictures labeled with the given location is needed to get the \n",
    "        #same number of pictures not labeled with the location\n",
    "        number_needed_pictures= len(pictures)\n",
    "        pictures = [label.Id  for index, label in labels.iterrows() \n",
    "                              if str(self.location) not in label.Target]\n",
    "        self.save_pictures(np.random.choice(pictures, number_needed_pictures),\n",
    "                                f'pictures_without_location_{self.location}')\n",
    "\n",
    "# courtesy of https://www.kaggle.com/code/allunia/protein-atlas-exploration-and-baseline\n",
    "label_names = {\n",
    "    0:  \"Nucleoplasm\",  \n",
    "    1:  \"Nuclear membrane\",   \n",
    "    2:  \"Nucleoli\",   \n",
    "    3:  \"Nucleoli fibrillar center\",   \n",
    "    4:  \"Nuclear speckles\",\n",
    "    5:  \"Nuclear bodies\",   \n",
    "    6:  \"Endoplasmic reticulum\",   \n",
    "    7:  \"Golgi apparatus\",   \n",
    "    8:  \"Peroxisomes\",   \n",
    "    9:  \"Endosomes\",   \n",
    "    10:  \"Lysosomes\",   \n",
    "    11:  \"Intermediate filaments\",   \n",
    "    12:  \"Actin filaments\",   \n",
    "    13:  \"Focal adhesion sites\",   \n",
    "    14:  \"Microtubules\",   \n",
    "    15:  \"Microtubule ends\",   \n",
    "    16:  \"Cytokinetic bridge\",   \n",
    "    17:  \"Mitotic spindle\",   \n",
    "    18:  \"Microtubule organizing center\",   \n",
    "    19:  \"Centrosome\",   \n",
    "    20:  \"Lipid droplets\",   \n",
    "    21:  \"Plasma membrane\",   \n",
    "    22:  \"Cell junctions\",   \n",
    "    23:  \"Mitochondria\",   \n",
    "    24:  \"Aggresome\",   \n",
    "    25:  \"Cytosol\",   \n",
    "    26:  \"Cytoplasmic bodies\",   \n",
    "    27:  \"Rods & rings\"\n",
    "}\n",
    "\n",
    "reverse_train_labels = dict((v,k) for k,v in label_names.items())"
   ]
  },
  {
   "cell_type": "markdown",
   "metadata": {},
   "source": [
    "#### Load the full set of embeddings"
   ]
  },
  {
   "cell_type": "code",
   "execution_count": 23,
   "metadata": {},
   "outputs": [
    {
     "data": {
      "text/html": [
       "<div>\n",
       "<style scoped>\n",
       "    .dataframe tbody tr th:only-of-type {\n",
       "        vertical-align: middle;\n",
       "    }\n",
       "\n",
       "    .dataframe tbody tr th {\n",
       "        vertical-align: top;\n",
       "    }\n",
       "\n",
       "    .dataframe thead th {\n",
       "        text-align: right;\n",
       "    }\n",
       "</style>\n",
       "<table border=\"1\" class=\"dataframe\">\n",
       "  <thead>\n",
       "    <tr style=\"text-align: right;\">\n",
       "      <th></th>\n",
       "      <th>target_id</th>\n",
       "      <th>image_path</th>\n",
       "      <th>embedding</th>\n",
       "      <th>image_name</th>\n",
       "    </tr>\n",
       "  </thead>\n",
       "  <tbody>\n",
       "    <tr>\n",
       "      <th>0</th>\n",
       "      <td>7</td>\n",
       "      <td>../data/train/4b0d7acc-bbb5-11e8-b2ba-ac1f6b64...</td>\n",
       "      <td>[-0.14782768, -0.19346946, 0.029495712, -0.114...</td>\n",
       "      <td>4b0d7acc-bbb5-11e8-b2ba-ac1f6b6435d0</td>\n",
       "    </tr>\n",
       "    <tr>\n",
       "      <th>1</th>\n",
       "      <td>5 0</td>\n",
       "      <td>../data/train/4b0e4648-bbc2-11e8-b2bb-ac1f6b64...</td>\n",
       "      <td>[-0.11768038, 0.108380914, -0.07158355, -0.051...</td>\n",
       "      <td>4b0e4648-bbc2-11e8-b2bb-ac1f6b6435d0</td>\n",
       "    </tr>\n",
       "    <tr>\n",
       "      <th>2</th>\n",
       "      <td>23</td>\n",
       "      <td>../data/train/4b0fe352-bbbf-11e8-b2ba-ac1f6b64...</td>\n",
       "      <td>[-0.14264518, -0.14894637, 0.015262008, -0.138...</td>\n",
       "      <td>4b0fe352-bbbf-11e8-b2ba-ac1f6b6435d0</td>\n",
       "    </tr>\n",
       "    <tr>\n",
       "      <th>3</th>\n",
       "      <td>2</td>\n",
       "      <td>../data/train/4b1164e4-bbaf-11e8-b2ba-ac1f6b64...</td>\n",
       "      <td>[-0.14977421, -0.12706101, -0.17702478, -0.087...</td>\n",
       "      <td>4b1164e4-bbaf-11e8-b2ba-ac1f6b6435d0</td>\n",
       "    </tr>\n",
       "    <tr>\n",
       "      <th>4</th>\n",
       "      <td>25</td>\n",
       "      <td>../data/train/4b120c9e-bbb1-11e8-b2ba-ac1f6b64...</td>\n",
       "      <td>[-0.15020615, -0.008659467, -0.14262204, -0.04...</td>\n",
       "      <td>4b120c9e-bbb1-11e8-b2ba-ac1f6b6435d0</td>\n",
       "    </tr>\n",
       "    <tr>\n",
       "      <th>...</th>\n",
       "      <td>...</td>\n",
       "      <td>...</td>\n",
       "      <td>...</td>\n",
       "      <td>...</td>\n",
       "    </tr>\n",
       "    <tr>\n",
       "      <th>31067</th>\n",
       "      <td>7</td>\n",
       "      <td>../data/train/9d04d730-bbb5-11e8-b2ba-ac1f6b64...</td>\n",
       "      <td>[-0.095827445, -0.14014255, -0.1306586, -0.081...</td>\n",
       "      <td>9d04d730-bbb5-11e8-b2ba-ac1f6b6435d0</td>\n",
       "    </tr>\n",
       "    <tr>\n",
       "      <th>31068</th>\n",
       "      <td>4</td>\n",
       "      <td>../data/train/9d09c7e0-bb9c-11e8-b2b9-ac1f6b64...</td>\n",
       "      <td>[-0.109680824, -0.07402489, -0.08704822, -0.08...</td>\n",
       "      <td>9d09c7e0-bb9c-11e8-b2b9-ac1f6b6435d0</td>\n",
       "    </tr>\n",
       "    <tr>\n",
       "      <th>31069</th>\n",
       "      <td>0</td>\n",
       "      <td>../data/train/9d0a7012-bbc6-11e8-b2bc-ac1f6b64...</td>\n",
       "      <td>[-0.14760047, -0.105946906, 0.17695697, -0.130...</td>\n",
       "      <td>9d0a7012-bbc6-11e8-b2bc-ac1f6b6435d0</td>\n",
       "    </tr>\n",
       "    <tr>\n",
       "      <th>31070</th>\n",
       "      <td>25 0</td>\n",
       "      <td>../data/train/9d10ecec-bba0-11e8-b2b9-ac1f6b64...</td>\n",
       "      <td>[-0.12235144, -0.12698074, -0.052961998, -0.10...</td>\n",
       "      <td>9d10ecec-bba0-11e8-b2b9-ac1f6b6435d0</td>\n",
       "    </tr>\n",
       "    <tr>\n",
       "      <th>31071</th>\n",
       "      <td>7 0</td>\n",
       "      <td>../data/train/9d114136-bbb6-11e8-b2ba-ac1f6b64...</td>\n",
       "      <td>[-0.1314421, -0.13573745, -0.14491996, -0.0963...</td>\n",
       "      <td>9d114136-bbb6-11e8-b2ba-ac1f6b6435d0</td>\n",
       "    </tr>\n",
       "  </tbody>\n",
       "</table>\n",
       "<p>31072 rows × 4 columns</p>\n",
       "</div>"
      ],
      "text/plain": [
       "      target_id                                         image_path  \\\n",
       "0             7  ../data/train/4b0d7acc-bbb5-11e8-b2ba-ac1f6b64...   \n",
       "1           5 0  ../data/train/4b0e4648-bbc2-11e8-b2bb-ac1f6b64...   \n",
       "2            23  ../data/train/4b0fe352-bbbf-11e8-b2ba-ac1f6b64...   \n",
       "3             2  ../data/train/4b1164e4-bbaf-11e8-b2ba-ac1f6b64...   \n",
       "4            25  ../data/train/4b120c9e-bbb1-11e8-b2ba-ac1f6b64...   \n",
       "...         ...                                                ...   \n",
       "31067         7  ../data/train/9d04d730-bbb5-11e8-b2ba-ac1f6b64...   \n",
       "31068         4  ../data/train/9d09c7e0-bb9c-11e8-b2b9-ac1f6b64...   \n",
       "31069         0  ../data/train/9d0a7012-bbc6-11e8-b2bc-ac1f6b64...   \n",
       "31070      25 0  ../data/train/9d10ecec-bba0-11e8-b2b9-ac1f6b64...   \n",
       "31071       7 0  ../data/train/9d114136-bbb6-11e8-b2ba-ac1f6b64...   \n",
       "\n",
       "                                               embedding  \\\n",
       "0      [-0.14782768, -0.19346946, 0.029495712, -0.114...   \n",
       "1      [-0.11768038, 0.108380914, -0.07158355, -0.051...   \n",
       "2      [-0.14264518, -0.14894637, 0.015262008, -0.138...   \n",
       "3      [-0.14977421, -0.12706101, -0.17702478, -0.087...   \n",
       "4      [-0.15020615, -0.008659467, -0.14262204, -0.04...   \n",
       "...                                                  ...   \n",
       "31067  [-0.095827445, -0.14014255, -0.1306586, -0.081...   \n",
       "31068  [-0.109680824, -0.07402489, -0.08704822, -0.08...   \n",
       "31069  [-0.14760047, -0.105946906, 0.17695697, -0.130...   \n",
       "31070  [-0.12235144, -0.12698074, -0.052961998, -0.10...   \n",
       "31071  [-0.1314421, -0.13573745, -0.14491996, -0.0963...   \n",
       "\n",
       "                                 image_name  \n",
       "0      4b0d7acc-bbb5-11e8-b2ba-ac1f6b6435d0  \n",
       "1      4b0e4648-bbc2-11e8-b2bb-ac1f6b6435d0  \n",
       "2      4b0fe352-bbbf-11e8-b2ba-ac1f6b6435d0  \n",
       "3      4b1164e4-bbaf-11e8-b2ba-ac1f6b6435d0  \n",
       "4      4b120c9e-bbb1-11e8-b2ba-ac1f6b6435d0  \n",
       "...                                     ...  \n",
       "31067  9d04d730-bbb5-11e8-b2ba-ac1f6b6435d0  \n",
       "31068  9d09c7e0-bb9c-11e8-b2b9-ac1f6b6435d0  \n",
       "31069  9d0a7012-bbc6-11e8-b2bc-ac1f6b6435d0  \n",
       "31070  9d10ecec-bba0-11e8-b2b9-ac1f6b6435d0  \n",
       "31071  9d114136-bbb6-11e8-b2ba-ac1f6b6435d0  \n",
       "\n",
       "[31072 rows x 4 columns]"
      ]
     },
     "execution_count": 23,
     "metadata": {},
     "output_type": "execute_result"
    }
   ],
   "source": [
    "# load embeddings (saved as parquet files), convert to pandas and get strings as strings\n",
    "emb = pq.read_table(embed_path).to_pandas()\n",
    "for col in ['target_id', 'image_path', 'image_name']:\n",
    "    emb[col] = emb[col].str.decode('utf-8')#.fillna(df[col]) \n",
    "emb"
   ]
  },
  {
   "cell_type": "markdown",
   "metadata": {},
   "source": [
    "#### Test the class with Mitochondria labeled with a 23\n",
    "- create a balanced subset of images that have mitochondria or not"
   ]
  },
  {
   "cell_type": "code",
   "execution_count": 24,
   "metadata": {},
   "outputs": [],
   "source": [
    "# INPUT: select the protein of interest and it's number\n",
    "protein_name = 'Plasmamembrane'\n",
    "protein_number = 21"
   ]
  },
  {
   "cell_type": "code",
   "execution_count": 25,
   "metadata": {},
   "outputs": [],
   "source": [
    "# picking out all the images/embeddings with the protein\n",
    "selected_protein = Location_in_Target(location = protein_number)\n",
    "selected_protein.determine_pictures(labels_training)\n",
    "#Dataframe with filenames of pictures which have mitochondria\n",
    "df_pro = selected_protein.get_pictures().pictures_with_location_21\n",
    "#Dataframe with filenames of pictures which have no mitochondria\n",
    "df_no_pro = selected_protein.get_pictures().pictures_without_location_21"
   ]
  },
  {
   "cell_type": "code",
   "execution_count": 26,
   "metadata": {},
   "outputs": [],
   "source": [
    "# use join to pull out the embeddings of the mitochondria subset\n",
    "# first get the mitochondria and set target = 1\n",
    "emb_pro = emb.merge(df_pro.rename(\"image_name\").to_frame(), how=\"right\", on=\"image_name\")\n",
    "emb_pro[\"target_id\"] = 1\n",
    "# now the others, target = 0\n",
    "emb_no_pro = emb.merge(df_no_pro.rename(\"image_name\").to_frame(), how=\"right\", on=\"image_name\")\n",
    "emb_no_pro[\"target_id\"] = 0\n",
    "# now combine them into one table and shuffle\n",
    "df_emb_pro = pd.concat([emb_pro, emb_no_pro]).reset_index()\n",
    "df_emb_pro = shuffle(df_emb_pro, random_state=0)"
   ]
  },
  {
   "cell_type": "code",
   "execution_count": 27,
   "metadata": {},
   "outputs": [],
   "source": [
    "# put the features (embeddings) in one data frame\n",
    "df_feats = pd.DataFrame(list(map(np.ravel, df_emb_pro.embedding)))"
   ]
  },
  {
   "cell_type": "code",
   "execution_count": 28,
   "metadata": {},
   "outputs": [
    {
     "data": {
      "text/plain": [
       "4200    0\n",
       "1914    1\n",
       "3534    1\n",
       "4668    0\n",
       "7549    0\n",
       "       ..\n",
       "4931    0\n",
       "3264    1\n",
       "1653    1\n",
       "2607    1\n",
       "2732    1\n",
       "Name: target_id, Length: 7554, dtype: int64"
      ]
     },
     "execution_count": 28,
     "metadata": {},
     "output_type": "execute_result"
    }
   ],
   "source": [
    "# get the targets, one hot encode and put into a dataframe\n",
    "# target dataframe\n",
    "targets = df_emb_pro['target_id']\n",
    "targets"
   ]
  },
  {
   "cell_type": "code",
   "execution_count": 29,
   "metadata": {},
   "outputs": [],
   "source": [
    "#sns.pairplot(pd.concat([df_feats,targets],axis=1).iloc[:,-10:], hue=\"target_id\");"
   ]
  },
  {
   "cell_type": "markdown",
   "metadata": {},
   "source": [
    "#### Notes:\n",
    "- data may still need to be scaled\n",
    "- also not uniformly distributed --- log?"
   ]
  },
  {
   "cell_type": "code",
   "execution_count": 31,
   "metadata": {},
   "outputs": [],
   "source": [
    "# Split data into train and test set\n",
    "X_train, X_test, y_train, y_test = train_test_split(df_feats, targets, stratify = targets, random_state=1)"
   ]
  },
  {
   "cell_type": "markdown",
   "metadata": {},
   "source": [
    "### Setup pipeline to preprocess data and train the model\n",
    "- setting up \"switcher class\" so that we can try different models/classifiers; from https://stackoverflow.com/questions/51695322/compare-multiple-algorithms-with-sklearn-pipeline\n",
    " "
   ]
  },
  {
   "cell_type": "markdown",
   "metadata": {},
   "source": [
    "!!! reduce overfitting\n",
    "- try with, without quantile and scaler\n",
    "- add regularization\n",
    "- ..."
   ]
  },
  {
   "cell_type": "code",
   "execution_count": 32,
   "metadata": {},
   "outputs": [],
   "source": [
    "from sklearn.base import BaseEstimator\n",
    "\n",
    "class ClfSwitcher(BaseEstimator):\n",
    "    def __init__(\n",
    "        self, \n",
    "        estimator = KNeighborsClassifier(),\n",
    "    ):\n",
    "        \"\"\"\n",
    "        A Custom BaseEstimator that can switch between classifiers.\n",
    "        :param estimator: sklearn object - The classifier\n",
    "        \"\"\" \n",
    "\n",
    "        self.estimator = estimator\n",
    "\n",
    "\n",
    "    def fit(self, X, y=None, **kwargs):\n",
    "        self.estimator.fit(X, y)\n",
    "        return self\n",
    "\n",
    "\n",
    "    def predict(self, X, y=None):\n",
    "        return self.estimator.predict(X)\n",
    "\n",
    "\n",
    "    def predict_proba(self, X):\n",
    "        return self.estimator.predict_proba(X)\n",
    "\n",
    "\n",
    "    def score(self, X, y):\n",
    "        return self.estimator.score(X, y)"
   ]
  },
  {
   "cell_type": "markdown",
   "metadata": {},
   "source": [
    "#### Compare different models (and some hyperparameters)"
   ]
  },
  {
   "cell_type": "code",
   "execution_count": 33,
   "metadata": {},
   "outputs": [],
   "source": [
    "# Define fbeta score as the metric to compare the models\n",
    "f_beta = 1\n",
    "fbeta_scorer = make_scorer(fbeta_score, beta=f_beta)"
   ]
  },
  {
   "cell_type": "code",
   "execution_count": 34,
   "metadata": {},
   "outputs": [
    {
     "name": "stdout",
     "output_type": "stream",
     "text": [
      "Fitting 5 folds for each of 16 candidates, totalling 80 fits\n",
      "[CV 2/5] END ..............., score=(train=0.773, test=0.685) total time=   6.6s\n",
      "[CV 3/5] END ..............., score=(train=0.780, test=0.608) total time=   6.8s\n",
      "[CV 1/5] END ..............., score=(train=0.782, test=0.631) total time=   6.8s\n",
      "[CV 5/5] END ..............., score=(train=0.776, test=0.643) total time=   6.8s\n",
      "[CV 4/5] END ..............., score=(train=0.776, test=0.672) total time=   7.1s\n",
      "[CV 1/5] END clf__estimator=SVC(), clf__estimator__C=0.1, clf__estimator__gamma=0.01, clf__estimator__kernel=rbf;, score=(train=0.669, test=0.658) total time= 1.4min\n",
      "[CV 1/5] END clf__estimator=SVC(), clf__estimator__C=0.1, clf__estimator__gamma=0.1, clf__estimator__kernel=rbf;, score=(train=0.669, test=0.658) total time= 1.4min\n",
      "[CV 2/5] END clf__estimator=SVC(), clf__estimator__C=0.1, clf__estimator__gamma=0.1, clf__estimator__kernel=rbf;, score=(train=0.669, test=0.658) total time= 1.4min\n",
      "[CV 2/5] END clf__estimator=SVC(), clf__estimator__C=0.1, clf__estimator__gamma=0.01, clf__estimator__kernel=rbf;, score=(train=0.669, test=0.658) total time= 1.4min\n",
      "[CV 4/5] END clf__estimator=SVC(), clf__estimator__C=0.1, clf__estimator__gamma=0.01, clf__estimator__kernel=rbf;, score=(train=0.000, test=0.000) total time= 1.4min\n",
      "[CV 3/5] END clf__estimator=SVC(), clf__estimator__C=0.1, clf__estimator__gamma=0.01, clf__estimator__kernel=rbf;, score=(train=0.668, test=0.662) total time= 1.4min\n",
      "[CV 5/5] END clf__estimator=SVC(), clf__estimator__C=0.1, clf__estimator__gamma=0.01, clf__estimator__kernel=rbf;, score=(train=0.026, test=0.014) total time= 1.4min\n",
      "[CV 3/5] END clf__estimator=SVC(), clf__estimator__C=0.1, clf__estimator__gamma=0.1, clf__estimator__kernel=rbf;, score=(train=0.668, test=0.662) total time= 1.5min\n",
      "[CV 2/5] END clf__estimator=SVC(), clf__estimator__C=0.1, clf__estimator__gamma=0.5, clf__estimator__kernel=rbf;, score=(train=0.669, test=0.658) total time= 1.5min\n",
      "[CV 4/5] END clf__estimator=SVC(), clf__estimator__C=0.1, clf__estimator__gamma=0.1, clf__estimator__kernel=rbf;, score=(train=0.000, test=0.000) total time= 1.5min\n",
      "[CV 5/5] END clf__estimator=SVC(), clf__estimator__C=0.1, clf__estimator__gamma=0.1, clf__estimator__kernel=rbf;, score=(train=0.000, test=0.000) total time= 1.5min\n",
      "[CV 1/5] END clf__estimator=SVC(), clf__estimator__C=0.1, clf__estimator__gamma=0.5, clf__estimator__kernel=rbf;, score=(train=0.669, test=0.658) total time= 1.5min\n",
      "[CV 4/5] END clf__estimator=SVC(), clf__estimator__C=0.1, clf__estimator__gamma=0.5, clf__estimator__kernel=rbf;, score=(train=0.000, test=0.000) total time= 1.7min\n",
      "[CV 5/5] END clf__estimator=SVC(), clf__estimator__C=0.1, clf__estimator__gamma=0.5, clf__estimator__kernel=rbf;, score=(train=0.000, test=0.000) total time= 1.7min\n",
      "[CV 1/5] END clf__estimator=SVC(), clf__estimator__C=0.1, clf__estimator__gamma=1, clf__estimator__kernel=rbf;, score=(train=0.669, test=0.658) total time= 1.7min\n",
      "[CV 3/5] END clf__estimator=SVC(), clf__estimator__C=0.1, clf__estimator__gamma=0.5, clf__estimator__kernel=rbf;, score=(train=0.668, test=0.662) total time= 1.7min\n",
      "[CV 2/5] END clf__estimator=SVC(), clf__estimator__C=0.1, clf__estimator__gamma=1, clf__estimator__kernel=rbf;, score=(train=0.669, test=0.658) total time= 1.7min\n",
      "[CV 3/5] END clf__estimator=SVC(), clf__estimator__C=0.1, clf__estimator__gamma=1, clf__estimator__kernel=rbf;, score=(train=0.668, test=0.662) total time= 1.7min\n",
      "[CV 4/5] END clf__estimator=SVC(), clf__estimator__C=0.1, clf__estimator__gamma=1, clf__estimator__kernel=rbf;, score=(train=0.000, test=0.000) total time= 1.7min\n",
      "[CV 5/5] END clf__estimator=SVC(), clf__estimator__C=0.1, clf__estimator__gamma=1, clf__estimator__kernel=rbf;, score=(train=0.000, test=0.000) total time= 1.6min\n",
      "[CV 1/5] END clf__estimator=SVC(), clf__estimator__C=0.1, clf__estimator__gamma=2, clf__estimator__kernel=rbf;, score=(train=0.669, test=0.658) total time= 1.6min\n",
      "[CV 4/5] END clf__estimator=SVC(), clf__estimator__C=0.1, clf__estimator__gamma=2, clf__estimator__kernel=rbf;, score=(train=0.000, test=0.000) total time= 1.6min\n",
      "[CV 2/5] END clf__estimator=SVC(), clf__estimator__C=0.1, clf__estimator__gamma=2, clf__estimator__kernel=rbf;, score=(train=0.669, test=0.658) total time= 1.6min\n",
      "[CV 3/5] END clf__estimator=SVC(), clf__estimator__C=0.1, clf__estimator__gamma=2, clf__estimator__kernel=rbf;, score=(train=0.668, test=0.662) total time= 1.6min\n",
      "[CV 1/5] END clf__estimator=SVC(), clf__estimator__C=0.5, clf__estimator__gamma=0.01, clf__estimator__kernel=rbf;, score=(train=0.987, test=0.674) total time= 1.7min\n",
      "[CV 5/5] END clf__estimator=SVC(), clf__estimator__C=0.1, clf__estimator__gamma=2, clf__estimator__kernel=rbf;, score=(train=0.000, test=0.000) total time= 1.7min\n",
      "[CV 5/5] END clf__estimator=SVC(), clf__estimator__C=0.5, clf__estimator__gamma=0.01, clf__estimator__kernel=rbf;, score=(train=0.993, test=0.043) total time= 1.7min\n",
      "[CV 4/5] END clf__estimator=SVC(), clf__estimator__C=0.5, clf__estimator__gamma=0.01, clf__estimator__kernel=rbf;, score=(train=0.992, test=0.040) total time= 1.7min\n",
      "[CV 3/5] END clf__estimator=SVC(), clf__estimator__C=0.5, clf__estimator__gamma=0.01, clf__estimator__kernel=rbf;, score=(train=0.993, test=0.683) total time= 1.7min\n",
      "[CV 2/5] END clf__estimator=SVC(), clf__estimator__C=0.5, clf__estimator__gamma=0.01, clf__estimator__kernel=rbf;, score=(train=0.987, test=0.677) total time= 1.7min\n",
      "[CV 1/5] END clf__estimator=SVC(), clf__estimator__C=0.5, clf__estimator__gamma=0.1, clf__estimator__kernel=rbf;, score=(train=0.690, test=0.658) total time= 1.8min\n",
      "[CV 2/5] END clf__estimator=SVC(), clf__estimator__C=0.5, clf__estimator__gamma=0.1, clf__estimator__kernel=rbf;, score=(train=0.688, test=0.658) total time= 1.8min\n",
      "[CV 3/5] END clf__estimator=SVC(), clf__estimator__C=0.5, clf__estimator__gamma=0.1, clf__estimator__kernel=rbf;, score=(train=0.686, test=0.662) total time= 1.8min\n",
      "[CV 1/5] END clf__estimator=SVC(), clf__estimator__C=0.5, clf__estimator__gamma=0.5, clf__estimator__kernel=rbf;, score=(train=0.689, test=0.658) total time= 1.8min\n",
      "[CV 5/5] END clf__estimator=SVC(), clf__estimator__C=0.5, clf__estimator__gamma=0.1, clf__estimator__kernel=rbf;, score=(train=0.998, test=0.010) total time= 1.8min\n",
      "[CV 4/5] END clf__estimator=SVC(), clf__estimator__C=0.5, clf__estimator__gamma=0.1, clf__estimator__kernel=rbf;, score=(train=0.998, test=0.013) total time= 1.8min\n",
      "[CV 2/5] END clf__estimator=SVC(), clf__estimator__C=0.5, clf__estimator__gamma=0.5, clf__estimator__kernel=rbf;, score=(train=0.688, test=0.658) total time= 1.5min\n",
      "[CV 3/5] END clf__estimator=SVC(), clf__estimator__C=0.5, clf__estimator__gamma=0.5, clf__estimator__kernel=rbf;, score=(train=0.686, test=0.662) total time= 1.5min\n",
      "[CV 4/5] END clf__estimator=SVC(), clf__estimator__C=0.5, clf__estimator__gamma=0.5, clf__estimator__kernel=rbf;, score=(train=1.000, test=0.007) total time= 1.5min\n",
      "[CV 1/5] END clf__estimator=SVC(), clf__estimator__C=0.5, clf__estimator__gamma=1, clf__estimator__kernel=rbf;, score=(train=0.689, test=0.658) total time= 1.5min\n",
      "[CV 5/5] END clf__estimator=SVC(), clf__estimator__C=0.5, clf__estimator__gamma=0.5, clf__estimator__kernel=rbf;, score=(train=1.000, test=0.007) total time= 1.5min\n",
      "[CV 2/5] END clf__estimator=SVC(), clf__estimator__C=0.5, clf__estimator__gamma=1, clf__estimator__kernel=rbf;, score=(train=0.688, test=0.659) total time= 1.5min\n",
      "[CV 3/5] END clf__estimator=SVC(), clf__estimator__C=0.5, clf__estimator__gamma=1, clf__estimator__kernel=rbf;, score=(train=0.686, test=0.662) total time= 1.5min\n",
      "[CV 4/5] END clf__estimator=SVC(), clf__estimator__C=0.5, clf__estimator__gamma=1, clf__estimator__kernel=rbf;, score=(train=1.000, test=0.007) total time= 1.4min\n",
      "[CV 5/5] END clf__estimator=SVC(), clf__estimator__C=0.5, clf__estimator__gamma=1, clf__estimator__kernel=rbf;, score=(train=1.000, test=0.003) total time= 1.4min\n",
      "[CV 1/5] END clf__estimator=SVC(), clf__estimator__C=0.5, clf__estimator__gamma=2, clf__estimator__kernel=rbf;, score=(train=0.689, test=0.658) total time= 1.4min\n",
      "[CV 2/5] END clf__estimator=SVC(), clf__estimator__C=0.5, clf__estimator__gamma=2, clf__estimator__kernel=rbf;, score=(train=0.688, test=0.659) total time= 1.4min\n",
      "[CV 3/5] END clf__estimator=SVC(), clf__estimator__C=0.5, clf__estimator__gamma=2, clf__estimator__kernel=rbf;, score=(train=0.686, test=0.662) total time= 1.4min\n",
      "[CV 4/5] END clf__estimator=SVC(), clf__estimator__C=0.5, clf__estimator__gamma=2, clf__estimator__kernel=rbf;, score=(train=1.000, test=0.003) total time= 1.5min\n",
      "[CV 5/5] END clf__estimator=SVC(), clf__estimator__C=0.5, clf__estimator__gamma=2, clf__estimator__kernel=rbf;, score=(train=1.000, test=0.003) total time= 1.5min\n",
      "[CV 1/5] END clf__estimator=SVC(), clf__estimator__C=1, clf__estimator__gamma=0.01, clf__estimator__kernel=rbf;, score=(train=0.996, test=0.669) total time= 1.5min\n",
      "[CV 3/5] END clf__estimator=SVC(), clf__estimator__C=1, clf__estimator__gamma=0.01, clf__estimator__kernel=rbf;, score=(train=0.995, test=0.685) total time= 1.5min\n",
      "[CV 2/5] END clf__estimator=SVC(), clf__estimator__C=1, clf__estimator__gamma=0.01, clf__estimator__kernel=rbf;, score=(train=0.996, test=0.677) total time= 1.5min\n",
      "[CV 4/5] END clf__estimator=SVC(), clf__estimator__C=1, clf__estimator__gamma=0.01, clf__estimator__kernel=rbf;, score=(train=0.995, test=0.693) total time= 1.5min\n",
      "[CV 5/5] END clf__estimator=SVC(), clf__estimator__C=1, clf__estimator__gamma=0.01, clf__estimator__kernel=rbf;, score=(train=0.995, test=0.699) total time= 1.5min\n",
      "[CV 1/5] END clf__estimator=SVC(), clf__estimator__C=1, clf__estimator__gamma=0.1, clf__estimator__kernel=rbf;, score=(train=0.998, test=0.676) total time= 1.5min\n",
      "[CV 2/5] END clf__estimator=SVC(), clf__estimator__C=1, clf__estimator__gamma=0.1, clf__estimator__kernel=rbf;, score=(train=1.000, test=0.674) total time= 1.5min\n",
      "[CV 4/5] END clf__estimator=SVC(), clf__estimator__C=1, clf__estimator__gamma=0.1, clf__estimator__kernel=rbf;, score=(train=0.998, test=0.698) total time= 1.5min\n",
      "[CV 3/5] END clf__estimator=SVC(), clf__estimator__C=1, clf__estimator__gamma=0.1, clf__estimator__kernel=rbf;, score=(train=0.999, test=0.680) total time= 1.5min\n",
      "[CV 5/5] END clf__estimator=SVC(), clf__estimator__C=1, clf__estimator__gamma=0.1, clf__estimator__kernel=rbf;, score=(train=0.998, test=0.697) total time= 1.5min\n",
      "[CV 1/5] END clf__estimator=SVC(), clf__estimator__C=1, clf__estimator__gamma=0.5, clf__estimator__kernel=rbf;, score=(train=1.000, test=0.675) total time= 1.5min\n",
      "[CV 2/5] END clf__estimator=SVC(), clf__estimator__C=1, clf__estimator__gamma=0.5, clf__estimator__kernel=rbf;, score=(train=1.000, test=0.675) total time= 1.5min\n",
      "[CV 3/5] END clf__estimator=SVC(), clf__estimator__C=1, clf__estimator__gamma=0.5, clf__estimator__kernel=rbf;, score=(train=1.000, test=0.680) total time= 1.5min\n",
      "[CV 4/5] END clf__estimator=SVC(), clf__estimator__C=1, clf__estimator__gamma=0.5, clf__estimator__kernel=rbf;, score=(train=1.000, test=0.700) total time= 1.5min\n",
      "[CV 5/5] END clf__estimator=SVC(), clf__estimator__C=1, clf__estimator__gamma=0.5, clf__estimator__kernel=rbf;, score=(train=1.000, test=0.696) total time= 1.5min\n",
      "[CV 1/5] END clf__estimator=SVC(), clf__estimator__C=1, clf__estimator__gamma=1, clf__estimator__kernel=rbf;, score=(train=1.000, test=0.676) total time= 1.5min\n",
      "[CV 2/5] END clf__estimator=SVC(), clf__estimator__C=1, clf__estimator__gamma=1, clf__estimator__kernel=rbf;, score=(train=1.000, test=0.676) total time= 1.5min\n",
      "[CV 3/5] END clf__estimator=SVC(), clf__estimator__C=1, clf__estimator__gamma=1, clf__estimator__kernel=rbf;, score=(train=1.000, test=0.681) total time= 1.5min\n",
      "[CV 4/5] END clf__estimator=SVC(), clf__estimator__C=1, clf__estimator__gamma=1, clf__estimator__kernel=rbf;, score=(train=1.000, test=0.700) total time= 1.4min\n",
      "[CV 5/5] END clf__estimator=SVC(), clf__estimator__C=1, clf__estimator__gamma=1, clf__estimator__kernel=rbf;, score=(train=1.000, test=0.696) total time= 1.4min\n",
      "[CV 2/5] END clf__estimator=SVC(), clf__estimator__C=1, clf__estimator__gamma=2, clf__estimator__kernel=rbf;, score=(train=1.000, test=0.676) total time= 1.4min\n",
      "[CV 1/5] END clf__estimator=SVC(), clf__estimator__C=1, clf__estimator__gamma=2, clf__estimator__kernel=rbf;, score=(train=1.000, test=0.675) total time= 1.4min\n",
      "[CV 3/5] END clf__estimator=SVC(), clf__estimator__C=1, clf__estimator__gamma=2, clf__estimator__kernel=rbf;, score=(train=1.000, test=0.681) total time=  43.6s\n",
      "[CV 4/5] END clf__estimator=SVC(), clf__estimator__C=1, clf__estimator__gamma=2, clf__estimator__kernel=rbf;, score=(train=1.000, test=0.700) total time=  42.5s\n",
      "[CV 5/5] END clf__estimator=SVC(), clf__estimator__C=1, clf__estimator__gamma=2, clf__estimator__kernel=rbf;, score=(train=1.000, test=0.696) total time=  41.3s\n"
     ]
    },
    {
     "data": {
      "text/plain": [
       "GridSearchCV(cv=5,\n",
       "             estimator=Pipeline(steps=[('quant',\n",
       "                                        QuantileTransformer(random_state=0)),\n",
       "                                       ('stscale', StandardScaler()),\n",
       "                                       ('clf', ClfSwitcher())]),\n",
       "             n_jobs=12,\n",
       "             param_grid=[{},\n",
       "                         {'clf__estimator': [SVC(C=1, gamma=1)],\n",
       "                          'clf__estimator__C': [0.1, 0.5, 1],\n",
       "                          'clf__estimator__gamma': [0.01, 0.1, 0.5, 1, 2],\n",
       "                          'clf__estimator__kernel': ['rbf']}],\n",
       "             return_train_score=True, scoring=make_scorer(fbeta_score, beta=1),\n",
       "             verbose=3)"
      ]
     },
     "execution_count": 34,
     "metadata": {},
     "output_type": "execute_result"
    }
   ],
   "source": [
    "pipeline = Pipeline([\n",
    "    ('quant', QuantileTransformer(random_state=0)), \n",
    "    ('stscale',StandardScaler()),\n",
    "    ('clf', ClfSwitcher()),\n",
    "])\n",
    "\n",
    "# set up the different models like hyperparameters\n",
    "# list_of_clf = [LogisticRegression(), KNeighborsClassifier(), SVC(), DecisionTreeClassifier(random_state=42)]\n",
    "\n",
    "parameters = [\n",
    "#    {\n",
    "#        'clf__estimator': [SGDClassifier()], \n",
    "#        'clf__estimator__penalty': ('l2'), # , 'elasticnet', 'l1'\n",
    "#    },    \n",
    "    #{\n",
    "    #    'clf__estimator': [DecisionTreeClassifier(random_state=42)], \n",
    "    #},    \n",
    "    {\n",
    "        # 'clf__estimator': [KNeighborsClassifier()], #n_neighbors=3, p=1\n",
    "        # 'clf__estimator__p': [1],\n",
    "        # 'clf__estimator__n_neighbors': [3],\n",
    "    },\n",
    "#    {\n",
    "#        'clf__estimator': [LogisticRegression()], \n",
    "#        'clf__estimator__penalty': ('l2'),\n",
    "#    },\n",
    "    # {\n",
    "    #     'clf__estimator': [LinearSVC()], \n",
    "    #     'clf__estimator__penalty': ['l2'],\n",
    "    #     'clf__estimator__loss': ['hinge'], #,'squared_hinge'], # , \n",
    "    #     'clf__estimator__C': [1e-3], #, 1e-2], # 1e-4, 1\n",
    "    # #    'clf__estimator__dual': ['False']\n",
    "    # },\n",
    "    {\n",
    "        'clf__estimator': [SVC()], \n",
    "        'clf__estimator__kernel': ['rbf'], #, 'sigmoid'], #'linear', ,'poly'\n",
    "        'clf__estimator__C': [ 0.1, 0.5, 1], # 0.1, 1, \n",
    "        'clf__estimator__gamma': [0.01, 0.1, 0.5, 1, 2] #, 'auto', 'scale']\n",
    "    },\n",
    "    # { just gives nan, can't handle negative data\n",
    "    #     'clf__estimator': [MultinomialNB()], \n",
    "    # },\n",
    "]\n",
    "\n",
    "gscv = GridSearchCV(pipeline, parameters, cv=5, n_jobs=12, return_train_score=True, verbose=3,\n",
    "                    scoring=fbeta_scorer)\n",
    "gscv.fit(X_train, y_train)"
   ]
  },
  {
   "cell_type": "markdown",
   "metadata": {},
   "source": [
    "#### Notes:\n",
    "- check the output of the QuantileTransformer, does it make distributions uniform?\n",
    "- need to deal with overfitting\n",
    "- "
   ]
  },
  {
   "cell_type": "code",
   "execution_count": 35,
   "metadata": {},
   "outputs": [
    {
     "data": {
      "text/html": [
       "<div>\n",
       "<style scoped>\n",
       "    .dataframe tbody tr th:only-of-type {\n",
       "        vertical-align: middle;\n",
       "    }\n",
       "\n",
       "    .dataframe tbody tr th {\n",
       "        vertical-align: top;\n",
       "    }\n",
       "\n",
       "    .dataframe thead th {\n",
       "        text-align: right;\n",
       "    }\n",
       "</style>\n",
       "<table border=\"1\" class=\"dataframe\">\n",
       "  <thead>\n",
       "    <tr style=\"text-align: right;\">\n",
       "      <th></th>\n",
       "      <th>mean_fit_time</th>\n",
       "      <th>std_fit_time</th>\n",
       "      <th>mean_score_time</th>\n",
       "      <th>std_score_time</th>\n",
       "      <th>param_clf__estimator</th>\n",
       "      <th>param_clf__estimator__C</th>\n",
       "      <th>param_clf__estimator__gamma</th>\n",
       "      <th>param_clf__estimator__kernel</th>\n",
       "      <th>params</th>\n",
       "      <th>split0_test_score</th>\n",
       "      <th>...</th>\n",
       "      <th>mean_test_score</th>\n",
       "      <th>std_test_score</th>\n",
       "      <th>rank_test_score</th>\n",
       "      <th>split0_train_score</th>\n",
       "      <th>split1_train_score</th>\n",
       "      <th>split2_train_score</th>\n",
       "      <th>split3_train_score</th>\n",
       "      <th>split4_train_score</th>\n",
       "      <th>mean_train_score</th>\n",
       "      <th>std_train_score</th>\n",
       "    </tr>\n",
       "  </thead>\n",
       "  <tbody>\n",
       "    <tr>\n",
       "      <th>0</th>\n",
       "      <td>4.410976</td>\n",
       "      <td>0.120450</td>\n",
       "      <td>2.414466</td>\n",
       "      <td>0.077320</td>\n",
       "      <td>NaN</td>\n",
       "      <td>NaN</td>\n",
       "      <td>NaN</td>\n",
       "      <td>NaN</td>\n",
       "      <td>{}</td>\n",
       "      <td>0.631300</td>\n",
       "      <td>...</td>\n",
       "      <td>0.647827</td>\n",
       "      <td>0.027727</td>\n",
       "      <td>6</td>\n",
       "      <td>0.781645</td>\n",
       "      <td>0.773246</td>\n",
       "      <td>0.779737</td>\n",
       "      <td>0.776333</td>\n",
       "      <td>0.775647</td>\n",
       "      <td>0.777321</td>\n",
       "      <td>0.002997</td>\n",
       "    </tr>\n",
       "    <tr>\n",
       "      <th>1</th>\n",
       "      <td>67.086057</td>\n",
       "      <td>0.250775</td>\n",
       "      <td>19.193440</td>\n",
       "      <td>0.197374</td>\n",
       "      <td>SVC(C=1, gamma=1)</td>\n",
       "      <td>0.1</td>\n",
       "      <td>0.01</td>\n",
       "      <td>rbf</td>\n",
       "      <td>{'clf__estimator': SVC(C=1, gamma=1), 'clf__es...</td>\n",
       "      <td>0.658378</td>\n",
       "      <td>...</td>\n",
       "      <td>0.398270</td>\n",
       "      <td>0.319568</td>\n",
       "      <td>10</td>\n",
       "      <td>0.668625</td>\n",
       "      <td>0.668821</td>\n",
       "      <td>0.667842</td>\n",
       "      <td>0.000000</td>\n",
       "      <td>0.026008</td>\n",
       "      <td>0.406259</td>\n",
       "      <td>0.321197</td>\n",
       "    </tr>\n",
       "    <tr>\n",
       "      <th>2</th>\n",
       "      <td>69.131653</td>\n",
       "      <td>1.463504</td>\n",
       "      <td>19.222370</td>\n",
       "      <td>0.225419</td>\n",
       "      <td>SVC(C=1, gamma=1)</td>\n",
       "      <td>0.1</td>\n",
       "      <td>0.1</td>\n",
       "      <td>rbf</td>\n",
       "      <td>{'clf__estimator': SVC(C=1, gamma=1), 'clf__es...</td>\n",
       "      <td>0.658378</td>\n",
       "      <td>...</td>\n",
       "      <td>0.395502</td>\n",
       "      <td>0.322928</td>\n",
       "      <td>13</td>\n",
       "      <td>0.668625</td>\n",
       "      <td>0.668821</td>\n",
       "      <td>0.667842</td>\n",
       "      <td>0.000000</td>\n",
       "      <td>0.000000</td>\n",
       "      <td>0.401058</td>\n",
       "      <td>0.327462</td>\n",
       "    </tr>\n",
       "    <tr>\n",
       "      <th>3</th>\n",
       "      <td>76.578569</td>\n",
       "      <td>5.583073</td>\n",
       "      <td>19.282846</td>\n",
       "      <td>0.343073</td>\n",
       "      <td>SVC(C=1, gamma=1)</td>\n",
       "      <td>0.1</td>\n",
       "      <td>0.5</td>\n",
       "      <td>rbf</td>\n",
       "      <td>{'clf__estimator': SVC(C=1, gamma=1), 'clf__es...</td>\n",
       "      <td>0.658378</td>\n",
       "      <td>...</td>\n",
       "      <td>0.395502</td>\n",
       "      <td>0.322928</td>\n",
       "      <td>13</td>\n",
       "      <td>0.668625</td>\n",
       "      <td>0.668821</td>\n",
       "      <td>0.667842</td>\n",
       "      <td>0.000000</td>\n",
       "      <td>0.000000</td>\n",
       "      <td>0.401058</td>\n",
       "      <td>0.327462</td>\n",
       "    </tr>\n",
       "    <tr>\n",
       "      <th>4</th>\n",
       "      <td>80.717927</td>\n",
       "      <td>0.852776</td>\n",
       "      <td>18.853193</td>\n",
       "      <td>0.222486</td>\n",
       "      <td>SVC(C=1, gamma=1)</td>\n",
       "      <td>0.1</td>\n",
       "      <td>1</td>\n",
       "      <td>rbf</td>\n",
       "      <td>{'clf__estimator': SVC(C=1, gamma=1), 'clf__es...</td>\n",
       "      <td>0.658378</td>\n",
       "      <td>...</td>\n",
       "      <td>0.395502</td>\n",
       "      <td>0.322928</td>\n",
       "      <td>13</td>\n",
       "      <td>0.668625</td>\n",
       "      <td>0.668821</td>\n",
       "      <td>0.667842</td>\n",
       "      <td>0.000000</td>\n",
       "      <td>0.000000</td>\n",
       "      <td>0.401058</td>\n",
       "      <td>0.327462</td>\n",
       "    </tr>\n",
       "    <tr>\n",
       "      <th>5</th>\n",
       "      <td>76.899719</td>\n",
       "      <td>2.800775</td>\n",
       "      <td>21.057520</td>\n",
       "      <td>4.337112</td>\n",
       "      <td>SVC(C=1, gamma=1)</td>\n",
       "      <td>0.1</td>\n",
       "      <td>2</td>\n",
       "      <td>rbf</td>\n",
       "      <td>{'clf__estimator': SVC(C=1, gamma=1), 'clf__es...</td>\n",
       "      <td>0.658378</td>\n",
       "      <td>...</td>\n",
       "      <td>0.395502</td>\n",
       "      <td>0.322928</td>\n",
       "      <td>13</td>\n",
       "      <td>0.668625</td>\n",
       "      <td>0.668821</td>\n",
       "      <td>0.667842</td>\n",
       "      <td>0.000000</td>\n",
       "      <td>0.000000</td>\n",
       "      <td>0.401058</td>\n",
       "      <td>0.327462</td>\n",
       "    </tr>\n",
       "    <tr>\n",
       "      <th>6</th>\n",
       "      <td>72.841539</td>\n",
       "      <td>0.249419</td>\n",
       "      <td>30.575827</td>\n",
       "      <td>0.429574</td>\n",
       "      <td>SVC(C=1, gamma=1)</td>\n",
       "      <td>0.5</td>\n",
       "      <td>0.01</td>\n",
       "      <td>rbf</td>\n",
       "      <td>{'clf__estimator': SVC(C=1, gamma=1), 'clf__es...</td>\n",
       "      <td>0.673581</td>\n",
       "      <td>...</td>\n",
       "      <td>0.423477</td>\n",
       "      <td>0.311841</td>\n",
       "      <td>7</td>\n",
       "      <td>0.986962</td>\n",
       "      <td>0.987188</td>\n",
       "      <td>0.992563</td>\n",
       "      <td>0.991761</td>\n",
       "      <td>0.992726</td>\n",
       "      <td>0.990240</td>\n",
       "      <td>0.002606</td>\n",
       "    </tr>\n",
       "    <tr>\n",
       "      <th>7</th>\n",
       "      <td>82.190671</td>\n",
       "      <td>4.100097</td>\n",
       "      <td>26.833599</td>\n",
       "      <td>2.181076</td>\n",
       "      <td>SVC(C=1, gamma=1)</td>\n",
       "      <td>0.5</td>\n",
       "      <td>0.1</td>\n",
       "      <td>rbf</td>\n",
       "      <td>{'clf__estimator': SVC(C=1, gamma=1), 'clf__es...</td>\n",
       "      <td>0.658378</td>\n",
       "      <td>...</td>\n",
       "      <td>0.400501</td>\n",
       "      <td>0.317279</td>\n",
       "      <td>8</td>\n",
       "      <td>0.689592</td>\n",
       "      <td>0.688435</td>\n",
       "      <td>0.686198</td>\n",
       "      <td>0.998441</td>\n",
       "      <td>0.998234</td>\n",
       "      <td>0.812180</td>\n",
       "      <td>0.152001</td>\n",
       "    </tr>\n",
       "    <tr>\n",
       "      <th>8</th>\n",
       "      <td>73.816134</td>\n",
       "      <td>4.485265</td>\n",
       "      <td>19.465790</td>\n",
       "      <td>2.926920</td>\n",
       "      <td>SVC(C=1, gamma=1)</td>\n",
       "      <td>0.5</td>\n",
       "      <td>0.5</td>\n",
       "      <td>rbf</td>\n",
       "      <td>{'clf__estimator': SVC(C=1, gamma=1), 'clf__es...</td>\n",
       "      <td>0.658378</td>\n",
       "      <td>...</td>\n",
       "      <td>0.398480</td>\n",
       "      <td>0.319752</td>\n",
       "      <td>9</td>\n",
       "      <td>0.688862</td>\n",
       "      <td>0.687812</td>\n",
       "      <td>0.685680</td>\n",
       "      <td>0.999777</td>\n",
       "      <td>1.000000</td>\n",
       "      <td>0.812426</td>\n",
       "      <td>0.153066</td>\n",
       "    </tr>\n",
       "    <tr>\n",
       "      <th>9</th>\n",
       "      <td>70.701427</td>\n",
       "      <td>0.984842</td>\n",
       "      <td>17.089554</td>\n",
       "      <td>0.620644</td>\n",
       "      <td>SVC(C=1, gamma=1)</td>\n",
       "      <td>0.5</td>\n",
       "      <td>1</td>\n",
       "      <td>rbf</td>\n",
       "      <td>{'clf__estimator': SVC(C=1, gamma=1), 'clf__es...</td>\n",
       "      <td>0.658378</td>\n",
       "      <td>...</td>\n",
       "      <td>0.397943</td>\n",
       "      <td>0.320737</td>\n",
       "      <td>11</td>\n",
       "      <td>0.688966</td>\n",
       "      <td>0.687915</td>\n",
       "      <td>0.685680</td>\n",
       "      <td>1.000000</td>\n",
       "      <td>1.000000</td>\n",
       "      <td>0.812512</td>\n",
       "      <td>0.153087</td>\n",
       "    </tr>\n",
       "    <tr>\n",
       "      <th>10</th>\n",
       "      <td>69.809142</td>\n",
       "      <td>0.406040</td>\n",
       "      <td>17.629014</td>\n",
       "      <td>1.565908</td>\n",
       "      <td>SVC(C=1, gamma=1)</td>\n",
       "      <td>0.5</td>\n",
       "      <td>2</td>\n",
       "      <td>rbf</td>\n",
       "      <td>{'clf__estimator': SVC(C=1, gamma=1), 'clf__es...</td>\n",
       "      <td>0.658378</td>\n",
       "      <td>...</td>\n",
       "      <td>0.397268</td>\n",
       "      <td>0.321561</td>\n",
       "      <td>12</td>\n",
       "      <td>0.688966</td>\n",
       "      <td>0.687915</td>\n",
       "      <td>0.685680</td>\n",
       "      <td>1.000000</td>\n",
       "      <td>1.000000</td>\n",
       "      <td>0.812512</td>\n",
       "      <td>0.153087</td>\n",
       "    </tr>\n",
       "    <tr>\n",
       "      <th>11</th>\n",
       "      <td>72.312497</td>\n",
       "      <td>0.243051</td>\n",
       "      <td>18.650542</td>\n",
       "      <td>0.112896</td>\n",
       "      <td>SVC(C=1, gamma=1)</td>\n",
       "      <td>1</td>\n",
       "      <td>0.01</td>\n",
       "      <td>rbf</td>\n",
       "      <td>{'clf__estimator': SVC(C=1, gamma=1), 'clf__es...</td>\n",
       "      <td>0.669145</td>\n",
       "      <td>...</td>\n",
       "      <td>0.684863</td>\n",
       "      <td>0.010726</td>\n",
       "      <td>4</td>\n",
       "      <td>0.995626</td>\n",
       "      <td>0.996497</td>\n",
       "      <td>0.995180</td>\n",
       "      <td>0.994664</td>\n",
       "      <td>0.995375</td>\n",
       "      <td>0.995468</td>\n",
       "      <td>0.000604</td>\n",
       "    </tr>\n",
       "    <tr>\n",
       "      <th>12</th>\n",
       "      <td>71.932984</td>\n",
       "      <td>0.199871</td>\n",
       "      <td>17.322167</td>\n",
       "      <td>0.131532</td>\n",
       "      <td>SVC(C=1, gamma=1)</td>\n",
       "      <td>1</td>\n",
       "      <td>0.1</td>\n",
       "      <td>rbf</td>\n",
       "      <td>{'clf__estimator': SVC(C=1, gamma=1), 'clf__es...</td>\n",
       "      <td>0.675577</td>\n",
       "      <td>...</td>\n",
       "      <td>0.684793</td>\n",
       "      <td>0.010489</td>\n",
       "      <td>5</td>\n",
       "      <td>0.998465</td>\n",
       "      <td>0.999780</td>\n",
       "      <td>0.998681</td>\n",
       "      <td>0.998441</td>\n",
       "      <td>0.998454</td>\n",
       "      <td>0.998764</td>\n",
       "      <td>0.000516</td>\n",
       "    </tr>\n",
       "    <tr>\n",
       "      <th>13</th>\n",
       "      <td>69.287851</td>\n",
       "      <td>0.438471</td>\n",
       "      <td>18.926433</td>\n",
       "      <td>0.378143</td>\n",
       "      <td>SVC(C=1, gamma=1)</td>\n",
       "      <td>1</td>\n",
       "      <td>0.5</td>\n",
       "      <td>rbf</td>\n",
       "      <td>{'clf__estimator': SVC(C=1, gamma=1), 'clf__es...</td>\n",
       "      <td>0.675182</td>\n",
       "      <td>...</td>\n",
       "      <td>0.685329</td>\n",
       "      <td>0.010684</td>\n",
       "      <td>3</td>\n",
       "      <td>1.000000</td>\n",
       "      <td>1.000000</td>\n",
       "      <td>0.999780</td>\n",
       "      <td>1.000000</td>\n",
       "      <td>1.000000</td>\n",
       "      <td>0.999956</td>\n",
       "      <td>0.000088</td>\n",
       "    </tr>\n",
       "    <tr>\n",
       "      <th>14</th>\n",
       "      <td>70.025676</td>\n",
       "      <td>0.387611</td>\n",
       "      <td>17.261326</td>\n",
       "      <td>0.589399</td>\n",
       "      <td>SVC(C=1, gamma=1)</td>\n",
       "      <td>1</td>\n",
       "      <td>1</td>\n",
       "      <td>rbf</td>\n",
       "      <td>{'clf__estimator': SVC(C=1, gamma=1), 'clf__es...</td>\n",
       "      <td>0.675988</td>\n",
       "      <td>...</td>\n",
       "      <td>0.685734</td>\n",
       "      <td>0.010334</td>\n",
       "      <td>1</td>\n",
       "      <td>1.000000</td>\n",
       "      <td>1.000000</td>\n",
       "      <td>1.000000</td>\n",
       "      <td>1.000000</td>\n",
       "      <td>1.000000</td>\n",
       "      <td>1.000000</td>\n",
       "      <td>0.000000</td>\n",
       "    </tr>\n",
       "    <tr>\n",
       "      <th>15</th>\n",
       "      <td>48.502982</td>\n",
       "      <td>17.289547</td>\n",
       "      <td>11.531953</td>\n",
       "      <td>4.272303</td>\n",
       "      <td>SVC(C=1, gamma=1)</td>\n",
       "      <td>1</td>\n",
       "      <td>2</td>\n",
       "      <td>rbf</td>\n",
       "      <td>{'clf__estimator': SVC(C=1, gamma=1), 'clf__es...</td>\n",
       "      <td>0.675182</td>\n",
       "      <td>...</td>\n",
       "      <td>0.685573</td>\n",
       "      <td>0.010490</td>\n",
       "      <td>2</td>\n",
       "      <td>1.000000</td>\n",
       "      <td>1.000000</td>\n",
       "      <td>1.000000</td>\n",
       "      <td>1.000000</td>\n",
       "      <td>1.000000</td>\n",
       "      <td>1.000000</td>\n",
       "      <td>0.000000</td>\n",
       "    </tr>\n",
       "  </tbody>\n",
       "</table>\n",
       "<p>16 rows × 24 columns</p>\n",
       "</div>"
      ],
      "text/plain": [
       "    mean_fit_time  std_fit_time  mean_score_time  std_score_time  \\\n",
       "0        4.410976      0.120450         2.414466        0.077320   \n",
       "1       67.086057      0.250775        19.193440        0.197374   \n",
       "2       69.131653      1.463504        19.222370        0.225419   \n",
       "3       76.578569      5.583073        19.282846        0.343073   \n",
       "4       80.717927      0.852776        18.853193        0.222486   \n",
       "5       76.899719      2.800775        21.057520        4.337112   \n",
       "6       72.841539      0.249419        30.575827        0.429574   \n",
       "7       82.190671      4.100097        26.833599        2.181076   \n",
       "8       73.816134      4.485265        19.465790        2.926920   \n",
       "9       70.701427      0.984842        17.089554        0.620644   \n",
       "10      69.809142      0.406040        17.629014        1.565908   \n",
       "11      72.312497      0.243051        18.650542        0.112896   \n",
       "12      71.932984      0.199871        17.322167        0.131532   \n",
       "13      69.287851      0.438471        18.926433        0.378143   \n",
       "14      70.025676      0.387611        17.261326        0.589399   \n",
       "15      48.502982     17.289547        11.531953        4.272303   \n",
       "\n",
       "   param_clf__estimator param_clf__estimator__C param_clf__estimator__gamma  \\\n",
       "0                   NaN                     NaN                         NaN   \n",
       "1     SVC(C=1, gamma=1)                     0.1                        0.01   \n",
       "2     SVC(C=1, gamma=1)                     0.1                         0.1   \n",
       "3     SVC(C=1, gamma=1)                     0.1                         0.5   \n",
       "4     SVC(C=1, gamma=1)                     0.1                           1   \n",
       "5     SVC(C=1, gamma=1)                     0.1                           2   \n",
       "6     SVC(C=1, gamma=1)                     0.5                        0.01   \n",
       "7     SVC(C=1, gamma=1)                     0.5                         0.1   \n",
       "8     SVC(C=1, gamma=1)                     0.5                         0.5   \n",
       "9     SVC(C=1, gamma=1)                     0.5                           1   \n",
       "10    SVC(C=1, gamma=1)                     0.5                           2   \n",
       "11    SVC(C=1, gamma=1)                       1                        0.01   \n",
       "12    SVC(C=1, gamma=1)                       1                         0.1   \n",
       "13    SVC(C=1, gamma=1)                       1                         0.5   \n",
       "14    SVC(C=1, gamma=1)                       1                           1   \n",
       "15    SVC(C=1, gamma=1)                       1                           2   \n",
       "\n",
       "   param_clf__estimator__kernel  \\\n",
       "0                           NaN   \n",
       "1                           rbf   \n",
       "2                           rbf   \n",
       "3                           rbf   \n",
       "4                           rbf   \n",
       "5                           rbf   \n",
       "6                           rbf   \n",
       "7                           rbf   \n",
       "8                           rbf   \n",
       "9                           rbf   \n",
       "10                          rbf   \n",
       "11                          rbf   \n",
       "12                          rbf   \n",
       "13                          rbf   \n",
       "14                          rbf   \n",
       "15                          rbf   \n",
       "\n",
       "                                               params  split0_test_score  ...  \\\n",
       "0                                                  {}           0.631300  ...   \n",
       "1   {'clf__estimator': SVC(C=1, gamma=1), 'clf__es...           0.658378  ...   \n",
       "2   {'clf__estimator': SVC(C=1, gamma=1), 'clf__es...           0.658378  ...   \n",
       "3   {'clf__estimator': SVC(C=1, gamma=1), 'clf__es...           0.658378  ...   \n",
       "4   {'clf__estimator': SVC(C=1, gamma=1), 'clf__es...           0.658378  ...   \n",
       "5   {'clf__estimator': SVC(C=1, gamma=1), 'clf__es...           0.658378  ...   \n",
       "6   {'clf__estimator': SVC(C=1, gamma=1), 'clf__es...           0.673581  ...   \n",
       "7   {'clf__estimator': SVC(C=1, gamma=1), 'clf__es...           0.658378  ...   \n",
       "8   {'clf__estimator': SVC(C=1, gamma=1), 'clf__es...           0.658378  ...   \n",
       "9   {'clf__estimator': SVC(C=1, gamma=1), 'clf__es...           0.658378  ...   \n",
       "10  {'clf__estimator': SVC(C=1, gamma=1), 'clf__es...           0.658378  ...   \n",
       "11  {'clf__estimator': SVC(C=1, gamma=1), 'clf__es...           0.669145  ...   \n",
       "12  {'clf__estimator': SVC(C=1, gamma=1), 'clf__es...           0.675577  ...   \n",
       "13  {'clf__estimator': SVC(C=1, gamma=1), 'clf__es...           0.675182  ...   \n",
       "14  {'clf__estimator': SVC(C=1, gamma=1), 'clf__es...           0.675988  ...   \n",
       "15  {'clf__estimator': SVC(C=1, gamma=1), 'clf__es...           0.675182  ...   \n",
       "\n",
       "    mean_test_score  std_test_score  rank_test_score  split0_train_score  \\\n",
       "0          0.647827        0.027727                6            0.781645   \n",
       "1          0.398270        0.319568               10            0.668625   \n",
       "2          0.395502        0.322928               13            0.668625   \n",
       "3          0.395502        0.322928               13            0.668625   \n",
       "4          0.395502        0.322928               13            0.668625   \n",
       "5          0.395502        0.322928               13            0.668625   \n",
       "6          0.423477        0.311841                7            0.986962   \n",
       "7          0.400501        0.317279                8            0.689592   \n",
       "8          0.398480        0.319752                9            0.688862   \n",
       "9          0.397943        0.320737               11            0.688966   \n",
       "10         0.397268        0.321561               12            0.688966   \n",
       "11         0.684863        0.010726                4            0.995626   \n",
       "12         0.684793        0.010489                5            0.998465   \n",
       "13         0.685329        0.010684                3            1.000000   \n",
       "14         0.685734        0.010334                1            1.000000   \n",
       "15         0.685573        0.010490                2            1.000000   \n",
       "\n",
       "    split1_train_score  split2_train_score  split3_train_score  \\\n",
       "0             0.773246            0.779737            0.776333   \n",
       "1             0.668821            0.667842            0.000000   \n",
       "2             0.668821            0.667842            0.000000   \n",
       "3             0.668821            0.667842            0.000000   \n",
       "4             0.668821            0.667842            0.000000   \n",
       "5             0.668821            0.667842            0.000000   \n",
       "6             0.987188            0.992563            0.991761   \n",
       "7             0.688435            0.686198            0.998441   \n",
       "8             0.687812            0.685680            0.999777   \n",
       "9             0.687915            0.685680            1.000000   \n",
       "10            0.687915            0.685680            1.000000   \n",
       "11            0.996497            0.995180            0.994664   \n",
       "12            0.999780            0.998681            0.998441   \n",
       "13            1.000000            0.999780            1.000000   \n",
       "14            1.000000            1.000000            1.000000   \n",
       "15            1.000000            1.000000            1.000000   \n",
       "\n",
       "    split4_train_score  mean_train_score  std_train_score  \n",
       "0             0.775647          0.777321         0.002997  \n",
       "1             0.026008          0.406259         0.321197  \n",
       "2             0.000000          0.401058         0.327462  \n",
       "3             0.000000          0.401058         0.327462  \n",
       "4             0.000000          0.401058         0.327462  \n",
       "5             0.000000          0.401058         0.327462  \n",
       "6             0.992726          0.990240         0.002606  \n",
       "7             0.998234          0.812180         0.152001  \n",
       "8             1.000000          0.812426         0.153066  \n",
       "9             1.000000          0.812512         0.153087  \n",
       "10            1.000000          0.812512         0.153087  \n",
       "11            0.995375          0.995468         0.000604  \n",
       "12            0.998454          0.998764         0.000516  \n",
       "13            1.000000          0.999956         0.000088  \n",
       "14            1.000000          1.000000         0.000000  \n",
       "15            1.000000          1.000000         0.000000  \n",
       "\n",
       "[16 rows x 24 columns]"
      ]
     },
     "execution_count": 35,
     "metadata": {},
     "output_type": "execute_result"
    },
    {
     "data": {
      "image/png": "[encoded data removed]",
      "text/plain": [
       "<Figure size 432x288 with 1 Axes>"
      ]
     },
     "metadata": {
      "needs_background": "light"
     },
     "output_type": "display_data"
    }
   ],
   "source": [
    "df_grid = pd.DataFrame(gscv.cv_results_)\n",
    "df_grid.plot(y=['mean_test_score', 'mean_train_score'])\n",
    "df_grid"
   ]
  },
  {
   "cell_type": "markdown",
   "metadata": {},
   "source": [
    "#### Notes:\n",
    "- comparing SVC and and linearSVC with regularization\n",
    "    - SVC regularization with gamma and C now working, and results are better than linearSVC\n",
    "    - best fits (ie not overfitting, train vs test score <3% difference) are with C=0.1, 0.5 and gamma = 0.5, 1, 2\n",
    "    - GridsearchCV gives best result ast C=1 and gamma = 0.5 but this is overfitting by a wide margin (ie it's the best test score, but test score is 30% less than train score)\n",
    "- tried a few more options with SVC and found best scores for:\n",
    "    - C = 0.01, 0.1, gamma = 0.01, 0.05, 0.1, 1, 2, 5 \n",
    "    \n",
    "\n",
    "<!-- Old notes:\n",
    "- best result was 0.6832 with: {'clf__estimator': SVC(C=10), 'clf__estimator__C': 10, 'clf__estimator__kernel': 'rbf'}\n",
    "    - but this is overfitting a lot (0.99 with training and < 0.68 for test)\n",
    "    - and regularization isn't an option\n",
    "- in order to use regularization need to use LinearSVC, which does not overfit as much, but slightly lower score 0.652\n",
    "    - {'clf__estimator': LinearSVC(C=0.01, loss='hinge'), 'clf__estimator__C': 0.01, 'clf__estimator__loss': 'hinge', 'clf__estimator__penalty': 'l2'} -->"
   ]
  },
  {
   "cell_type": "markdown",
   "metadata": {},
   "source": [
    "### Set up model chosen as best : using C = 0.1"
   ]
  },
  {
   "cell_type": "code",
   "execution_count": 39,
   "metadata": {},
   "outputs": [],
   "source": [
    "pipeline = Pipeline([\n",
    "    ('quant', QuantileTransformer(random_state=0)), \n",
    "    ('stscale',StandardScaler()),\n",
    "    ('svc', SVC(kernel='rbf', C=0.1)),\n",
    "])\n",
    "\n",
    "selected_model = pipeline.fit(X_train, y_train)\n"
   ]
  },
  {
   "cell_type": "markdown",
   "metadata": {},
   "source": [
    "##### !!! Note: \n",
    "- with C=0.1, gamma=1, model never predicts 0, always guesses 1 when run on training and test below. \n",
    "- Not setting gamma works, and is better than using all defaults, ie not setting C; (doesn't overfit as much). \n",
    "\n",
    "### !! how can this be? how to avoid this?"
   ]
  },
  {
   "cell_type": "markdown",
   "metadata": {},
   "source": [
    "### Run the best model on the training data"
   ]
  },
  {
   "cell_type": "code",
   "execution_count": 40,
   "metadata": {},
   "outputs": [
    {
     "name": "stdout",
     "output_type": "stream",
     "text": [
      "Best model on train data\n",
      "============================================================\n",
      "fbeta score: 0.7258\n",
      "------------------------------------------------------------\n",
      "              precision    recall  f1-score   support\n",
      "\n",
      "           0       0.73      0.71      0.72      2833\n",
      "           1       0.72      0.74      0.73      2832\n",
      "\n",
      "    accuracy                           0.72      5665\n",
      "   macro avg       0.72      0.72      0.72      5665\n",
      "weighted avg       0.72      0.72      0.72      5665\n",
      "\n",
      "------------------------------------------------------------\n"
     ]
    },
    {
     "data": {
      "image/png": "[encoded data removed]",
      "text/plain": [
       "<Figure size 432x288 with 2 Axes>"
      ]
     },
     "metadata": {
      "needs_background": "light"
     },
     "output_type": "display_data"
    }
   ],
   "source": [
    "# Plot confusion matrix and classification report for best model\n",
    "y_in = y_train\n",
    "x_in = X_train\n",
    "y_pred = selected_model.predict(x_in)\n",
    "\n",
    "print(\"Best model on train data\")\n",
    "print(\"===\"*20)\n",
    "print(\"fbeta score:\", fbeta_score(y_in, y_pred, beta=f_beta).round(4))\n",
    "print(\"---\"*20)\n",
    "print(classification_report(y_in, y_pred))\n",
    "print(\"---\"*20)\n",
    "\n",
    "cm = confusion_matrix(y_in, y_pred)\n",
    "sns.heatmap(cm, cmap=\"YlGnBu_r\", annot=True, fmt=\".0f\");"
   ]
  },
  {
   "cell_type": "markdown",
   "metadata": {},
   "source": [
    "### Set up model chosen as best : using C = 1 (because why not!)"
   ]
  },
  {
   "cell_type": "code",
   "execution_count": 41,
   "metadata": {},
   "outputs": [],
   "source": [
    "pipeline = Pipeline([\n",
    "    ('quant', QuantileTransformer(random_state=0)), \n",
    "    ('stscale',StandardScaler()),\n",
    "    ('svc', SVC(kernel='rbf', C=1)),\n",
    "])\n",
    "\n",
    "selected_model = pipeline.fit(X_train, y_train)\n"
   ]
  },
  {
   "cell_type": "code",
   "execution_count": 42,
   "metadata": {},
   "outputs": [
    {
     "name": "stdout",
     "output_type": "stream",
     "text": [
      "Best model on train data\n",
      "============================================================\n",
      "fbeta score: 0.8625\n",
      "------------------------------------------------------------\n",
      "              precision    recall  f1-score   support\n",
      "\n",
      "           0       0.85      0.88      0.87      2833\n",
      "           1       0.88      0.85      0.86      2832\n",
      "\n",
      "    accuracy                           0.86      5665\n",
      "   macro avg       0.87      0.86      0.86      5665\n",
      "weighted avg       0.87      0.86      0.86      5665\n",
      "\n",
      "------------------------------------------------------------\n"
     ]
    },
    {
     "data": {
      "image/png": "[encoded data removed]",
      "text/plain": [
       "<Figure size 432x288 with 2 Axes>"
      ]
     },
     "metadata": {
      "needs_background": "light"
     },
     "output_type": "display_data"
    }
   ],
   "source": [
    "# Plot confusion matrix and classification report for best model\n",
    "y_in = y_train\n",
    "x_in = X_train\n",
    "y_pred = selected_model.predict(x_in)\n",
    "\n",
    "print(\"Best model on train data\")\n",
    "print(\"===\"*20)\n",
    "print(\"fbeta score:\", fbeta_score(y_in, y_pred, beta=f_beta).round(4))\n",
    "print(\"---\"*20)\n",
    "print(classification_report(y_in, y_pred))\n",
    "print(\"---\"*20)\n",
    "\n",
    "cm = confusion_matrix(y_in, y_pred)\n",
    "sns.heatmap(cm, cmap=\"YlGnBu_r\", annot=True, fmt=\".0f\");"
   ]
  },
  {
   "cell_type": "markdown",
   "metadata": {},
   "source": [
    "### Predict with test data"
   ]
  },
  {
   "cell_type": "code",
   "execution_count": 43,
   "metadata": {},
   "outputs": [
    {
     "name": "stdout",
     "output_type": "stream",
     "text": [
      "Best model on train data\n",
      "============================================================\n",
      "fbeta score: 0.7541\n",
      "------------------------------------------------------------\n",
      "              precision    recall  f1-score   support\n",
      "\n",
      "           0       0.75      0.76      0.76       944\n",
      "           1       0.76      0.75      0.75       945\n",
      "\n",
      "    accuracy                           0.75      1889\n",
      "   macro avg       0.75      0.75      0.75      1889\n",
      "weighted avg       0.75      0.75      0.75      1889\n",
      "\n",
      "------------------------------------------------------------\n"
     ]
    },
    {
     "data": {
      "image/png": "[encoded data removed]",
      "text/plain": [
       "<Figure size 432x288 with 2 Axes>"
      ]
     },
     "metadata": {
      "needs_background": "light"
     },
     "output_type": "display_data"
    }
   ],
   "source": [
    "# Plot confusion matrix and classification report for best model\n",
    "y_in = y_test\n",
    "x_in = X_test\n",
    "y_pred = selected_model.predict(x_in)\n",
    "\n",
    "print(\"Best model on train data\")\n",
    "print(\"===\"*20)\n",
    "print(\"fbeta score:\", fbeta_score(y_in, y_pred, beta=f_beta).round(4))\n",
    "print(\"---\"*20)\n",
    "print(classification_report(y_in, y_pred))\n",
    "print(\"---\"*20)\n",
    "\n",
    "cm = confusion_matrix(y_in, y_pred)\n",
    "sns.heatmap(cm, cmap=\"YlGnBu_r\", annot=True, fmt=\".0f\");"
   ]
  },
  {
   "cell_type": "markdown",
   "metadata": {},
   "source": [
    "### Initial pipeline setup for a KNN model, using defaults"
   ]
  },
  {
   "cell_type": "code",
   "execution_count": 44,
   "metadata": {},
   "outputs": [
    {
     "data": {
      "text/plain": [
       "Pipeline(steps=[('quantiletransformer', QuantileTransformer(random_state=0)),\n",
       "                ('standardscaler', StandardScaler()),\n",
       "                ('kneighborsclassifier',\n",
       "                 KNeighborsClassifier(metric='euclidean'))])"
      ]
     },
     "execution_count": 44,
     "metadata": {},
     "output_type": "execute_result"
    }
   ],
   "source": [
    "knn_pipe = make_pipeline(QuantileTransformer(random_state=0), StandardScaler(), \n",
    "                     KNeighborsClassifier(n_neighbors=5, metric='euclidean'))\n",
    "knn_pipe.fit(X_train, y_train)  # apply scaling on training data\n"
   ]
  },
  {
   "cell_type": "markdown",
   "metadata": {},
   "source": [
    "### Predict with train data"
   ]
  },
  {
   "cell_type": "code",
   "execution_count": 45,
   "metadata": {},
   "outputs": [
    {
     "name": "stdout",
     "output_type": "stream",
     "text": [
      "KNN on train data\n",
      "============================================================\n",
      "fbeta score: 0.7843\n",
      "------------------------------------------------------------\n",
      "              precision    recall  f1-score   support\n",
      "\n",
      "           0       0.78      0.79      0.79      2833\n",
      "           1       0.79      0.78      0.78      2832\n",
      "\n",
      "    accuracy                           0.78      5665\n",
      "   macro avg       0.79      0.78      0.78      5665\n",
      "weighted avg       0.79      0.78      0.78      5665\n",
      "\n",
      "------------------------------------------------------------\n"
     ]
    },
    {
     "data": {
      "image/png": "[encoded data removed]",
      "text/plain": [
       "<Figure size 432x288 with 2 Axes>"
      ]
     },
     "metadata": {
      "needs_background": "light"
     },
     "output_type": "display_data"
    }
   ],
   "source": [
    "# Predict on test set\n",
    "y_train_pred_knn = knn_pipe.predict(X_train)\n",
    "f_beta = 1\n",
    "print(\"KNN on train data\")\n",
    "print(\"===\"*20)\n",
    "print(\"fbeta score:\", fbeta_score(y_train, y_train_pred_knn, beta=f_beta).round(4))\n",
    "print(\"---\"*20)\n",
    "print(classification_report(y_train, y_train_pred_knn))\n",
    "print(\"---\"*20)\n",
    "\n",
    "\n",
    "cm = confusion_matrix(y_train, y_train_pred_knn)\n",
    "sns.heatmap(cm, cmap=\"YlGnBu_r\", annot=True, fmt=\".0f\");"
   ]
  },
  {
   "cell_type": "markdown",
   "metadata": {},
   "source": [
    "### Predict with test data"
   ]
  },
  {
   "cell_type": "code",
   "execution_count": 46,
   "metadata": {},
   "outputs": [
    {
     "name": "stdout",
     "output_type": "stream",
     "text": [
      "KNN on test data\n",
      "============================================================\n",
      "fbeta score: 0.6653\n",
      "------------------------------------------------------------\n",
      "              precision    recall  f1-score   support\n",
      "\n",
      "           0       0.66      0.66      0.66       944\n",
      "           1       0.66      0.67      0.67       945\n",
      "\n",
      "    accuracy                           0.66      1889\n",
      "   macro avg       0.66      0.66      0.66      1889\n",
      "weighted avg       0.66      0.66      0.66      1889\n",
      "\n",
      "------------------------------------------------------------\n"
     ]
    },
    {
     "data": {
      "image/png": "[encoded data removed]",
      "text/plain": [
       "<Figure size 432x288 with 2 Axes>"
      ]
     },
     "metadata": {
      "needs_background": "light"
     },
     "output_type": "display_data"
    }
   ],
   "source": [
    "# Predict on test set\n",
    "y_test_pred_knn = knn_pipe.predict(X_test)\n",
    "\n",
    "print(\"KNN on test data\")\n",
    "print(\"===\"*20)\n",
    "print(\"fbeta score:\", fbeta_score(y_test, y_test_pred_knn, beta=f_beta).round(4))\n",
    "print(\"---\"*20)\n",
    "print(classification_report(y_test, y_test_pred_knn))\n",
    "print(\"---\"*20)\n",
    "\n",
    "\n",
    "cm = confusion_matrix(y_test, y_test_pred_knn)\n",
    "sns.heatmap(cm, cmap=\"YlGnBu_r\", annot=True, fmt=\".0f\");"
   ]
  },
  {
   "cell_type": "markdown",
   "metadata": {},
   "source": [
    "### Initial pipeline setup for a GradientBoostingClassifier model, using defaults"
   ]
  },
  {
   "cell_type": "code",
   "execution_count": 47,
   "metadata": {},
   "outputs": [],
   "source": [
    "from sklearn.ensemble import GradientBoostingClassifier"
   ]
  },
  {
   "cell_type": "code",
   "execution_count": 48,
   "metadata": {},
   "outputs": [
    {
     "data": {
      "text/plain": [
       "Pipeline(steps=[('quant', QuantileTransformer(random_state=0)),\n",
       "                ('stscale', StandardScaler()),\n",
       "                ('xgb',\n",
       "                 GradientBoostingClassifier(learning_rate=0.5, max_depth=1,\n",
       "                                            n_estimators=1000,\n",
       "                                            random_state=0))])"
      ]
     },
     "execution_count": 48,
     "metadata": {},
     "output_type": "execute_result"
    }
   ],
   "source": [
    "xgb_pipe = Pipeline([\n",
    "    ('quant', QuantileTransformer(random_state=0)), \n",
    "    ('stscale',StandardScaler()),\n",
    "    ('xgb', GradientBoostingClassifier(n_estimators=1000, learning_rate=0.5,  max_depth=1, random_state=0))\n",
    "    #('xgb', xgb.XGBClassifier(objective=\"binary:logistic\", random_state=42, eval_metric=fbeta_scorer)),\n",
    "])\n",
    "# xgb_pipe = make_pipeline(QuantileTransformer(random_state=0), StandardScaler(), \n",
    "#                          xgb.XGBClassifier(objective=\"binary:logistic\", random_state=42, eval_metric=fbeta_scorer)\n",
    "#                         )\n",
    "xgb_pipe.fit(X_train, y_train)  # apply scaling on training data\n"
   ]
  },
  {
   "cell_type": "markdown",
   "metadata": {},
   "source": [
    "### Predict with train data"
   ]
  },
  {
   "cell_type": "code",
   "execution_count": 49,
   "metadata": {},
   "outputs": [
    {
     "name": "stdout",
     "output_type": "stream",
     "text": [
      "XGBoost on train data\n",
      "============================================================\n",
      "fbeta score: 0.9561\n",
      "------------------------------------------------------------\n",
      "              precision    recall  f1-score   support\n",
      "\n",
      "           0       0.95      0.96      0.96      2833\n",
      "           1       0.96      0.95      0.96      2832\n",
      "\n",
      "    accuracy                           0.96      5665\n",
      "   macro avg       0.96      0.96      0.96      5665\n",
      "weighted avg       0.96      0.96      0.96      5665\n",
      "\n",
      "------------------------------------------------------------\n"
     ]
    },
    {
     "data": {
      "image/png": "[encoded data removed]",
      "text/plain": [
       "<Figure size 432x288 with 2 Axes>"
      ]
     },
     "metadata": {
      "needs_background": "light"
     },
     "output_type": "display_data"
    }
   ],
   "source": [
    "# Predict on test set\n",
    "y_train_pred_knn = xgb_pipe.predict(X_train)\n",
    "f_beta = 1\n",
    "print(\"XGBoost on train data\")\n",
    "print(\"===\"*20)\n",
    "print(\"fbeta score:\", fbeta_score(y_train, y_train_pred_knn, beta=f_beta).round(4))\n",
    "print(\"---\"*20)\n",
    "print(classification_report(y_train, y_train_pred_knn))\n",
    "print(\"---\"*20)\n",
    "\n",
    "\n",
    "cm = confusion_matrix(y_train, y_train_pred_knn)\n",
    "sns.heatmap(cm, cmap=\"YlGnBu_r\", annot=True, fmt=\".0f\");"
   ]
  },
  {
   "cell_type": "markdown",
   "metadata": {},
   "source": [
    "### Predict with test data"
   ]
  },
  {
   "cell_type": "code",
   "execution_count": 50,
   "metadata": {},
   "outputs": [
    {
     "name": "stdout",
     "output_type": "stream",
     "text": [
      "XGBoost on test data\n",
      "============================================================\n",
      "fbeta score: 0.7238\n",
      "------------------------------------------------------------\n",
      "              precision    recall  f1-score   support\n",
      "\n",
      "           0       0.72      0.72      0.72       944\n",
      "           1       0.72      0.72      0.72       945\n",
      "\n",
      "    accuracy                           0.72      1889\n",
      "   macro avg       0.72      0.72      0.72      1889\n",
      "weighted avg       0.72      0.72      0.72      1889\n",
      "\n",
      "------------------------------------------------------------\n"
     ]
    },
    {
     "data": {
      "image/png": "[encoded data removed]",
      "text/plain": [
       "<Figure size 432x288 with 2 Axes>"
      ]
     },
     "metadata": {
      "needs_background": "light"
     },
     "output_type": "display_data"
    }
   ],
   "source": [
    "# Predict on test set\n",
    "y_test_pred_knn = xgb_pipe.predict(X_test)\n",
    "\n",
    "print(\"XGBoost on test data\")\n",
    "print(\"===\"*20)\n",
    "print(\"fbeta score:\", fbeta_score(y_test, y_test_pred_knn, beta=f_beta).round(4))\n",
    "print(\"---\"*20)\n",
    "print(classification_report(y_test, y_test_pred_knn))\n",
    "print(\"---\"*20)\n",
    "\n",
    "\n",
    "cm = confusion_matrix(y_test, y_test_pred_knn)\n",
    "sns.heatmap(cm, cmap=\"YlGnBu_r\", annot=True, fmt=\".0f\");"
   ]
  },
  {
   "cell_type": "markdown",
   "metadata": {},
   "source": [
    "### Initial pipeline setup for a XGBoost model, using defaults\n",
    "- xgboost overfits (all 1s)\n",
    "- need to run hyperparameter search"
   ]
  },
  {
   "cell_type": "code",
   "execution_count": 51,
   "metadata": {},
   "outputs": [
    {
     "data": {
      "text/plain": [
       "Pipeline(steps=[('quant', QuantileTransformer(random_state=0)),\n",
       "                ('stscale', StandardScaler()),\n",
       "                ('xgb',\n",
       "                 XGBClassifier(base_score=0.5, booster='gbtree', callbacks=None,\n",
       "                               colsample_bylevel=1, colsample_bynode=1,\n",
       "                               colsample_bytree=1, early_stopping_rounds=None,\n",
       "                               enable_categorical=False,\n",
       "                               eval_metric=make_scorer(fbeta_score, beta=1),\n",
       "                               gamma=0, gpu_id=-1, grow_policy='depthwise',\n",
       "                               importance_type=None, interaction_constraints='',\n",
       "                               learning_rate=0.300000012, max_bin=256,\n",
       "                               max_cat_to_onehot=4, max_delta_step=0,\n",
       "                               max_depth=6, max_leaves=0, min_child_weight=1,\n",
       "                               missing=nan, monotone_constraints='()',\n",
       "                               n_estimators=100, n_jobs=0, num_parallel_tree=1,\n",
       "                               predictor='auto', random_state=42, reg_alpha=0,\n",
       "                               reg_lambda=1, ...))])"
      ]
     },
     "execution_count": 51,
     "metadata": {},
     "output_type": "execute_result"
    }
   ],
   "source": [
    "xgb_pipe = Pipeline([\n",
    "    ('quant', QuantileTransformer(random_state=0)), \n",
    "    ('stscale',StandardScaler()),\n",
    "    ('xgb', xgb.XGBClassifier(objective=\"binary:logistic\", random_state=42, eval_metric=fbeta_scorer)),\n",
    "])\n",
    "# xgb_pipe = make_pipeline(QuantileTransformer(random_state=0), StandardScaler(), \n",
    "#                          xgb.XGBClassifier(objective=\"binary:logistic\", random_state=42, eval_metric=fbeta_scorer)\n",
    "#                         )\n",
    "xgb_pipe.fit(X_train, y_train)  # apply scaling on training data\n"
   ]
  },
  {
   "cell_type": "markdown",
   "metadata": {},
   "source": [
    "### Predict with train data"
   ]
  },
  {
   "cell_type": "code",
   "execution_count": 52,
   "metadata": {},
   "outputs": [
    {
     "name": "stdout",
     "output_type": "stream",
     "text": [
      "XGBoost on train data\n",
      "============================================================\n",
      "fbeta score: 1.0\n",
      "------------------------------------------------------------\n",
      "              precision    recall  f1-score   support\n",
      "\n",
      "           0       1.00      1.00      1.00      2833\n",
      "           1       1.00      1.00      1.00      2832\n",
      "\n",
      "    accuracy                           1.00      5665\n",
      "   macro avg       1.00      1.00      1.00      5665\n",
      "weighted avg       1.00      1.00      1.00      5665\n",
      "\n",
      "------------------------------------------------------------\n"
     ]
    },
    {
     "data": {
      "image/png": "[encoded data removed]",
      "text/plain": [
       "<Figure size 432x288 with 2 Axes>"
      ]
     },
     "metadata": {
      "needs_background": "light"
     },
     "output_type": "display_data"
    }
   ],
   "source": [
    "# Predict on test set\n",
    "y_train_pred_knn = xgb_pipe.predict(X_train)\n",
    "f_beta = 1\n",
    "print(\"XGBoost on train data\")\n",
    "print(\"===\"*20)\n",
    "print(\"fbeta score:\", fbeta_score(y_train, y_train_pred_knn, beta=f_beta).round(4))\n",
    "print(\"---\"*20)\n",
    "print(classification_report(y_train, y_train_pred_knn))\n",
    "print(\"---\"*20)\n",
    "\n",
    "\n",
    "cm = confusion_matrix(y_train, y_train_pred_knn)\n",
    "sns.heatmap(cm, cmap=\"YlGnBu_r\", annot=True, fmt=\".0f\");"
   ]
  },
  {
   "cell_type": "markdown",
   "metadata": {},
   "source": [
    "### Predict with test data"
   ]
  },
  {
   "cell_type": "code",
   "execution_count": 53,
   "metadata": {},
   "outputs": [
    {
     "name": "stdout",
     "output_type": "stream",
     "text": [
      "XGBoost on test data\n",
      "============================================================\n",
      "fbeta score: 0.7308\n",
      "------------------------------------------------------------\n",
      "              precision    recall  f1-score   support\n",
      "\n",
      "           0       0.73      0.73      0.73       944\n",
      "           1       0.73      0.73      0.73       945\n",
      "\n",
      "    accuracy                           0.73      1889\n",
      "   macro avg       0.73      0.73      0.73      1889\n",
      "weighted avg       0.73      0.73      0.73      1889\n",
      "\n",
      "------------------------------------------------------------\n"
     ]
    },
    {
     "data": {
      "image/png": "[encoded data removed]",
      "text/plain": [
       "<Figure size 432x288 with 2 Axes>"
      ]
     },
     "metadata": {
      "needs_background": "light"
     },
     "output_type": "display_data"
    }
   ],
   "source": [
    "# Predict on test set\n",
    "y_test_pred_knn = xgb_pipe.predict(X_test)\n",
    "\n",
    "print(\"XGBoost on test data\")\n",
    "print(\"===\"*20)\n",
    "print(\"fbeta score:\", fbeta_score(y_test, y_test_pred_knn, beta=f_beta).round(4))\n",
    "print(\"---\"*20)\n",
    "print(classification_report(y_test, y_test_pred_knn))\n",
    "print(\"---\"*20)\n",
    "\n",
    "\n",
    "cm = confusion_matrix(y_test, y_test_pred_knn)\n",
    "sns.heatmap(cm, cmap=\"YlGnBu_r\", annot=True, fmt=\".0f\");"
   ]
  },
  {
   "cell_type": "code",
   "execution_count": null,
   "metadata": {},
   "outputs": [],
   "source": []
  }
 ],
 "metadata": {
  "kernelspec": {
   "display_name": "Python 3.9.8 ('.venv': venv)",
   "language": "python",
   "name": "python3"
  },
  "language_info": {
   "codemirror_mode": {
    "name": "ipython",
    "version": 3
   },
   "file_extension": ".py",
   "mimetype": "text/x-python",
   "name": "python",
   "nbconvert_exporter": "python",
   "pygments_lexer": "ipython3",
   "version": "3.9.8"
  },
  "orig_nbformat": 4,
  "vscode": {
   "interpreter": {
    "hash": "717143f14746c3d224cb0d002ee644c548f4eee3e4e2b19bc8ee2a06acbee4a6"
   }
  }
 },
 "nbformat": 4,
 "nbformat_minor": 2
}
