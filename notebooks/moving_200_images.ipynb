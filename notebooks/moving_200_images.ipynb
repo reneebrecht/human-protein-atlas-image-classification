{
 "cells": [
  {
   "cell_type": "code",
   "execution_count": 6,
   "metadata": {},
   "outputs": [],
   "source": [
    "import shutil, random, os\n",
    "\n",
    "# !!! SET THESE paths, after you make a new folder called \"train_select\" !!!! \n",
    "src_dir = '/Users/ryan/neue_fische/human-protein-atlas-image-classification/data/train/'\n",
    "dest_dir = '/Users/ryan/neue_fische/human-protein-atlas-image-classification/data/train_select/'\n",
    "\n",
    "\n",
    "def cp_file(src_dir, dest_dir, fname):\n",
    "    src_path = os.path.join(src_dir, fname)\n",
    "    dest_path = os.path.join(dest_dir, fname)\n",
    "    shutil.copyfile(src_path, dest_path)\n",
    "    \n",
    "str_list = ['_red.png', '_blue.png', '_green.png','_yellow.png']\n",
    "    \n",
    "filenames = random.sample(os.listdir(src_dir), 200)\n",
    "for fname in filenames:\n",
    "    fname = fname.rpartition('_')[0]\n",
    "    [cp_file(src_dir, dest_dir, fname+end_str) for end_str in str_list]"
   ]
  }
 ],
 "metadata": {
  "kernelspec": {
   "display_name": "Python 3.9.8 ('.venv': venv)",
   "language": "python",
   "name": "python3"
  },
  "language_info": {
   "codemirror_mode": {
    "name": "ipython",
    "version": 3
   },
   "file_extension": ".py",
   "mimetype": "text/x-python",
   "name": "python",
   "nbconvert_exporter": "python",
   "pygments_lexer": "ipython3",
   "version": "3.9.8"
  },
  "orig_nbformat": 4,
  "vscode": {
   "interpreter": {
    "hash": "720bc5554050b7f8e1eb7fe3e9802d242667e213d5e4820e5b9adf1aa2f6a51f"
   }
  }
 },
 "nbformat": 4,
 "nbformat_minor": 2
}
