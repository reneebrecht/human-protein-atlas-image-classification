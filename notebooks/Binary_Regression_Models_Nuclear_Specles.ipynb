{
 "cells": [
  {
   "cell_type": "markdown",
   "metadata": {},
   "source": [
    "## Finding the best fitting regression model for binary subset of the data (one protein at a time)\n",
    "- for a given protein, fit a regression model and optimize for the best fit\n",
    "- using embeddings (efficientnet.tfkeras import EfficientNetB0) as input features"
   ]
  },
  {
   "cell_type": "code",
   "execution_count": 1,
   "metadata": {},
   "outputs": [],
   "source": [
    "# Import all the libraries I need\n",
    "import numpy as np\n",
    "import pandas as pd\n",
    "import matplotlib.pyplot as plt\n",
    "import seaborn as sns\n",
    "%matplotlib inline\n",
    "\n",
    "# ignore Deprecation Warning\n",
    "import warnings\n",
    "warnings.filterwarnings(\"ignore\", category=DeprecationWarning) \n",
    "from sklearn.model_selection import train_test_split\n",
    "from sklearn.utils import shuffle\n",
    "from sklearn.metrics import plot_confusion_matrix, recall_score, accuracy_score, precision_score\n",
    "from sklearn.metrics import classification_report, confusion_matrix, roc_curve\n",
    "from sklearn.metrics import fbeta_score, make_scorer\n",
    "from sklearn.preprocessing import MinMaxScaler, StandardScaler, QuantileTransformer\n",
    "from sklearn.pipeline import make_pipeline\n",
    "\n",
    "from sklearn.neighbors import KNeighborsClassifier\n",
    "from sklearn.svm import LinearSVC, SVC\n",
    "from sklearn.naive_bayes import MultinomialNB\n",
    "from sklearn.linear_model import SGDClassifier, LogisticRegression\n",
    "from sklearn.tree import DecisionTreeClassifier\n",
    "from sklearn.pipeline import Pipeline\n",
    "from sklearn.model_selection import GridSearchCV\n",
    "\n",
    "import xgboost as xgb\n",
    "\n",
    "import pyarrow.parquet as pq\n",
    "\n",
    "import warnings\n",
    "warnings.filterwarnings(\"ignore\", category=DeprecationWarning)\n",
    "warnings.filterwarnings(\"ignore\", category=UserWarning)\n",
    "warnings.filterwarnings(\"ignore\", category=FutureWarning)\n",
    "\n",
    "base_path = '/Users/reneebrecht/neue_fische/human-protein-atlas-image-classification/data/'\n",
    "embed_path = '/Users/reneebrecht/neue_fische/human-protein-atlas-image-classification/data/embeddings_train/'\n"
   ]
  },
  {
   "cell_type": "markdown",
   "metadata": {},
   "source": [
    "### Loading the image labels and image names"
   ]
  },
  {
   "cell_type": "code",
   "execution_count": 2,
   "metadata": {},
   "outputs": [],
   "source": [
    "#get all of the labels\n",
    "labels_training = pd.read_csv(base_path+'train.csv')"
   ]
  },
  {
   "cell_type": "markdown",
   "metadata": {},
   "source": [
    "### Some setup"
   ]
  },
  {
   "cell_type": "code",
   "execution_count": 3,
   "metadata": {},
   "outputs": [],
   "source": [
    "class Location_in_Target(object):\n",
    "    ''' Class to get a list of name of pictures which are labeled with a specific \n",
    "        location and the same number of names of pictures which labels do not \n",
    "        contain the specific location.\n",
    "        ...\n",
    "        Attributes:\n",
    "        ----------\n",
    "        location: int \n",
    "            number which define a location in a human cell\n",
    "        pictures: panda.DataFrame\n",
    "            list of the names of the pictures labeled with the location and \n",
    "            same number of pictures without the label\n",
    "        \n",
    "        Methods:\n",
    "        ----------\n",
    "        save_pictures(pictures, column_name):\n",
    "            Saves the list of picture names in an Attribute\n",
    "        get_pictures()\n",
    "            Returns the list of picture names\n",
    "        determine_pictures(labels)  \n",
    "            Find pictures with and without the specific label and call save method\n",
    "            when list is build\n",
    "    '''\n",
    "\n",
    "    def __init__(self, location): \n",
    "        '''Parameters\n",
    "           ----------\n",
    "           location: int \n",
    "                number which define a location in a human cell\n",
    "        '''\n",
    "\n",
    "        self.location = location\n",
    "        self.pictures = pd.DataFrame()\n",
    "\n",
    "    def save_pictures(self, pictures, column_name):\n",
    "        ''' Saves the list of pictures in the attribute pictures\n",
    "\n",
    "            Parameters\n",
    "            ----------\n",
    "            pictures: panda.DataFrame\n",
    "                list of the names of the pictures labeled with the location and \n",
    "                same number of pictures without the label\n",
    "            column_name: str\n",
    "                Description of the data saved in the DataFrame used as column names \n",
    "        '''\n",
    "\n",
    "        self.pictures[column_name] = pictures\n",
    "\n",
    "    def get_pictures(self):\n",
    "        '''Gives back the list of picture names which are labeled or not labeled\n",
    "            with the given location\n",
    "        '''\n",
    "\n",
    "        return self.pictures\n",
    "\n",
    "    def determine_pictures(self, labels):\n",
    "        ''' First the names of the pictures labeled with the given location are \n",
    "            saved in a list and the method to save it in a DataFrame column is \n",
    "            called. \n",
    "            The same number of names from pictures not labeled with the location \n",
    "            are chosen randomly. The saving function is called with it again. \n",
    "\n",
    "            Parameters\n",
    "            ----------\n",
    "            labels: DataFrame with all picture names and Targets       \n",
    "        '''\n",
    "\n",
    "        pictures = [label.Id  for index, label in labels.iterrows() \n",
    "                              if str(self.location) in label.Target]\n",
    "        self.save_pictures(pictures, f'pictures_with_location_{self.location}')\n",
    "        #The number of pictures labeled with the given location is needed to get the \n",
    "        #same number of pictures not labeled with the location\n",
    "        number_needed_pictures= len(pictures)\n",
    "        pictures = [label.Id  for index, label in labels.iterrows() \n",
    "                              if str(self.location) not in label.Target]\n",
    "        self.save_pictures(np.random.choice(pictures, number_needed_pictures),\n",
    "                                f'pictures_without_location_{self.location}')\n",
    "\n",
    "# courtesy of https://www.kaggle.com/code/allunia/protein-atlas-exploration-and-baseline\n",
    "label_names = {\n",
    "    0:  \"Nucleoplasm\",  \n",
    "    1:  \"Nuclear membrane\",   \n",
    "    2:  \"Nucleoli\",   \n",
    "    3:  \"Nucleoli fibrillar center\",   \n",
    "    4:  \"Nuclear speckles\",\n",
    "    5:  \"Nuclear bodies\",   \n",
    "    6:  \"Endoplasmic reticulum\",   \n",
    "    7:  \"Golgi apparatus\",   \n",
    "    8:  \"Peroxisomes\",   \n",
    "    9:  \"Endosomes\",   \n",
    "    10:  \"Lysosomes\",   \n",
    "    11:  \"Intermediate filaments\",   \n",
    "    12:  \"Actin filaments\",   \n",
    "    13:  \"Focal adhesion sites\",   \n",
    "    14:  \"Microtubules\",   \n",
    "    15:  \"Microtubule ends\",   \n",
    "    16:  \"Cytokinetic bridge\",   \n",
    "    17:  \"Mitotic spindle\",   \n",
    "    18:  \"Microtubule organizing center\",   \n",
    "    19:  \"Centrosome\",   \n",
    "    20:  \"Lipid droplets\",   \n",
    "    21:  \"Plasma membrane\",   \n",
    "    22:  \"Cell junctions\",   \n",
    "    23:  \"Mitochondria\",   \n",
    "    24:  \"Aggresome\",   \n",
    "    25:  \"Cytosol\",   \n",
    "    26:  \"Cytoplasmic bodies\",   \n",
    "    27:  \"Rods & rings\"\n",
    "}\n",
    "\n",
    "reverse_train_labels = dict((v,k) for k,v in label_names.items())"
   ]
  },
  {
   "cell_type": "markdown",
   "metadata": {},
   "source": [
    "#### Load the full set of embeddings"
   ]
  },
  {
   "cell_type": "code",
   "execution_count": 5,
   "metadata": {},
   "outputs": [
    {
     "data": {
      "text/html": [
       "<div>\n",
       "<style scoped>\n",
       "    .dataframe tbody tr th:only-of-type {\n",
       "        vertical-align: middle;\n",
       "    }\n",
       "\n",
       "    .dataframe tbody tr th {\n",
       "        vertical-align: top;\n",
       "    }\n",
       "\n",
       "    .dataframe thead th {\n",
       "        text-align: right;\n",
       "    }\n",
       "</style>\n",
       "<table border=\"1\" class=\"dataframe\">\n",
       "  <thead>\n",
       "    <tr style=\"text-align: right;\">\n",
       "      <th></th>\n",
       "      <th>target_id</th>\n",
       "      <th>image_path</th>\n",
       "      <th>embedding</th>\n",
       "      <th>image_name</th>\n",
       "    </tr>\n",
       "  </thead>\n",
       "  <tbody>\n",
       "    <tr>\n",
       "      <th>0</th>\n",
       "      <td>7</td>\n",
       "      <td>../data/train/4b0d7acc-bbb5-11e8-b2ba-ac1f6b64...</td>\n",
       "      <td>[-0.14782768, -0.19346946, 0.029495712, -0.114...</td>\n",
       "      <td>4b0d7acc-bbb5-11e8-b2ba-ac1f6b6435d0</td>\n",
       "    </tr>\n",
       "    <tr>\n",
       "      <th>1</th>\n",
       "      <td>5 0</td>\n",
       "      <td>../data/train/4b0e4648-bbc2-11e8-b2bb-ac1f6b64...</td>\n",
       "      <td>[-0.11768038, 0.108380914, -0.07158355, -0.051...</td>\n",
       "      <td>4b0e4648-bbc2-11e8-b2bb-ac1f6b6435d0</td>\n",
       "    </tr>\n",
       "    <tr>\n",
       "      <th>2</th>\n",
       "      <td>23</td>\n",
       "      <td>../data/train/4b0fe352-bbbf-11e8-b2ba-ac1f6b64...</td>\n",
       "      <td>[-0.14264518, -0.14894637, 0.015262008, -0.138...</td>\n",
       "      <td>4b0fe352-bbbf-11e8-b2ba-ac1f6b6435d0</td>\n",
       "    </tr>\n",
       "    <tr>\n",
       "      <th>3</th>\n",
       "      <td>2</td>\n",
       "      <td>../data/train/4b1164e4-bbaf-11e8-b2ba-ac1f6b64...</td>\n",
       "      <td>[-0.14977421, -0.12706101, -0.17702478, -0.087...</td>\n",
       "      <td>4b1164e4-bbaf-11e8-b2ba-ac1f6b6435d0</td>\n",
       "    </tr>\n",
       "    <tr>\n",
       "      <th>4</th>\n",
       "      <td>25</td>\n",
       "      <td>../data/train/4b120c9e-bbb1-11e8-b2ba-ac1f6b64...</td>\n",
       "      <td>[-0.15020615, -0.008659467, -0.14262204, -0.04...</td>\n",
       "      <td>4b120c9e-bbb1-11e8-b2ba-ac1f6b6435d0</td>\n",
       "    </tr>\n",
       "    <tr>\n",
       "      <th>...</th>\n",
       "      <td>...</td>\n",
       "      <td>...</td>\n",
       "      <td>...</td>\n",
       "      <td>...</td>\n",
       "    </tr>\n",
       "    <tr>\n",
       "      <th>31067</th>\n",
       "      <td>7</td>\n",
       "      <td>../data/train/9d04d730-bbb5-11e8-b2ba-ac1f6b64...</td>\n",
       "      <td>[-0.095827445, -0.14014255, -0.1306586, -0.081...</td>\n",
       "      <td>9d04d730-bbb5-11e8-b2ba-ac1f6b6435d0</td>\n",
       "    </tr>\n",
       "    <tr>\n",
       "      <th>31068</th>\n",
       "      <td>4</td>\n",
       "      <td>../data/train/9d09c7e0-bb9c-11e8-b2b9-ac1f6b64...</td>\n",
       "      <td>[-0.109680824, -0.07402489, -0.08704822, -0.08...</td>\n",
       "      <td>9d09c7e0-bb9c-11e8-b2b9-ac1f6b6435d0</td>\n",
       "    </tr>\n",
       "    <tr>\n",
       "      <th>31069</th>\n",
       "      <td>0</td>\n",
       "      <td>../data/train/9d0a7012-bbc6-11e8-b2bc-ac1f6b64...</td>\n",
       "      <td>[-0.14760047, -0.105946906, 0.17695697, -0.130...</td>\n",
       "      <td>9d0a7012-bbc6-11e8-b2bc-ac1f6b6435d0</td>\n",
       "    </tr>\n",
       "    <tr>\n",
       "      <th>31070</th>\n",
       "      <td>25 0</td>\n",
       "      <td>../data/train/9d10ecec-bba0-11e8-b2b9-ac1f6b64...</td>\n",
       "      <td>[-0.12235144, -0.12698074, -0.052961998, -0.10...</td>\n",
       "      <td>9d10ecec-bba0-11e8-b2b9-ac1f6b6435d0</td>\n",
       "    </tr>\n",
       "    <tr>\n",
       "      <th>31071</th>\n",
       "      <td>7 0</td>\n",
       "      <td>../data/train/9d114136-bbb6-11e8-b2ba-ac1f6b64...</td>\n",
       "      <td>[-0.1314421, -0.13573745, -0.14491996, -0.0963...</td>\n",
       "      <td>9d114136-bbb6-11e8-b2ba-ac1f6b6435d0</td>\n",
       "    </tr>\n",
       "  </tbody>\n",
       "</table>\n",
       "<p>31072 rows × 4 columns</p>\n",
       "</div>"
      ],
      "text/plain": [
       "      target_id                                         image_path  \\\n",
       "0             7  ../data/train/4b0d7acc-bbb5-11e8-b2ba-ac1f6b64...   \n",
       "1           5 0  ../data/train/4b0e4648-bbc2-11e8-b2bb-ac1f6b64...   \n",
       "2            23  ../data/train/4b0fe352-bbbf-11e8-b2ba-ac1f6b64...   \n",
       "3             2  ../data/train/4b1164e4-bbaf-11e8-b2ba-ac1f6b64...   \n",
       "4            25  ../data/train/4b120c9e-bbb1-11e8-b2ba-ac1f6b64...   \n",
       "...         ...                                                ...   \n",
       "31067         7  ../data/train/9d04d730-bbb5-11e8-b2ba-ac1f6b64...   \n",
       "31068         4  ../data/train/9d09c7e0-bb9c-11e8-b2b9-ac1f6b64...   \n",
       "31069         0  ../data/train/9d0a7012-bbc6-11e8-b2bc-ac1f6b64...   \n",
       "31070      25 0  ../data/train/9d10ecec-bba0-11e8-b2b9-ac1f6b64...   \n",
       "31071       7 0  ../data/train/9d114136-bbb6-11e8-b2ba-ac1f6b64...   \n",
       "\n",
       "                                               embedding  \\\n",
       "0      [-0.14782768, -0.19346946, 0.029495712, -0.114...   \n",
       "1      [-0.11768038, 0.108380914, -0.07158355, -0.051...   \n",
       "2      [-0.14264518, -0.14894637, 0.015262008, -0.138...   \n",
       "3      [-0.14977421, -0.12706101, -0.17702478, -0.087...   \n",
       "4      [-0.15020615, -0.008659467, -0.14262204, -0.04...   \n",
       "...                                                  ...   \n",
       "31067  [-0.095827445, -0.14014255, -0.1306586, -0.081...   \n",
       "31068  [-0.109680824, -0.07402489, -0.08704822, -0.08...   \n",
       "31069  [-0.14760047, -0.105946906, 0.17695697, -0.130...   \n",
       "31070  [-0.12235144, -0.12698074, -0.052961998, -0.10...   \n",
       "31071  [-0.1314421, -0.13573745, -0.14491996, -0.0963...   \n",
       "\n",
       "                                 image_name  \n",
       "0      4b0d7acc-bbb5-11e8-b2ba-ac1f6b6435d0  \n",
       "1      4b0e4648-bbc2-11e8-b2bb-ac1f6b6435d0  \n",
       "2      4b0fe352-bbbf-11e8-b2ba-ac1f6b6435d0  \n",
       "3      4b1164e4-bbaf-11e8-b2ba-ac1f6b6435d0  \n",
       "4      4b120c9e-bbb1-11e8-b2ba-ac1f6b6435d0  \n",
       "...                                     ...  \n",
       "31067  9d04d730-bbb5-11e8-b2ba-ac1f6b6435d0  \n",
       "31068  9d09c7e0-bb9c-11e8-b2b9-ac1f6b6435d0  \n",
       "31069  9d0a7012-bbc6-11e8-b2bc-ac1f6b6435d0  \n",
       "31070  9d10ecec-bba0-11e8-b2b9-ac1f6b6435d0  \n",
       "31071  9d114136-bbb6-11e8-b2ba-ac1f6b6435d0  \n",
       "\n",
       "[31072 rows x 4 columns]"
      ]
     },
     "execution_count": 5,
     "metadata": {},
     "output_type": "execute_result"
    }
   ],
   "source": [
    "# load embeddings (saved as parquet files), convert to pandas and get strings as strings\n",
    "emb = pq.read_table(embed_path).to_pandas()\n",
    "for col in ['target_id', 'image_path', 'image_name']:\n",
    "    emb[col] = emb[col].str.decode('utf-8')#.fillna(df[col]) \n",
    "emb"
   ]
  },
  {
   "cell_type": "markdown",
   "metadata": {},
   "source": [
    "#### Test the class with Mitochondria labeled with a 4\n",
    "- create a balanced subset of images that have nuclear bodies or not"
   ]
  },
  {
   "cell_type": "code",
   "execution_count": 6,
   "metadata": {},
   "outputs": [],
   "source": [
    "# INPUT: select the protein of interest and it's number\n",
    "protein_name = 'Nuclear specles'\n",
    "protein_number = 4"
   ]
  },
  {
   "cell_type": "code",
   "execution_count": 7,
   "metadata": {},
   "outputs": [],
   "source": [
    "# picking out all the images/embeddings with the protein\n",
    "selected_protein = Location_in_Target(location = protein_number)\n",
    "selected_protein.determine_pictures(labels_training)\n",
    "#Dataframe with filenames of pictures which have nuclear bodies\n",
    "df_pro = selected_protein.get_pictures().pictures_with_location_4\n",
    "#Dataframe with filenames of pictures which have no nuclear bodies\n",
    "df_no_pro = selected_protein.get_pictures().pictures_without_location_4"
   ]
  },
  {
   "cell_type": "code",
   "execution_count": 8,
   "metadata": {},
   "outputs": [],
   "source": [
    "# use join to pull out the embeddings of the nuclear bodies subset\n",
    "# first get the nuclear bodies and set target = 1\n",
    "emb_pro = emb.merge(df_pro.rename(\"image_name\").to_frame(), how=\"right\", on=\"image_name\")\n",
    "emb_pro[\"target_id\"] = 1\n",
    "# now the others, target = 0\n",
    "emb_no_pro = emb.merge(df_no_pro.rename(\"image_name\").to_frame(), how=\"right\", on=\"image_name\")\n",
    "emb_no_pro[\"target_id\"] = 0\n",
    "# now combine them into one table and shuffle\n",
    "df_emb_pro = pd.concat([emb_pro, emb_no_pro]).reset_index()\n",
    "df_emb_pro = shuffle(df_emb_pro, random_state=0)"
   ]
  },
  {
   "cell_type": "code",
   "execution_count": 9,
   "metadata": {},
   "outputs": [],
   "source": [
    "# put the features (embeddings) in one dataframe\n",
    "df_feats = pd.DataFrame(list(map(np.ravel, df_emb_pro.embedding)))"
   ]
  },
  {
   "cell_type": "code",
   "execution_count": 10,
   "metadata": {},
   "outputs": [
    {
     "data": {
      "text/plain": [
       "3029    1\n",
       "5306    0\n",
       "4676    0\n",
       "5640    0\n",
       "1778    1\n",
       "       ..\n",
       "4931    0\n",
       "3264    0\n",
       "1653    1\n",
       "2607    1\n",
       "2732    1\n",
       "Name: target_id, Length: 6440, dtype: int64"
      ]
     },
     "execution_count": 10,
     "metadata": {},
     "output_type": "execute_result"
    }
   ],
   "source": [
    "# get the targets, one hot encode and put into a dataframe\n",
    "# target dataframe\n",
    "targets = df_emb_pro['target_id']\n",
    "targets"
   ]
  },
  {
   "cell_type": "code",
   "execution_count": 10,
   "metadata": {},
   "outputs": [],
   "source": [
    "#sns.pairplot(pd.concat([df_feats,targets],axis=1).iloc[:,-10:], hue=\"target_id\");"
   ]
  },
  {
   "cell_type": "markdown",
   "metadata": {},
   "source": [
    "#### Notes:\n",
    "- data may still need to be scaled\n",
    "- also not uniformly distributed --- log?"
   ]
  },
  {
   "cell_type": "code",
   "execution_count": 11,
   "metadata": {},
   "outputs": [],
   "source": [
    "# Split data into train and test set\n",
    "X_train, X_test, y_train, y_test = train_test_split(df_feats, targets, stratify = targets, random_state=1)"
   ]
  },
  {
   "cell_type": "markdown",
   "metadata": {},
   "source": [
    "### Setup pipeline to preprocess data and train the model\n",
    "- setting up \"switcher class\" so that we can try different models/classifiers; from https://stackoverflow.com/questions/51695322/compare-multiple-algorithms-with-sklearn-pipeline\n",
    " "
   ]
  },
  {
   "cell_type": "markdown",
   "metadata": {},
   "source": [
    "!!! reduce overfitting\n",
    "- try with, without quantile and scaler\n",
    "- add regularization\n",
    "- ..."
   ]
  },
  {
   "cell_type": "code",
   "execution_count": 12,
   "metadata": {},
   "outputs": [],
   "source": [
    "from sklearn.base import BaseEstimator\n",
    "\n",
    "class ClfSwitcher(BaseEstimator):\n",
    "    def __init__(\n",
    "        self, \n",
    "        estimator = KNeighborsClassifier(),\n",
    "    ):\n",
    "        \"\"\"\n",
    "        A Custom BaseEstimator that can switch between classifiers.\n",
    "        :param estimator: sklearn object - The classifier\n",
    "        \"\"\" \n",
    "\n",
    "        self.estimator = estimator\n",
    "\n",
    "\n",
    "    def fit(self, X, y=None, **kwargs):\n",
    "        self.estimator.fit(X, y)\n",
    "        return self\n",
    "\n",
    "\n",
    "    def predict(self, X, y=None):\n",
    "        return self.estimator.predict(X)\n",
    "\n",
    "\n",
    "    def predict_proba(self, X):\n",
    "        return self.estimator.predict_proba(X)\n",
    "\n",
    "\n",
    "    def score(self, X, y):\n",
    "        return self.estimator.score(X, y)"
   ]
  },
  {
   "cell_type": "markdown",
   "metadata": {},
   "source": [
    "#### Compare different models (and some hyperparameters)"
   ]
  },
  {
   "cell_type": "code",
   "execution_count": 13,
   "metadata": {},
   "outputs": [],
   "source": [
    "# Define fbeta score as the metric to compare the models\n",
    "f_beta = 1\n",
    "fbeta_scorer = make_scorer(fbeta_score, beta=f_beta)"
   ]
  },
  {
   "cell_type": "code",
   "execution_count": 14,
   "metadata": {},
   "outputs": [
    {
     "name": "stdout",
     "output_type": "stream",
     "text": [
      "Fitting 5 folds for each of 13 candidates, totalling 65 fits\n",
      "[CV 3/5] END ..............., score=(train=0.755, test=0.594) total time= 1.8min\n",
      "[CV 1/5] END ..............., score=(train=0.766, test=0.589) total time= 1.8min\n",
      "[CV 2/5] END ..............., score=(train=0.762, test=0.626) total time= 1.8min\n",
      "[CV 5/5] END ..............., score=(train=0.737, test=0.633) total time= 1.8min\n",
      "[CV 4/5] END ..............., score=(train=0.757, test=0.618) total time= 1.8min\n",
      "[CV 2/5] END clf__estimator=SVC(), clf__estimator__C=0.1, clf__estimator__gamma=0.5, clf__estimator__kernel=rbf;, score=(train=0.000, test=0.000) total time= 2.6min\n",
      "[CV 1/5] END clf__estimator=SVC(), clf__estimator__C=0.1, clf__estimator__gamma=0.5, clf__estimator__kernel=rbf;, score=(train=0.673, test=0.642) total time= 2.6min\n",
      "[CV 4/5] END clf__estimator=SVC(), clf__estimator__C=0.1, clf__estimator__gamma=0.1, clf__estimator__kernel=rbf;, score=(train=0.668, test=0.663) total time= 2.6min\n",
      "[CV 5/5] END clf__estimator=SVC(), clf__estimator__C=0.1, clf__estimator__gamma=0.1, clf__estimator__kernel=rbf;, score=(train=0.000, test=0.000) total time= 2.6min\n",
      "[CV 2/5] END clf__estimator=SVC(), clf__estimator__C=0.1, clf__estimator__gamma=0.1, clf__estimator__kernel=rbf;, score=(train=0.000, test=0.000) total time= 2.6min\n",
      "[CV 3/5] END clf__estimator=SVC(), clf__estimator__C=0.1, clf__estimator__gamma=0.1, clf__estimator__kernel=rbf;, score=(train=0.670, test=0.654) total time= 2.6min\n",
      "[CV 1/5] END clf__estimator=SVC(), clf__estimator__C=0.1, clf__estimator__gamma=0.1, clf__estimator__kernel=rbf;, score=(train=0.673, test=0.642) total time= 2.6min\n",
      "[CV 3/5] END clf__estimator=SVC(), clf__estimator__C=0.1, clf__estimator__gamma=0.5, clf__estimator__kernel=rbf;, score=(train=0.670, test=0.654) total time= 2.8min\n",
      "[CV 5/5] END clf__estimator=SVC(), clf__estimator__C=0.1, clf__estimator__gamma=0.5, clf__estimator__kernel=rbf;, score=(train=0.000, test=0.000) total time= 2.8min\n",
      "[CV 1/5] END clf__estimator=SVC(), clf__estimator__C=0.1, clf__estimator__gamma=1, clf__estimator__kernel=rbf;, score=(train=0.673, test=0.642) total time= 2.8min\n",
      "[CV 2/5] END clf__estimator=SVC(), clf__estimator__C=0.1, clf__estimator__gamma=1, clf__estimator__kernel=rbf;, score=(train=0.000, test=0.000) total time= 2.8min\n",
      "[CV 4/5] END clf__estimator=SVC(), clf__estimator__C=0.1, clf__estimator__gamma=0.5, clf__estimator__kernel=rbf;, score=(train=0.668, test=0.663) total time= 2.8min\n",
      "[CV 3/5] END clf__estimator=SVC(), clf__estimator__C=0.1, clf__estimator__gamma=1, clf__estimator__kernel=rbf;, score=(train=0.670, test=0.654) total time= 2.9min\n",
      "[CV 5/5] END clf__estimator=SVC(), clf__estimator__C=0.1, clf__estimator__gamma=1, clf__estimator__kernel=rbf;, score=(train=0.000, test=0.000) total time= 2.9min\n",
      "[CV 3/5] END clf__estimator=SVC(), clf__estimator__C=0.1, clf__estimator__gamma=2, clf__estimator__kernel=rbf;, score=(train=0.670, test=0.654) total time= 2.9min\n",
      "[CV 2/5] END clf__estimator=SVC(), clf__estimator__C=0.1, clf__estimator__gamma=2, clf__estimator__kernel=rbf;, score=(train=0.000, test=0.000) total time= 2.9min\n",
      "[CV 4/5] END clf__estimator=SVC(), clf__estimator__C=0.1, clf__estimator__gamma=1, clf__estimator__kernel=rbf;, score=(train=0.668, test=0.663) total time= 2.9min\n",
      "[CV 1/5] END clf__estimator=SVC(), clf__estimator__C=0.1, clf__estimator__gamma=2, clf__estimator__kernel=rbf;, score=(train=0.673, test=0.642) total time= 2.9min\n",
      "[CV 4/5] END clf__estimator=SVC(), clf__estimator__C=0.1, clf__estimator__gamma=2, clf__estimator__kernel=rbf;, score=(train=0.668, test=0.663) total time= 2.9min\n",
      "[CV 5/5] END clf__estimator=SVC(), clf__estimator__C=0.1, clf__estimator__gamma=2, clf__estimator__kernel=rbf;, score=(train=0.000, test=0.000) total time= 2.9min\n",
      "[CV 1/5] END clf__estimator=SVC(), clf__estimator__C=0.5, clf__estimator__gamma=0.1, clf__estimator__kernel=rbf;, score=(train=0.692, test=0.643) total time= 3.0min\n",
      "[CV 3/5] END clf__estimator=SVC(), clf__estimator__C=0.5, clf__estimator__gamma=0.1, clf__estimator__kernel=rbf;, score=(train=0.688, test=0.655) total time= 2.9min\n",
      "[CV 2/5] END clf__estimator=SVC(), clf__estimator__C=0.5, clf__estimator__gamma=0.1, clf__estimator__kernel=rbf;, score=(train=0.999, test=0.008) total time= 3.0min\n",
      "[CV 4/5] END clf__estimator=SVC(), clf__estimator__C=0.5, clf__estimator__gamma=0.1, clf__estimator__kernel=rbf;, score=(train=0.687, test=0.664) total time= 3.0min\n",
      "[CV 1/5] END clf__estimator=SVC(), clf__estimator__C=0.5, clf__estimator__gamma=0.5, clf__estimator__kernel=rbf;, score=(train=0.690, test=0.643) total time= 2.9min\n",
      "[CV 2/5] END clf__estimator=SVC(), clf__estimator__C=0.5, clf__estimator__gamma=0.5, clf__estimator__kernel=rbf;, score=(train=1.000, test=0.004) total time= 2.9min\n",
      "[CV 5/5] END clf__estimator=SVC(), clf__estimator__C=0.5, clf__estimator__gamma=0.1, clf__estimator__kernel=rbf;, score=(train=0.999, test=0.000) total time= 2.9min\n",
      "[CV 5/5] END clf__estimator=SVC(), clf__estimator__C=0.5, clf__estimator__gamma=0.5, clf__estimator__kernel=rbf;, score=(train=0.999, test=0.000) total time= 2.9min\n",
      "[CV 3/5] END clf__estimator=SVC(), clf__estimator__C=0.5, clf__estimator__gamma=0.5, clf__estimator__kernel=rbf;, score=(train=0.687, test=0.654) total time= 2.9min\n",
      "[CV 4/5] END clf__estimator=SVC(), clf__estimator__C=0.5, clf__estimator__gamma=0.5, clf__estimator__kernel=rbf;, score=(train=0.685, test=0.663) total time= 2.9min\n",
      "[CV 1/5] END clf__estimator=SVC(), clf__estimator__C=0.5, clf__estimator__gamma=1, clf__estimator__kernel=rbf;, score=(train=0.690, test=0.643) total time= 2.9min\n",
      "[CV 2/5] END clf__estimator=SVC(), clf__estimator__C=0.5, clf__estimator__gamma=1, clf__estimator__kernel=rbf;, score=(train=1.000, test=0.004) total time= 3.1min\n",
      "[CV 5/5] END clf__estimator=SVC(), clf__estimator__C=0.5, clf__estimator__gamma=1, clf__estimator__kernel=rbf;, score=(train=1.000, test=0.000) total time= 3.1min\n",
      "[CV 3/5] END clf__estimator=SVC(), clf__estimator__C=0.5, clf__estimator__gamma=1, clf__estimator__kernel=rbf;, score=(train=0.686, test=0.654) total time= 3.1min\n",
      "[CV 4/5] END clf__estimator=SVC(), clf__estimator__C=0.5, clf__estimator__gamma=1, clf__estimator__kernel=rbf;, score=(train=0.685, test=0.664) total time= 3.1min\n",
      "[CV 1/5] END clf__estimator=SVC(), clf__estimator__C=0.5, clf__estimator__gamma=2, clf__estimator__kernel=rbf;, score=(train=0.690, test=0.643) total time= 3.1min\n",
      "[CV 2/5] END clf__estimator=SVC(), clf__estimator__C=0.5, clf__estimator__gamma=2, clf__estimator__kernel=rbf;, score=(train=1.000, test=0.004) total time= 3.0min\n",
      "[CV 4/5] END clf__estimator=SVC(), clf__estimator__C=0.5, clf__estimator__gamma=2, clf__estimator__kernel=rbf;, score=(train=0.684, test=0.664) total time= 3.0min\n",
      "[CV 3/5] END clf__estimator=SVC(), clf__estimator__C=0.5, clf__estimator__gamma=2, clf__estimator__kernel=rbf;, score=(train=0.686, test=0.654) total time= 3.0min\n",
      "[CV 5/5] END clf__estimator=SVC(), clf__estimator__C=0.5, clf__estimator__gamma=2, clf__estimator__kernel=rbf;, score=(train=1.000, test=0.000) total time= 3.0min\n",
      "[CV 1/5] END clf__estimator=SVC(), clf__estimator__C=1, clf__estimator__gamma=0.1, clf__estimator__kernel=rbf;, score=(train=1.000, test=0.660) total time= 3.0min\n",
      "[CV 2/5] END clf__estimator=SVC(), clf__estimator__C=1, clf__estimator__gamma=0.1, clf__estimator__kernel=rbf;, score=(train=0.999, test=0.697) total time= 3.0min\n",
      "[CV 3/5] END clf__estimator=SVC(), clf__estimator__C=1, clf__estimator__gamma=0.1, clf__estimator__kernel=rbf;, score=(train=0.999, test=0.674) total time= 3.0min\n",
      "[CV 4/5] END clf__estimator=SVC(), clf__estimator__C=1, clf__estimator__gamma=0.1, clf__estimator__kernel=rbf;, score=(train=0.999, test=0.683) total time= 3.4min\n",
      "[CV 2/5] END clf__estimator=SVC(), clf__estimator__C=1, clf__estimator__gamma=0.5, clf__estimator__kernel=rbf;, score=(train=1.000, test=0.695) total time= 3.4min\n",
      "[CV 1/5] END clf__estimator=SVC(), clf__estimator__C=1, clf__estimator__gamma=0.5, clf__estimator__kernel=rbf;, score=(train=1.000, test=0.660) total time= 3.4min\n",
      "[CV 3/5] END clf__estimator=SVC(), clf__estimator__C=1, clf__estimator__gamma=0.5, clf__estimator__kernel=rbf;, score=(train=1.000, test=0.674) total time= 3.4min\n",
      "[CV 5/5] END clf__estimator=SVC(), clf__estimator__C=1, clf__estimator__gamma=0.1, clf__estimator__kernel=rbf;, score=(train=0.999, test=0.715) total time= 3.4min\n",
      "[CV 4/5] END clf__estimator=SVC(), clf__estimator__C=1, clf__estimator__gamma=0.5, clf__estimator__kernel=rbf;, score=(train=1.000, test=0.682) total time= 3.0min\n",
      "[CV 1/5] END clf__estimator=SVC(), clf__estimator__C=1, clf__estimator__gamma=1, clf__estimator__kernel=rbf;, score=(train=1.000, test=0.660) total time= 3.0min\n",
      "[CV 5/5] END clf__estimator=SVC(), clf__estimator__C=1, clf__estimator__gamma=0.5, clf__estimator__kernel=rbf;, score=(train=1.000, test=0.714) total time= 3.0min\n",
      "[CV 2/5] END clf__estimator=SVC(), clf__estimator__C=1, clf__estimator__gamma=1, clf__estimator__kernel=rbf;, score=(train=1.000, test=0.695) total time= 3.0min\n",
      "[CV 3/5] END clf__estimator=SVC(), clf__estimator__C=1, clf__estimator__gamma=1, clf__estimator__kernel=rbf;, score=(train=1.000, test=0.674) total time= 3.0min\n",
      "[CV 4/5] END clf__estimator=SVC(), clf__estimator__C=1, clf__estimator__gamma=1, clf__estimator__kernel=rbf;, score=(train=1.000, test=0.682) total time= 3.0min\n",
      "[CV 5/5] END clf__estimator=SVC(), clf__estimator__C=1, clf__estimator__gamma=1, clf__estimator__kernel=rbf;, score=(train=1.000, test=0.714) total time= 3.0min\n",
      "[CV 1/5] END clf__estimator=SVC(), clf__estimator__C=1, clf__estimator__gamma=2, clf__estimator__kernel=rbf;, score=(train=1.000, test=0.660) total time= 2.7min\n",
      "[CV 2/5] END clf__estimator=SVC(), clf__estimator__C=1, clf__estimator__gamma=2, clf__estimator__kernel=rbf;, score=(train=1.000, test=0.695) total time= 2.6min\n",
      "[CV 4/5] END clf__estimator=SVC(), clf__estimator__C=1, clf__estimator__gamma=2, clf__estimator__kernel=rbf;, score=(train=1.000, test=0.682) total time= 2.6min\n",
      "[CV 3/5] END clf__estimator=SVC(), clf__estimator__C=1, clf__estimator__gamma=2, clf__estimator__kernel=rbf;, score=(train=1.000, test=0.674) total time= 2.6min\n",
      "[CV 5/5] END clf__estimator=SVC(), clf__estimator__C=1, clf__estimator__gamma=2, clf__estimator__kernel=rbf;, score=(train=1.000, test=0.713) total time= 2.6min\n"
     ]
    },
    {
     "data": {
      "text/plain": [
       "GridSearchCV(cv=5,\n",
       "             estimator=Pipeline(steps=[('quant',\n",
       "                                        QuantileTransformer(random_state=0)),\n",
       "                                       ('stscale', StandardScaler()),\n",
       "                                       ('clf', ClfSwitcher())]),\n",
       "             n_jobs=12,\n",
       "             param_grid=[{},\n",
       "                         {'clf__estimator': [SVC(C=1, gamma=0.1)],\n",
       "                          'clf__estimator__C': [0.1, 0.5, 1],\n",
       "                          'clf__estimator__gamma': [0.1, 0.5, 1, 2],\n",
       "                          'clf__estimator__kernel': ['rbf']}],\n",
       "             return_train_score=True, scoring=make_scorer(fbeta_score, beta=1),\n",
       "             verbose=3)"
      ]
     },
     "execution_count": 14,
     "metadata": {},
     "output_type": "execute_result"
    }
   ],
   "source": [
    "pipeline = Pipeline([\n",
    "    ('quant', QuantileTransformer(random_state=0)), \n",
    "    ('stscale',StandardScaler()),\n",
    "    ('clf', ClfSwitcher()),\n",
    "])\n",
    "\n",
    "# set up the different models like hyperparameters\n",
    "# list_of_clf = [LogisticRegression(), KNeighborsClassifier(), SVC(), DecisionTreeClassifier(random_state=42)]\n",
    "\n",
    "parameters = [\n",
    "#    {\n",
    "#        'clf__estimator': [SGDClassifier()], \n",
    "#        'clf__estimator__penalty': ('l2'), # , 'elasticnet', 'l1'\n",
    "#    },    \n",
    "    #{\n",
    "    #    'clf__estimator': [DecisionTreeClassifier(random_state=42)], \n",
    "    #},    \n",
    "    {\n",
    "        # 'clf__estimator': [KNeighborsClassifier()], #n_neighbors=3, p=1\n",
    "        # 'clf__estimator__p': [1],\n",
    "        # 'clf__estimator__n_neighbors': [3],\n",
    "    },\n",
    "#    {\n",
    "#        'clf__estimator': [LogisticRegression()], \n",
    "#        'clf__estimator__penalty': ('l2'),\n",
    "#    },\n",
    "    # {\n",
    "    #     'clf__estimator': [LinearSVC()], \n",
    "    #     'clf__estimator__penalty': ['l2'],\n",
    "    #     'clf__estimator__loss': ['hinge'], #,'squared_hinge'], # , \n",
    "    #     'clf__estimator__C': [1e-3], #, 1e-2], # 1e-4, 1\n",
    "    # #    'clf__estimator__dual': ['False']\n",
    "    # },\n",
    "    {\n",
    "        'clf__estimator': [SVC()], \n",
    "        'clf__estimator__kernel': ['rbf'], #, 'sigmoid'], #'linear', ,'poly'\n",
    "        'clf__estimator__C': [0.1, 0.5, 1], #, 1], # 0.1, 1, \n",
    "        'clf__estimator__gamma': [0.1, 0.5, 1, 2] #, 'auto', 'scale']\n",
    "    },\n",
    "    # { just gives nan, can't handle negative data\n",
    "    #     'clf__estimator': [MultinomialNB()], \n",
    "    # },\n",
    "]\n",
    "\n",
    "gscv = GridSearchCV(pipeline, parameters, cv=5, n_jobs=12, return_train_score=True, verbose=3,\n",
    "                    scoring=fbeta_scorer)\n",
    "gscv.fit(X_train, y_train)"
   ]
  },
  {
   "cell_type": "markdown",
   "metadata": {},
   "source": [
    "#### Notes:\n",
    "- check the output of the QuantileTransformer, does it make distributions uniform?\n",
    "- need to deal with overfitting\n",
    "- "
   ]
  },
  {
   "cell_type": "code",
   "execution_count": 15,
   "metadata": {},
   "outputs": [
    {
     "data": {
      "text/html": [
       "<div>\n",
       "<style scoped>\n",
       "    .dataframe tbody tr th:only-of-type {\n",
       "        vertical-align: middle;\n",
       "    }\n",
       "\n",
       "    .dataframe tbody tr th {\n",
       "        vertical-align: top;\n",
       "    }\n",
       "\n",
       "    .dataframe thead th {\n",
       "        text-align: right;\n",
       "    }\n",
       "</style>\n",
       "<table border=\"1\" class=\"dataframe\">\n",
       "  <thead>\n",
       "    <tr style=\"text-align: right;\">\n",
       "      <th></th>\n",
       "      <th>mean_fit_time</th>\n",
       "      <th>std_fit_time</th>\n",
       "      <th>mean_score_time</th>\n",
       "      <th>std_score_time</th>\n",
       "      <th>param_clf__estimator</th>\n",
       "      <th>param_clf__estimator__C</th>\n",
       "      <th>param_clf__estimator__gamma</th>\n",
       "      <th>param_clf__estimator__kernel</th>\n",
       "      <th>params</th>\n",
       "      <th>split0_test_score</th>\n",
       "      <th>...</th>\n",
       "      <th>mean_test_score</th>\n",
       "      <th>std_test_score</th>\n",
       "      <th>rank_test_score</th>\n",
       "      <th>split0_train_score</th>\n",
       "      <th>split1_train_score</th>\n",
       "      <th>split2_train_score</th>\n",
       "      <th>split3_train_score</th>\n",
       "      <th>split4_train_score</th>\n",
       "      <th>mean_train_score</th>\n",
       "      <th>std_train_score</th>\n",
       "    </tr>\n",
       "  </thead>\n",
       "  <tbody>\n",
       "    <tr>\n",
       "      <th>0</th>\n",
       "      <td>104.975348</td>\n",
       "      <td>0.211123</td>\n",
       "      <td>2.485993</td>\n",
       "      <td>0.073271</td>\n",
       "      <td>NaN</td>\n",
       "      <td>NaN</td>\n",
       "      <td>NaN</td>\n",
       "      <td>NaN</td>\n",
       "      <td>{}</td>\n",
       "      <td>0.589229</td>\n",
       "      <td>...</td>\n",
       "      <td>0.611911</td>\n",
       "      <td>0.017487</td>\n",
       "      <td>5</td>\n",
       "      <td>0.765562</td>\n",
       "      <td>0.762369</td>\n",
       "      <td>0.755128</td>\n",
       "      <td>0.757421</td>\n",
       "      <td>0.736677</td>\n",
       "      <td>0.755431</td>\n",
       "      <td>0.010065</td>\n",
       "    </tr>\n",
       "    <tr>\n",
       "      <th>1</th>\n",
       "      <td>146.918468</td>\n",
       "      <td>0.425527</td>\n",
       "      <td>11.035081</td>\n",
       "      <td>0.126438</td>\n",
       "      <td>SVC(C=1, gamma=0.1)</td>\n",
       "      <td>0.1</td>\n",
       "      <td>0.1</td>\n",
       "      <td>rbf</td>\n",
       "      <td>{'clf__estimator': SVC(C=1, gamma=0.1), 'clf__...</td>\n",
       "      <td>0.642305</td>\n",
       "      <td>...</td>\n",
       "      <td>0.391788</td>\n",
       "      <td>0.319960</td>\n",
       "      <td>10</td>\n",
       "      <td>0.672621</td>\n",
       "      <td>0.000000</td>\n",
       "      <td>0.669880</td>\n",
       "      <td>0.667586</td>\n",
       "      <td>0.000000</td>\n",
       "      <td>0.402017</td>\n",
       "      <td>0.328250</td>\n",
       "    </tr>\n",
       "    <tr>\n",
       "      <th>2</th>\n",
       "      <td>154.305952</td>\n",
       "      <td>6.757734</td>\n",
       "      <td>10.621546</td>\n",
       "      <td>0.311417</td>\n",
       "      <td>SVC(C=1, gamma=0.1)</td>\n",
       "      <td>0.1</td>\n",
       "      <td>0.5</td>\n",
       "      <td>rbf</td>\n",
       "      <td>{'clf__estimator': SVC(C=1, gamma=0.1), 'clf__...</td>\n",
       "      <td>0.642305</td>\n",
       "      <td>...</td>\n",
       "      <td>0.391788</td>\n",
       "      <td>0.319960</td>\n",
       "      <td>10</td>\n",
       "      <td>0.672621</td>\n",
       "      <td>0.000000</td>\n",
       "      <td>0.669880</td>\n",
       "      <td>0.667586</td>\n",
       "      <td>0.000000</td>\n",
       "      <td>0.402017</td>\n",
       "      <td>0.328250</td>\n",
       "    </tr>\n",
       "    <tr>\n",
       "      <th>3</th>\n",
       "      <td>161.599556</td>\n",
       "      <td>1.649412</td>\n",
       "      <td>11.252980</td>\n",
       "      <td>0.830522</td>\n",
       "      <td>SVC(C=1, gamma=0.1)</td>\n",
       "      <td>0.1</td>\n",
       "      <td>1</td>\n",
       "      <td>rbf</td>\n",
       "      <td>{'clf__estimator': SVC(C=1, gamma=0.1), 'clf__...</td>\n",
       "      <td>0.642305</td>\n",
       "      <td>...</td>\n",
       "      <td>0.391788</td>\n",
       "      <td>0.319960</td>\n",
       "      <td>10</td>\n",
       "      <td>0.672621</td>\n",
       "      <td>0.000000</td>\n",
       "      <td>0.669880</td>\n",
       "      <td>0.667586</td>\n",
       "      <td>0.000000</td>\n",
       "      <td>0.402017</td>\n",
       "      <td>0.328250</td>\n",
       "    </tr>\n",
       "    <tr>\n",
       "      <th>4</th>\n",
       "      <td>163.691796</td>\n",
       "      <td>1.334987</td>\n",
       "      <td>11.356697</td>\n",
       "      <td>0.625887</td>\n",
       "      <td>SVC(C=1, gamma=0.1)</td>\n",
       "      <td>0.1</td>\n",
       "      <td>2</td>\n",
       "      <td>rbf</td>\n",
       "      <td>{'clf__estimator': SVC(C=1, gamma=0.1), 'clf__...</td>\n",
       "      <td>0.642305</td>\n",
       "      <td>...</td>\n",
       "      <td>0.391788</td>\n",
       "      <td>0.319960</td>\n",
       "      <td>10</td>\n",
       "      <td>0.672621</td>\n",
       "      <td>0.000000</td>\n",
       "      <td>0.669880</td>\n",
       "      <td>0.667586</td>\n",
       "      <td>0.000000</td>\n",
       "      <td>0.402017</td>\n",
       "      <td>0.328250</td>\n",
       "    </tr>\n",
       "    <tr>\n",
       "      <th>5</th>\n",
       "      <td>166.024447</td>\n",
       "      <td>1.971238</td>\n",
       "      <td>10.708721</td>\n",
       "      <td>1.242571</td>\n",
       "      <td>SVC(C=1, gamma=0.1)</td>\n",
       "      <td>0.5</td>\n",
       "      <td>0.1</td>\n",
       "      <td>rbf</td>\n",
       "      <td>{'clf__estimator': SVC(C=1, gamma=0.1), 'clf__...</td>\n",
       "      <td>0.643110</td>\n",
       "      <td>...</td>\n",
       "      <td>0.393927</td>\n",
       "      <td>0.318426</td>\n",
       "      <td>6</td>\n",
       "      <td>0.692008</td>\n",
       "      <td>0.999219</td>\n",
       "      <td>0.688385</td>\n",
       "      <td>0.686901</td>\n",
       "      <td>0.998946</td>\n",
       "      <td>0.813092</td>\n",
       "      <td>0.151870</td>\n",
       "    </tr>\n",
       "    <tr>\n",
       "      <th>6</th>\n",
       "      <td>161.522067</td>\n",
       "      <td>0.354154</td>\n",
       "      <td>12.938526</td>\n",
       "      <td>0.084779</td>\n",
       "      <td>SVC(C=1, gamma=0.1)</td>\n",
       "      <td>0.5</td>\n",
       "      <td>0.5</td>\n",
       "      <td>rbf</td>\n",
       "      <td>{'clf__estimator': SVC(C=1, gamma=0.1), 'clf__...</td>\n",
       "      <td>0.643209</td>\n",
       "      <td>...</td>\n",
       "      <td>0.392958</td>\n",
       "      <td>0.319266</td>\n",
       "      <td>9</td>\n",
       "      <td>0.690409</td>\n",
       "      <td>0.999740</td>\n",
       "      <td>0.686662</td>\n",
       "      <td>0.685188</td>\n",
       "      <td>0.999473</td>\n",
       "      <td>0.812294</td>\n",
       "      <td>0.152949</td>\n",
       "    </tr>\n",
       "    <tr>\n",
       "      <th>7</th>\n",
       "      <td>170.114493</td>\n",
       "      <td>4.073289</td>\n",
       "      <td>11.593168</td>\n",
       "      <td>0.574815</td>\n",
       "      <td>SVC(C=1, gamma=0.1)</td>\n",
       "      <td>0.5</td>\n",
       "      <td>1</td>\n",
       "      <td>rbf</td>\n",
       "      <td>{'clf__estimator': SVC(C=1, gamma=0.1), 'clf__...</td>\n",
       "      <td>0.643209</td>\n",
       "      <td>...</td>\n",
       "      <td>0.393144</td>\n",
       "      <td>0.319424</td>\n",
       "      <td>7</td>\n",
       "      <td>0.689922</td>\n",
       "      <td>0.999740</td>\n",
       "      <td>0.686420</td>\n",
       "      <td>0.685188</td>\n",
       "      <td>0.999737</td>\n",
       "      <td>0.812201</td>\n",
       "      <td>0.153131</td>\n",
       "    </tr>\n",
       "    <tr>\n",
       "      <th>8</th>\n",
       "      <td>168.338088</td>\n",
       "      <td>2.010931</td>\n",
       "      <td>12.038815</td>\n",
       "      <td>0.507199</td>\n",
       "      <td>SVC(C=1, gamma=0.1)</td>\n",
       "      <td>0.5</td>\n",
       "      <td>2</td>\n",
       "      <td>rbf</td>\n",
       "      <td>{'clf__estimator': SVC(C=1, gamma=0.1), 'clf__...</td>\n",
       "      <td>0.643209</td>\n",
       "      <td>...</td>\n",
       "      <td>0.393144</td>\n",
       "      <td>0.319424</td>\n",
       "      <td>7</td>\n",
       "      <td>0.689679</td>\n",
       "      <td>1.000000</td>\n",
       "      <td>0.685936</td>\n",
       "      <td>0.684462</td>\n",
       "      <td>1.000000</td>\n",
       "      <td>0.812015</td>\n",
       "      <td>0.153498</td>\n",
       "    </tr>\n",
       "    <tr>\n",
       "      <th>9</th>\n",
       "      <td>177.237672</td>\n",
       "      <td>10.169354</td>\n",
       "      <td>12.249547</td>\n",
       "      <td>0.544402</td>\n",
       "      <td>SVC(C=1, gamma=0.1)</td>\n",
       "      <td>1</td>\n",
       "      <td>0.1</td>\n",
       "      <td>rbf</td>\n",
       "      <td>{'clf__estimator': SVC(C=1, gamma=0.1), 'clf__...</td>\n",
       "      <td>0.659898</td>\n",
       "      <td>...</td>\n",
       "      <td>0.685724</td>\n",
       "      <td>0.019007</td>\n",
       "      <td>1</td>\n",
       "      <td>0.999745</td>\n",
       "      <td>0.999479</td>\n",
       "      <td>0.999229</td>\n",
       "      <td>0.999483</td>\n",
       "      <td>0.999473</td>\n",
       "      <td>0.999482</td>\n",
       "      <td>0.000163</td>\n",
       "    </tr>\n",
       "    <tr>\n",
       "      <th>10</th>\n",
       "      <td>180.979693</td>\n",
       "      <td>10.326869</td>\n",
       "      <td>11.822327</td>\n",
       "      <td>0.308620</td>\n",
       "      <td>SVC(C=1, gamma=0.1)</td>\n",
       "      <td>1</td>\n",
       "      <td>0.5</td>\n",
       "      <td>rbf</td>\n",
       "      <td>{'clf__estimator': SVC(C=1, gamma=0.1), 'clf__...</td>\n",
       "      <td>0.660391</td>\n",
       "      <td>...</td>\n",
       "      <td>0.685118</td>\n",
       "      <td>0.018313</td>\n",
       "      <td>3</td>\n",
       "      <td>0.999745</td>\n",
       "      <td>0.999740</td>\n",
       "      <td>0.999743</td>\n",
       "      <td>1.000000</td>\n",
       "      <td>0.999737</td>\n",
       "      <td>0.999793</td>\n",
       "      <td>0.000104</td>\n",
       "    </tr>\n",
       "    <tr>\n",
       "      <th>11</th>\n",
       "      <td>168.416219</td>\n",
       "      <td>0.123371</td>\n",
       "      <td>11.359729</td>\n",
       "      <td>0.152563</td>\n",
       "      <td>SVC(C=1, gamma=0.1)</td>\n",
       "      <td>1</td>\n",
       "      <td>1</td>\n",
       "      <td>rbf</td>\n",
       "      <td>{'clf__estimator': SVC(C=1, gamma=0.1), 'clf__...</td>\n",
       "      <td>0.660405</td>\n",
       "      <td>...</td>\n",
       "      <td>0.685121</td>\n",
       "      <td>0.018309</td>\n",
       "      <td>2</td>\n",
       "      <td>1.000000</td>\n",
       "      <td>1.000000</td>\n",
       "      <td>1.000000</td>\n",
       "      <td>1.000000</td>\n",
       "      <td>1.000000</td>\n",
       "      <td>1.000000</td>\n",
       "      <td>0.000000</td>\n",
       "    </tr>\n",
       "    <tr>\n",
       "      <th>12</th>\n",
       "      <td>150.426143</td>\n",
       "      <td>0.633149</td>\n",
       "      <td>7.433106</td>\n",
       "      <td>0.079886</td>\n",
       "      <td>SVC(C=1, gamma=0.1)</td>\n",
       "      <td>1</td>\n",
       "      <td>2</td>\n",
       "      <td>rbf</td>\n",
       "      <td>{'clf__estimator': SVC(C=1, gamma=0.1), 'clf__...</td>\n",
       "      <td>0.660405</td>\n",
       "      <td>...</td>\n",
       "      <td>0.684827</td>\n",
       "      <td>0.018055</td>\n",
       "      <td>4</td>\n",
       "      <td>1.000000</td>\n",
       "      <td>1.000000</td>\n",
       "      <td>1.000000</td>\n",
       "      <td>1.000000</td>\n",
       "      <td>1.000000</td>\n",
       "      <td>1.000000</td>\n",
       "      <td>0.000000</td>\n",
       "    </tr>\n",
       "  </tbody>\n",
       "</table>\n",
       "<p>13 rows × 24 columns</p>\n",
       "</div>"
      ],
      "text/plain": [
       "    mean_fit_time  std_fit_time  mean_score_time  std_score_time  \\\n",
       "0      104.975348      0.211123         2.485993        0.073271   \n",
       "1      146.918468      0.425527        11.035081        0.126438   \n",
       "2      154.305952      6.757734        10.621546        0.311417   \n",
       "3      161.599556      1.649412        11.252980        0.830522   \n",
       "4      163.691796      1.334987        11.356697        0.625887   \n",
       "5      166.024447      1.971238        10.708721        1.242571   \n",
       "6      161.522067      0.354154        12.938526        0.084779   \n",
       "7      170.114493      4.073289        11.593168        0.574815   \n",
       "8      168.338088      2.010931        12.038815        0.507199   \n",
       "9      177.237672     10.169354        12.249547        0.544402   \n",
       "10     180.979693     10.326869        11.822327        0.308620   \n",
       "11     168.416219      0.123371        11.359729        0.152563   \n",
       "12     150.426143      0.633149         7.433106        0.079886   \n",
       "\n",
       "   param_clf__estimator param_clf__estimator__C param_clf__estimator__gamma  \\\n",
       "0                   NaN                     NaN                         NaN   \n",
       "1   SVC(C=1, gamma=0.1)                     0.1                         0.1   \n",
       "2   SVC(C=1, gamma=0.1)                     0.1                         0.5   \n",
       "3   SVC(C=1, gamma=0.1)                     0.1                           1   \n",
       "4   SVC(C=1, gamma=0.1)                     0.1                           2   \n",
       "5   SVC(C=1, gamma=0.1)                     0.5                         0.1   \n",
       "6   SVC(C=1, gamma=0.1)                     0.5                         0.5   \n",
       "7   SVC(C=1, gamma=0.1)                     0.5                           1   \n",
       "8   SVC(C=1, gamma=0.1)                     0.5                           2   \n",
       "9   SVC(C=1, gamma=0.1)                       1                         0.1   \n",
       "10  SVC(C=1, gamma=0.1)                       1                         0.5   \n",
       "11  SVC(C=1, gamma=0.1)                       1                           1   \n",
       "12  SVC(C=1, gamma=0.1)                       1                           2   \n",
       "\n",
       "   param_clf__estimator__kernel  \\\n",
       "0                           NaN   \n",
       "1                           rbf   \n",
       "2                           rbf   \n",
       "3                           rbf   \n",
       "4                           rbf   \n",
       "5                           rbf   \n",
       "6                           rbf   \n",
       "7                           rbf   \n",
       "8                           rbf   \n",
       "9                           rbf   \n",
       "10                          rbf   \n",
       "11                          rbf   \n",
       "12                          rbf   \n",
       "\n",
       "                                               params  split0_test_score  ...  \\\n",
       "0                                                  {}           0.589229  ...   \n",
       "1   {'clf__estimator': SVC(C=1, gamma=0.1), 'clf__...           0.642305  ...   \n",
       "2   {'clf__estimator': SVC(C=1, gamma=0.1), 'clf__...           0.642305  ...   \n",
       "3   {'clf__estimator': SVC(C=1, gamma=0.1), 'clf__...           0.642305  ...   \n",
       "4   {'clf__estimator': SVC(C=1, gamma=0.1), 'clf__...           0.642305  ...   \n",
       "5   {'clf__estimator': SVC(C=1, gamma=0.1), 'clf__...           0.643110  ...   \n",
       "6   {'clf__estimator': SVC(C=1, gamma=0.1), 'clf__...           0.643209  ...   \n",
       "7   {'clf__estimator': SVC(C=1, gamma=0.1), 'clf__...           0.643209  ...   \n",
       "8   {'clf__estimator': SVC(C=1, gamma=0.1), 'clf__...           0.643209  ...   \n",
       "9   {'clf__estimator': SVC(C=1, gamma=0.1), 'clf__...           0.659898  ...   \n",
       "10  {'clf__estimator': SVC(C=1, gamma=0.1), 'clf__...           0.660391  ...   \n",
       "11  {'clf__estimator': SVC(C=1, gamma=0.1), 'clf__...           0.660405  ...   \n",
       "12  {'clf__estimator': SVC(C=1, gamma=0.1), 'clf__...           0.660405  ...   \n",
       "\n",
       "    mean_test_score  std_test_score  rank_test_score  split0_train_score  \\\n",
       "0          0.611911        0.017487                5            0.765562   \n",
       "1          0.391788        0.319960               10            0.672621   \n",
       "2          0.391788        0.319960               10            0.672621   \n",
       "3          0.391788        0.319960               10            0.672621   \n",
       "4          0.391788        0.319960               10            0.672621   \n",
       "5          0.393927        0.318426                6            0.692008   \n",
       "6          0.392958        0.319266                9            0.690409   \n",
       "7          0.393144        0.319424                7            0.689922   \n",
       "8          0.393144        0.319424                7            0.689679   \n",
       "9          0.685724        0.019007                1            0.999745   \n",
       "10         0.685118        0.018313                3            0.999745   \n",
       "11         0.685121        0.018309                2            1.000000   \n",
       "12         0.684827        0.018055                4            1.000000   \n",
       "\n",
       "    split1_train_score  split2_train_score  split3_train_score  \\\n",
       "0             0.762369            0.755128            0.757421   \n",
       "1             0.000000            0.669880            0.667586   \n",
       "2             0.000000            0.669880            0.667586   \n",
       "3             0.000000            0.669880            0.667586   \n",
       "4             0.000000            0.669880            0.667586   \n",
       "5             0.999219            0.688385            0.686901   \n",
       "6             0.999740            0.686662            0.685188   \n",
       "7             0.999740            0.686420            0.685188   \n",
       "8             1.000000            0.685936            0.684462   \n",
       "9             0.999479            0.999229            0.999483   \n",
       "10            0.999740            0.999743            1.000000   \n",
       "11            1.000000            1.000000            1.000000   \n",
       "12            1.000000            1.000000            1.000000   \n",
       "\n",
       "    split4_train_score  mean_train_score  std_train_score  \n",
       "0             0.736677          0.755431         0.010065  \n",
       "1             0.000000          0.402017         0.328250  \n",
       "2             0.000000          0.402017         0.328250  \n",
       "3             0.000000          0.402017         0.328250  \n",
       "4             0.000000          0.402017         0.328250  \n",
       "5             0.998946          0.813092         0.151870  \n",
       "6             0.999473          0.812294         0.152949  \n",
       "7             0.999737          0.812201         0.153131  \n",
       "8             1.000000          0.812015         0.153498  \n",
       "9             0.999473          0.999482         0.000163  \n",
       "10            0.999737          0.999793         0.000104  \n",
       "11            1.000000          1.000000         0.000000  \n",
       "12            1.000000          1.000000         0.000000  \n",
       "\n",
       "[13 rows x 24 columns]"
      ]
     },
     "execution_count": 15,
     "metadata": {},
     "output_type": "execute_result"
    },
    {
     "data": {
      "image/png": "[encoded data removed]",
      "text/plain": [
       "<Figure size 432x288 with 1 Axes>"
      ]
     },
     "metadata": {
      "needs_background": "light"
     },
     "output_type": "display_data"
    }
   ],
   "source": [
    "df_grid = pd.DataFrame(gscv.cv_results_)\n",
    "df_grid.plot(y=['mean_test_score', 'mean_train_score'])\n",
    "df_grid"
   ]
  },
  {
   "cell_type": "markdown",
   "metadata": {},
   "source": [
    "#### Notes:\n",
    "- comparing SVC and and linearSVC with regularization\n",
    "    - SVC regularization with gamma and C now working, and results are better than linearSVC\n",
    "    - best fits (ie not overfitting, train vs test score <3% difference) are with C=0.1, 0.5 and gamma = 0.5, 1, 2\n",
    "    - GridsearchCV gives best result ast C=1 and gamma = 0.5 but this is overfitting by a wide margin (ie it's the best test score, but test score is 30% less than train score)\n",
    "- tried a few more options with SVC and found best scores for:\n",
    "    - C = 0.01, 0.1, gamma = 0.01, 0.05, 0.1, 1, 2, 5 \n",
    "    \n",
    "\n",
    "<!-- Old notes:\n",
    "- best result was 0.6832 with: {'clf__estimator': SVC(C=10), 'clf__estimator__C': 10, 'clf__estimator__kernel': 'rbf'}\n",
    "    - but this is overfitting a lot (0.99 with training and < 0.68 for test)\n",
    "    - and regularization isn't an option\n",
    "- in order to use regularization need to use LinearSVC, which does not overfit as much, but slightly lower score 0.652\n",
    "    - {'clf__estimator': LinearSVC(C=0.01, loss='hinge'), 'clf__estimator__C': 0.01, 'clf__estimator__loss': 'hinge', 'clf__estimator__penalty': 'l2'} -->"
   ]
  },
  {
   "cell_type": "markdown",
   "metadata": {},
   "source": [
    "### Set up model chosen as best with C = 0.1"
   ]
  },
  {
   "cell_type": "code",
   "execution_count": 16,
   "metadata": {},
   "outputs": [],
   "source": [
    "pipeline = Pipeline([\n",
    "    ('quant', QuantileTransformer(random_state=0)), \n",
    "    ('stscale',StandardScaler()),\n",
    "    ('svc', SVC(kernel='rbf', C=0.1)),\n",
    "])\n",
    "\n",
    "selected_model = pipeline.fit(X_train, y_train)\n"
   ]
  },
  {
   "cell_type": "markdown",
   "metadata": {},
   "source": [
    "##### !!! Note: \n",
    "- with C=0.1, gamma=1, model never predicts 0, always guesses 1 when run on training and test below. \n",
    "- Not setting gamma works, and is better than using all defaults, ie not setting C; (doesn't overfit as much). \n",
    "\n",
    "### !! how can this be? how to avoid this?"
   ]
  },
  {
   "cell_type": "markdown",
   "metadata": {},
   "source": [
    "### Run the best model on the training data"
   ]
  },
  {
   "cell_type": "code",
   "execution_count": 17,
   "metadata": {},
   "outputs": [
    {
     "name": "stdout",
     "output_type": "stream",
     "text": [
      "Best model on train data\n",
      "============================================================\n",
      "fbeta score: 0.6758\n",
      "------------------------------------------------------------\n",
      "              precision    recall  f1-score   support\n",
      "\n",
      "           0       0.68      0.51      0.58      2415\n",
      "           1       0.61      0.76      0.68      2415\n",
      "\n",
      "    accuracy                           0.63      4830\n",
      "   macro avg       0.64      0.63      0.63      4830\n",
      "weighted avg       0.64      0.63      0.63      4830\n",
      "\n",
      "------------------------------------------------------------\n"
     ]
    },
    {
     "data": {
      "image/png": "[encoded data removed]",
      "text/plain": [
       "<Figure size 432x288 with 2 Axes>"
      ]
     },
     "metadata": {
      "needs_background": "light"
     },
     "output_type": "display_data"
    }
   ],
   "source": [
    "# Plot confusion matrix and classification report for best model\n",
    "y_in = y_train\n",
    "x_in = X_train\n",
    "y_pred = selected_model.predict(x_in)\n",
    "\n",
    "print(\"Best model on train data\")\n",
    "print(\"===\"*20)\n",
    "print(\"fbeta score:\", fbeta_score(y_in, y_pred, beta=f_beta).round(4))\n",
    "print(\"---\"*20)\n",
    "print(classification_report(y_in, y_pred))\n",
    "print(\"---\"*20)\n",
    "\n",
    "cm = confusion_matrix(y_in, y_pred)\n",
    "sns.heatmap(cm, cmap=\"YlGnBu_r\", annot=True, fmt=\".0f\");"
   ]
  },
  {
   "cell_type": "markdown",
   "metadata": {},
   "source": [
    "### Set up model chosen as best with C = 1"
   ]
  },
  {
   "cell_type": "code",
   "execution_count": 19,
   "metadata": {},
   "outputs": [],
   "source": [
    "pipeline = Pipeline([\n",
    "    ('quant', QuantileTransformer(random_state=0)), \n",
    "    ('stscale',StandardScaler()),\n",
    "    ('svc', SVC(kernel='rbf', C=1)),\n",
    "])\n",
    "\n",
    "selected_model = pipeline.fit(X_train, y_train)"
   ]
  },
  {
   "cell_type": "code",
   "execution_count": 20,
   "metadata": {},
   "outputs": [
    {
     "name": "stdout",
     "output_type": "stream",
     "text": [
      "Best model on train data\n",
      "============================================================\n",
      "fbeta score: 0.8777\n",
      "------------------------------------------------------------\n",
      "              precision    recall  f1-score   support\n",
      "\n",
      "           0       0.87      0.90      0.88      2415\n",
      "           1       0.89      0.86      0.88      2415\n",
      "\n",
      "    accuracy                           0.88      4830\n",
      "   macro avg       0.88      0.88      0.88      4830\n",
      "weighted avg       0.88      0.88      0.88      4830\n",
      "\n",
      "------------------------------------------------------------\n"
     ]
    },
    {
     "data": {
      "image/png": "[encoded data removed]",
      "text/plain": [
       "<Figure size 432x288 with 2 Axes>"
      ]
     },
     "metadata": {
      "needs_background": "light"
     },
     "output_type": "display_data"
    }
   ],
   "source": [
    "# Plot confusion matrix and classification report for best model\n",
    "y_in = y_train\n",
    "x_in = X_train\n",
    "y_pred = selected_model.predict(x_in)\n",
    "\n",
    "print(\"Best model on train data\")\n",
    "print(\"===\"*20)\n",
    "print(\"fbeta score:\", fbeta_score(y_in, y_pred, beta=f_beta).round(4))\n",
    "print(\"---\"*20)\n",
    "print(classification_report(y_in, y_pred))\n",
    "print(\"---\"*20)\n",
    "\n",
    "cm = confusion_matrix(y_in, y_pred)\n",
    "sns.heatmap(cm, cmap=\"YlGnBu_r\", annot=True, fmt=\".0f\");"
   ]
  },
  {
   "cell_type": "markdown",
   "metadata": {},
   "source": [
    "### y_test is vertical y_pred is horizontal "
   ]
  },
  {
   "cell_type": "code",
   "execution_count": 22,
   "metadata": {},
   "outputs": [
    {
     "ename": "NameError",
     "evalue": "name 'model' is not defined",
     "output_type": "error",
     "traceback": [
      "\u001b[0;31m---------------------------------------------------------------------------\u001b[0m",
      "\u001b[0;31mNameError\u001b[0m                                 Traceback (most recent call last)",
      "\u001b[1;32m/Users/reneebrecht/neue_fische/human-protein-atlas-image-classification/notebooks/Binary_Regression_Models_Nucear_Specles.ipynb Cell 36'\u001b[0m in \u001b[0;36m<cell line: 1>\u001b[0;34m()\u001b[0m\n\u001b[0;32m----> <a href='vscode-notebook-cell:/Users/reneebrecht/neue_fische/human-protein-atlas-image-classification/notebooks/Binary_Regression_Models_Nucear_Specles.ipynb#ch0000055?line=0'>1</a>\u001b[0m y_pred \u001b[39m=\u001b[39m model\u001b[39m.\u001b[39mpredict(X_test)\n\u001b[1;32m      <a href='vscode-notebook-cell:/Users/reneebrecht/neue_fische/human-protein-atlas-image-classification/notebooks/Binary_Regression_Models_Nucear_Specles.ipynb#ch0000055?line=2'>3</a>\u001b[0m \u001b[39m# Plotting the confusing matrix\u001b[39;00m\n\u001b[1;32m      <a href='vscode-notebook-cell:/Users/reneebrecht/neue_fische/human-protein-atlas-image-classification/notebooks/Binary_Regression_Models_Nucear_Specles.ipynb#ch0000055?line=3'>4</a>\u001b[0m mat \u001b[39m=\u001b[39m confusion_matrix(y_test, y_pred\u001b[39m.\u001b[39mround())\n",
      "\u001b[0;31mNameError\u001b[0m: name 'model' is not defined"
     ]
    }
   ],
   "source": [
    "y_pred = model.predict(X_test)\n",
    "\n",
    "# Plotting the confusing matrix\n",
    "mat = confusion_matrix(y_test, y_pred.round())\n",
    "sns.heatmap(mat.T, square=True, annot=True, fmt='d', cbar=False)\n",
    "plt.xlabel('true label')\n",
    "plt.ylabel('predicted label');\n",
    "\n",
    "accuracy_score(y_test, y_pred.round()).round(2)\n",
    "f1_score(y_test, y_pred.round()).round(2)"
   ]
  },
  {
   "cell_type": "code",
   "execution_count": 18,
   "metadata": {},
   "outputs": [],
   "source": [
    "pipeline = Pipeline([\n",
    "    ('quant', QuantileTransformer(random_state=0)), \n",
    "    ('stscale',StandardScaler()),\n",
    "    ('svc', SVC(kernel='rbf', C=1)),\n",
    "])\n",
    "\n",
    "selected_model = pipeline.fit(X_train, y_train)"
   ]
  },
  {
   "cell_type": "code",
   "execution_count": null,
   "metadata": {},
   "outputs": [],
   "source": [
    "# Plot confusion matrix and classification report for best model\n",
    "y_in = y_train\n",
    "x_in = X_train\n",
    "y_pred = selected_model.predict(x_in)\n",
    "\n",
    "print(\"Best model on train data\")\n",
    "print(\"===\"*20)\n",
    "print(\"fbeta score:\", fbeta_score(y_in, y_pred, beta=f_beta).round(4))\n",
    "print(\"---\"*20)\n",
    "print(classification_report(y_in, y_pred))\n",
    "print(\"---\"*20)\n",
    "\n",
    "cm = confusion_matrix(y_in, y_pred)\n",
    "sns.heatmap(cm, cmap=\"YlGnBu_r\", annot=True, fmt=\".0f\");"
   ]
  },
  {
   "cell_type": "markdown",
   "metadata": {},
   "source": [
    "### Predict with test data"
   ]
  },
  {
   "cell_type": "code",
   "execution_count": 19,
   "metadata": {},
   "outputs": [
    {
     "name": "stdout",
     "output_type": "stream",
     "text": [
      "Best model on train data\n",
      "============================================================\n",
      "fbeta score: 0.6186\n",
      "------------------------------------------------------------\n",
      "              precision    recall  f1-score   support\n",
      "\n",
      "           0       0.64      0.49      0.56       772\n",
      "           1       0.56      0.69      0.62       711\n",
      "\n",
      "    accuracy                           0.59      1483\n",
      "   macro avg       0.60      0.59      0.59      1483\n",
      "weighted avg       0.60      0.59      0.59      1483\n",
      "\n",
      "------------------------------------------------------------\n"
     ]
    },
    {
     "data": {
      "image/png": "[encoded data removed]",
      "text/plain": [
       "<Figure size 432x288 with 2 Axes>"
      ]
     },
     "metadata": {
      "needs_background": "light"
     },
     "output_type": "display_data"
    }
   ],
   "source": [
    "# Plot confusion matrix and classification report for best model\n",
    "y_in = y_test\n",
    "x_in = X_test\n",
    "y_pred = selected_model.predict(x_in)\n",
    "\n",
    "print(\"Best model on train data\")\n",
    "print(\"===\"*20)\n",
    "print(\"fbeta score:\", fbeta_score(y_in, y_pred, beta=f_beta).round(4))\n",
    "print(\"---\"*20)\n",
    "print(classification_report(y_in, y_pred))\n",
    "print(\"---\"*20)\n",
    "\n",
    "cm = confusion_matrix(y_in, y_pred)\n",
    "sns.heatmap(cm, cmap=\"YlGnBu_r\", annot=True, fmt=\".0f\");"
   ]
  },
  {
   "cell_type": "markdown",
   "metadata": {},
   "source": [
    "### Initial pipeline setup for a KNN model, using defaults"
   ]
  },
  {
   "cell_type": "code",
   "execution_count": 13,
   "metadata": {},
   "outputs": [
    {
     "data": {
      "text/html": [
       "<style>#sk-container-id-1 {color: black;background-color: white;}#sk-container-id-1 pre{padding: 0;}#sk-container-id-1 div.sk-toggleable {background-color: white;}#sk-container-id-1 label.sk-toggleable__label {cursor: pointer;display: block;width: 100%;margin-bottom: 0;padding: 0.3em;box-sizing: border-box;text-align: center;}#sk-container-id-1 label.sk-toggleable__label-arrow:before {content: \"▸\";float: left;margin-right: 0.25em;color: #696969;}#sk-container-id-1 label.sk-toggleable__label-arrow:hover:before {color: black;}#sk-container-id-1 div.sk-estimator:hover label.sk-toggleable__label-arrow:before {color: black;}#sk-container-id-1 div.sk-toggleable__content {max-height: 0;max-width: 0;overflow: hidden;text-align: left;background-color: #f0f8ff;}#sk-container-id-1 div.sk-toggleable__content pre {margin: 0.2em;color: black;border-radius: 0.25em;background-color: #f0f8ff;}#sk-container-id-1 input.sk-toggleable__control:checked~div.sk-toggleable__content {max-height: 200px;max-width: 100%;overflow: auto;}#sk-container-id-1 input.sk-toggleable__control:checked~label.sk-toggleable__label-arrow:before {content: \"▾\";}#sk-container-id-1 div.sk-estimator input.sk-toggleable__control:checked~label.sk-toggleable__label {background-color: #d4ebff;}#sk-container-id-1 div.sk-label input.sk-toggleable__control:checked~label.sk-toggleable__label {background-color: #d4ebff;}#sk-container-id-1 input.sk-hidden--visually {border: 0;clip: rect(1px 1px 1px 1px);clip: rect(1px, 1px, 1px, 1px);height: 1px;margin: -1px;overflow: hidden;padding: 0;position: absolute;width: 1px;}#sk-container-id-1 div.sk-estimator {font-family: monospace;background-color: #f0f8ff;border: 1px dotted black;border-radius: 0.25em;box-sizing: border-box;margin-bottom: 0.5em;}#sk-container-id-1 div.sk-estimator:hover {background-color: #d4ebff;}#sk-container-id-1 div.sk-parallel-item::after {content: \"\";width: 100%;border-bottom: 1px solid gray;flex-grow: 1;}#sk-container-id-1 div.sk-label:hover label.sk-toggleable__label {background-color: #d4ebff;}#sk-container-id-1 div.sk-serial::before {content: \"\";position: absolute;border-left: 1px solid gray;box-sizing: border-box;top: 0;bottom: 0;left: 50%;z-index: 0;}#sk-container-id-1 div.sk-serial {display: flex;flex-direction: column;align-items: center;background-color: white;padding-right: 0.2em;padding-left: 0.2em;position: relative;}#sk-container-id-1 div.sk-item {position: relative;z-index: 1;}#sk-container-id-1 div.sk-parallel {display: flex;align-items: stretch;justify-content: center;background-color: white;position: relative;}#sk-container-id-1 div.sk-item::before, #sk-container-id-1 div.sk-parallel-item::before {content: \"\";position: absolute;border-left: 1px solid gray;box-sizing: border-box;top: 0;bottom: 0;left: 50%;z-index: -1;}#sk-container-id-1 div.sk-parallel-item {display: flex;flex-direction: column;z-index: 1;position: relative;background-color: white;}#sk-container-id-1 div.sk-parallel-item:first-child::after {align-self: flex-end;width: 50%;}#sk-container-id-1 div.sk-parallel-item:last-child::after {align-self: flex-start;width: 50%;}#sk-container-id-1 div.sk-parallel-item:only-child::after {width: 0;}#sk-container-id-1 div.sk-dashed-wrapped {border: 1px dashed gray;margin: 0 0.4em 0.5em 0.4em;box-sizing: border-box;padding-bottom: 0.4em;background-color: white;}#sk-container-id-1 div.sk-label label {font-family: monospace;font-weight: bold;display: inline-block;line-height: 1.2em;}#sk-container-id-1 div.sk-label-container {text-align: center;}#sk-container-id-1 div.sk-container {/* jupyter's `normalize.less` sets `[hidden] { display: none; }` but bootstrap.min.css set `[hidden] { display: none !important; }` so we also need the `!important` here to be able to override the default hidden behavior on the sphinx rendered scikit-learn.org. See: https://github.com/scikit-learn/scikit-learn/issues/21755 */display: inline-block !important;position: relative;}#sk-container-id-1 div.sk-text-repr-fallback {display: none;}</style><div id=\"sk-container-id-1\" class=\"sk-top-container\"><div class=\"sk-text-repr-fallback\"><pre>Pipeline(steps=[(&#x27;quantiletransformer&#x27;, QuantileTransformer(random_state=0)),\n",
       "                (&#x27;standardscaler&#x27;, StandardScaler()),\n",
       "                (&#x27;kneighborsclassifier&#x27;,\n",
       "                 KNeighborsClassifier(metric=&#x27;euclidean&#x27;))])</pre><b>In a Jupyter environment, please rerun this cell to show the HTML representation or trust the notebook. <br />On GitHub, the HTML representation is unable to render, please try loading this page with nbviewer.org.</b></div><div class=\"sk-container\" hidden><div class=\"sk-item sk-dashed-wrapped\"><div class=\"sk-label-container\"><div class=\"sk-label sk-toggleable\"><input class=\"sk-toggleable__control sk-hidden--visually\" id=\"sk-estimator-id-1\" type=\"checkbox\" ><label for=\"sk-estimator-id-1\" class=\"sk-toggleable__label sk-toggleable__label-arrow\">Pipeline</label><div class=\"sk-toggleable__content\"><pre>Pipeline(steps=[(&#x27;quantiletransformer&#x27;, QuantileTransformer(random_state=0)),\n",
       "                (&#x27;standardscaler&#x27;, StandardScaler()),\n",
       "                (&#x27;kneighborsclassifier&#x27;,\n",
       "                 KNeighborsClassifier(metric=&#x27;euclidean&#x27;))])</pre></div></div></div><div class=\"sk-serial\"><div class=\"sk-item\"><div class=\"sk-estimator sk-toggleable\"><input class=\"sk-toggleable__control sk-hidden--visually\" id=\"sk-estimator-id-2\" type=\"checkbox\" ><label for=\"sk-estimator-id-2\" class=\"sk-toggleable__label sk-toggleable__label-arrow\">QuantileTransformer</label><div class=\"sk-toggleable__content\"><pre>QuantileTransformer(random_state=0)</pre></div></div></div><div class=\"sk-item\"><div class=\"sk-estimator sk-toggleable\"><input class=\"sk-toggleable__control sk-hidden--visually\" id=\"sk-estimator-id-3\" type=\"checkbox\" ><label for=\"sk-estimator-id-3\" class=\"sk-toggleable__label sk-toggleable__label-arrow\">StandardScaler</label><div class=\"sk-toggleable__content\"><pre>StandardScaler()</pre></div></div></div><div class=\"sk-item\"><div class=\"sk-estimator sk-toggleable\"><input class=\"sk-toggleable__control sk-hidden--visually\" id=\"sk-estimator-id-4\" type=\"checkbox\" ><label for=\"sk-estimator-id-4\" class=\"sk-toggleable__label sk-toggleable__label-arrow\">KNeighborsClassifier</label><div class=\"sk-toggleable__content\"><pre>KNeighborsClassifier(metric=&#x27;euclidean&#x27;)</pre></div></div></div></div></div></div></div>"
      ],
      "text/plain": [
       "Pipeline(steps=[('quantiletransformer', QuantileTransformer(random_state=0)),\n",
       "                ('standardscaler', StandardScaler()),\n",
       "                ('kneighborsclassifier',\n",
       "                 KNeighborsClassifier(metric='euclidean'))])"
      ]
     },
     "execution_count": 13,
     "metadata": {},
     "output_type": "execute_result"
    }
   ],
   "source": [
    "knn_pipe = make_pipeline(QuantileTransformer(random_state=0), StandardScaler(), \n",
    "                     KNeighborsClassifier(n_neighbors=5, metric='euclidean'))\n",
    "knn_pipe.fit(X_train, y_train)  # apply scaling on training data\n"
   ]
  },
  {
   "cell_type": "markdown",
   "metadata": {},
   "source": [
    "### Predict with train data"
   ]
  },
  {
   "cell_type": "code",
   "execution_count": 15,
   "metadata": {},
   "outputs": [
    {
     "name": "stdout",
     "output_type": "stream",
     "text": [
      "KNN on train data\n",
      "============================================================\n",
      "fbeta score: 0.758\n",
      "------------------------------------------------------------\n",
      "              precision    recall  f1-score   support\n",
      "\n",
      "           0       0.77      0.69      0.72      2193\n",
      "           1       0.72      0.80      0.76      2254\n",
      "\n",
      "    accuracy                           0.74      4447\n",
      "   macro avg       0.74      0.74      0.74      4447\n",
      "weighted avg       0.74      0.74      0.74      4447\n",
      "\n",
      "------------------------------------------------------------\n"
     ]
    },
    {
     "data": {
      "image/png": "[encoded data removed]",
      "text/plain": [
       "<Figure size 432x288 with 2 Axes>"
      ]
     },
     "metadata": {
      "needs_background": "light"
     },
     "output_type": "display_data"
    }
   ],
   "source": [
    "# Predict on test set\n",
    "y_train_pred_knn = knn_pipe.predict(X_train)\n",
    "f_beta = 1\n",
    "print(\"KNN on train data\")\n",
    "print(\"===\"*20)\n",
    "print(\"fbeta score:\", fbeta_score(y_train, y_train_pred_knn, beta=f_beta).round(4))\n",
    "print(\"---\"*20)\n",
    "print(classification_report(y_train, y_train_pred_knn))\n",
    "print(\"---\"*20)\n",
    "\n",
    "\n",
    "cm = confusion_matrix(y_train, y_train_pred_knn)\n",
    "sns.heatmap(cm, cmap=\"YlGnBu_r\", annot=True, fmt=\".0f\");"
   ]
  },
  {
   "cell_type": "markdown",
   "metadata": {},
   "source": [
    "### Predict with test data"
   ]
  },
  {
   "cell_type": "code",
   "execution_count": 16,
   "metadata": {},
   "outputs": [
    {
     "name": "stdout",
     "output_type": "stream",
     "text": [
      "KNN on test data\n",
      "============================================================\n",
      "fbeta score: 0.6086\n",
      "------------------------------------------------------------\n",
      "              precision    recall  f1-score   support\n",
      "\n",
      "           0       0.63      0.51      0.57       772\n",
      "           1       0.56      0.67      0.61       711\n",
      "\n",
      "    accuracy                           0.59      1483\n",
      "   macro avg       0.59      0.59      0.59      1483\n",
      "weighted avg       0.59      0.59      0.59      1483\n",
      "\n",
      "------------------------------------------------------------\n"
     ]
    },
    {
     "data": {
      "image/png": "[encoded data removed]",
      "text/plain": [
       "<Figure size 432x288 with 2 Axes>"
      ]
     },
     "metadata": {
      "needs_background": "light"
     },
     "output_type": "display_data"
    }
   ],
   "source": [
    "# Predict on test set\n",
    "y_test_pred_knn = knn_pipe.predict(X_test)\n",
    "\n",
    "print(\"KNN on test data\")\n",
    "print(\"===\"*20)\n",
    "print(\"fbeta score:\", fbeta_score(y_test, y_test_pred_knn, beta=f_beta).round(4))\n",
    "print(\"---\"*20)\n",
    "print(classification_report(y_test, y_test_pred_knn))\n",
    "print(\"---\"*20)\n",
    "\n",
    "\n",
    "cm = confusion_matrix(y_test, y_test_pred_knn)\n",
    "sns.heatmap(cm, cmap=\"YlGnBu_r\", annot=True, fmt=\".0f\");"
   ]
  },
  {
   "cell_type": "markdown",
   "metadata": {},
   "source": [
    "### Initial pipeline setup for a GradientBoostingClassifier model, using defaults"
   ]
  },
  {
   "cell_type": "code",
   "execution_count": 30,
   "metadata": {},
   "outputs": [],
   "source": [
    "from sklearn.ensemble import GradientBoostingClassifier"
   ]
  },
  {
   "cell_type": "code",
   "execution_count": 38,
   "metadata": {},
   "outputs": [
    {
     "data": {
      "text/html": [
       "<style>#sk-container-id-6 {color: black;background-color: white;}#sk-container-id-6 pre{padding: 0;}#sk-container-id-6 div.sk-toggleable {background-color: white;}#sk-container-id-6 label.sk-toggleable__label {cursor: pointer;display: block;width: 100%;margin-bottom: 0;padding: 0.3em;box-sizing: border-box;text-align: center;}#sk-container-id-6 label.sk-toggleable__label-arrow:before {content: \"▸\";float: left;margin-right: 0.25em;color: #696969;}#sk-container-id-6 label.sk-toggleable__label-arrow:hover:before {color: black;}#sk-container-id-6 div.sk-estimator:hover label.sk-toggleable__label-arrow:before {color: black;}#sk-container-id-6 div.sk-toggleable__content {max-height: 0;max-width: 0;overflow: hidden;text-align: left;background-color: #f0f8ff;}#sk-container-id-6 div.sk-toggleable__content pre {margin: 0.2em;color: black;border-radius: 0.25em;background-color: #f0f8ff;}#sk-container-id-6 input.sk-toggleable__control:checked~div.sk-toggleable__content {max-height: 200px;max-width: 100%;overflow: auto;}#sk-container-id-6 input.sk-toggleable__control:checked~label.sk-toggleable__label-arrow:before {content: \"▾\";}#sk-container-id-6 div.sk-estimator input.sk-toggleable__control:checked~label.sk-toggleable__label {background-color: #d4ebff;}#sk-container-id-6 div.sk-label input.sk-toggleable__control:checked~label.sk-toggleable__label {background-color: #d4ebff;}#sk-container-id-6 input.sk-hidden--visually {border: 0;clip: rect(1px 1px 1px 1px);clip: rect(1px, 1px, 1px, 1px);height: 1px;margin: -1px;overflow: hidden;padding: 0;position: absolute;width: 1px;}#sk-container-id-6 div.sk-estimator {font-family: monospace;background-color: #f0f8ff;border: 1px dotted black;border-radius: 0.25em;box-sizing: border-box;margin-bottom: 0.5em;}#sk-container-id-6 div.sk-estimator:hover {background-color: #d4ebff;}#sk-container-id-6 div.sk-parallel-item::after {content: \"\";width: 100%;border-bottom: 1px solid gray;flex-grow: 1;}#sk-container-id-6 div.sk-label:hover label.sk-toggleable__label {background-color: #d4ebff;}#sk-container-id-6 div.sk-serial::before {content: \"\";position: absolute;border-left: 1px solid gray;box-sizing: border-box;top: 0;bottom: 0;left: 50%;z-index: 0;}#sk-container-id-6 div.sk-serial {display: flex;flex-direction: column;align-items: center;background-color: white;padding-right: 0.2em;padding-left: 0.2em;position: relative;}#sk-container-id-6 div.sk-item {position: relative;z-index: 1;}#sk-container-id-6 div.sk-parallel {display: flex;align-items: stretch;justify-content: center;background-color: white;position: relative;}#sk-container-id-6 div.sk-item::before, #sk-container-id-6 div.sk-parallel-item::before {content: \"\";position: absolute;border-left: 1px solid gray;box-sizing: border-box;top: 0;bottom: 0;left: 50%;z-index: -1;}#sk-container-id-6 div.sk-parallel-item {display: flex;flex-direction: column;z-index: 1;position: relative;background-color: white;}#sk-container-id-6 div.sk-parallel-item:first-child::after {align-self: flex-end;width: 50%;}#sk-container-id-6 div.sk-parallel-item:last-child::after {align-self: flex-start;width: 50%;}#sk-container-id-6 div.sk-parallel-item:only-child::after {width: 0;}#sk-container-id-6 div.sk-dashed-wrapped {border: 1px dashed gray;margin: 0 0.4em 0.5em 0.4em;box-sizing: border-box;padding-bottom: 0.4em;background-color: white;}#sk-container-id-6 div.sk-label label {font-family: monospace;font-weight: bold;display: inline-block;line-height: 1.2em;}#sk-container-id-6 div.sk-label-container {text-align: center;}#sk-container-id-6 div.sk-container {/* jupyter's `normalize.less` sets `[hidden] { display: none; }` but bootstrap.min.css set `[hidden] { display: none !important; }` so we also need the `!important` here to be able to override the default hidden behavior on the sphinx rendered scikit-learn.org. See: https://github.com/scikit-learn/scikit-learn/issues/21755 */display: inline-block !important;position: relative;}#sk-container-id-6 div.sk-text-repr-fallback {display: none;}</style><div id=\"sk-container-id-6\" class=\"sk-top-container\"><div class=\"sk-text-repr-fallback\"><pre>Pipeline(steps=[(&#x27;quant&#x27;, QuantileTransformer(random_state=0)),\n",
       "                (&#x27;stscale&#x27;, StandardScaler()),\n",
       "                (&#x27;xgb&#x27;,\n",
       "                 GradientBoostingClassifier(learning_rate=0.5, max_depth=1,\n",
       "                                            n_estimators=1000,\n",
       "                                            random_state=0))])</pre><b>In a Jupyter environment, please rerun this cell to show the HTML representation or trust the notebook. <br />On GitHub, the HTML representation is unable to render, please try loading this page with nbviewer.org.</b></div><div class=\"sk-container\" hidden><div class=\"sk-item sk-dashed-wrapped\"><div class=\"sk-label-container\"><div class=\"sk-label sk-toggleable\"><input class=\"sk-toggleable__control sk-hidden--visually\" id=\"sk-estimator-id-21\" type=\"checkbox\" ><label for=\"sk-estimator-id-21\" class=\"sk-toggleable__label sk-toggleable__label-arrow\">Pipeline</label><div class=\"sk-toggleable__content\"><pre>Pipeline(steps=[(&#x27;quant&#x27;, QuantileTransformer(random_state=0)),\n",
       "                (&#x27;stscale&#x27;, StandardScaler()),\n",
       "                (&#x27;xgb&#x27;,\n",
       "                 GradientBoostingClassifier(learning_rate=0.5, max_depth=1,\n",
       "                                            n_estimators=1000,\n",
       "                                            random_state=0))])</pre></div></div></div><div class=\"sk-serial\"><div class=\"sk-item\"><div class=\"sk-estimator sk-toggleable\"><input class=\"sk-toggleable__control sk-hidden--visually\" id=\"sk-estimator-id-22\" type=\"checkbox\" ><label for=\"sk-estimator-id-22\" class=\"sk-toggleable__label sk-toggleable__label-arrow\">QuantileTransformer</label><div class=\"sk-toggleable__content\"><pre>QuantileTransformer(random_state=0)</pre></div></div></div><div class=\"sk-item\"><div class=\"sk-estimator sk-toggleable\"><input class=\"sk-toggleable__control sk-hidden--visually\" id=\"sk-estimator-id-23\" type=\"checkbox\" ><label for=\"sk-estimator-id-23\" class=\"sk-toggleable__label sk-toggleable__label-arrow\">StandardScaler</label><div class=\"sk-toggleable__content\"><pre>StandardScaler()</pre></div></div></div><div class=\"sk-item\"><div class=\"sk-estimator sk-toggleable\"><input class=\"sk-toggleable__control sk-hidden--visually\" id=\"sk-estimator-id-24\" type=\"checkbox\" ><label for=\"sk-estimator-id-24\" class=\"sk-toggleable__label sk-toggleable__label-arrow\">GradientBoostingClassifier</label><div class=\"sk-toggleable__content\"><pre>GradientBoostingClassifier(learning_rate=0.5, max_depth=1, n_estimators=1000,\n",
       "                           random_state=0)</pre></div></div></div></div></div></div></div>"
      ],
      "text/plain": [
       "Pipeline(steps=[('quant', QuantileTransformer(random_state=0)),\n",
       "                ('stscale', StandardScaler()),\n",
       "                ('xgb',\n",
       "                 GradientBoostingClassifier(learning_rate=0.5, max_depth=1,\n",
       "                                            n_estimators=1000,\n",
       "                                            random_state=0))])"
      ]
     },
     "execution_count": 38,
     "metadata": {},
     "output_type": "execute_result"
    }
   ],
   "source": [
    "xgb_pipe = Pipeline([\n",
    "    ('quant', QuantileTransformer(random_state=0)), \n",
    "    ('stscale',StandardScaler()),\n",
    "    ('xgb', GradientBoostingClassifier(n_estimators=1000, learning_rate=0.5,  max_depth=1, random_state=0))\n",
    "    #('xgb', xgb.XGBClassifier(objective=\"binary:logistic\", random_state=42, eval_metric=fbeta_scorer)),\n",
    "])\n",
    "# xgb_pipe = make_pipeline(QuantileTransformer(random_state=0), StandardScaler(), \n",
    "#                          xgb.XGBClassifier(objective=\"binary:logistic\", random_state=42, eval_metric=fbeta_scorer)\n",
    "#                         )\n",
    "xgb_pipe.fit(X_train, y_train)  # apply scaling on training data\n"
   ]
  },
  {
   "cell_type": "markdown",
   "metadata": {},
   "source": [
    "### Predict with train data"
   ]
  },
  {
   "cell_type": "code",
   "execution_count": 39,
   "metadata": {},
   "outputs": [
    {
     "name": "stdout",
     "output_type": "stream",
     "text": [
      "XGBoost on train data\n",
      "============================================================\n",
      "fbeta score: 0.9718\n",
      "------------------------------------------------------------\n",
      "              precision    recall  f1-score   support\n",
      "\n",
      "           0       0.98      0.96      0.97      2193\n",
      "           1       0.97      0.98      0.97      2254\n",
      "\n",
      "    accuracy                           0.97      4447\n",
      "   macro avg       0.97      0.97      0.97      4447\n",
      "weighted avg       0.97      0.97      0.97      4447\n",
      "\n",
      "------------------------------------------------------------\n"
     ]
    },
    {
     "data": {
      "image/png": "[encoded data removed]",
      "text/plain": [
       "<Figure size 432x288 with 2 Axes>"
      ]
     },
     "metadata": {
      "needs_background": "light"
     },
     "output_type": "display_data"
    }
   ],
   "source": [
    "# Predict on test set\n",
    "y_train_pred_knn = xgb_pipe.predict(X_train)\n",
    "f_beta = 1\n",
    "print(\"XGBoost on train data\")\n",
    "print(\"===\"*20)\n",
    "print(\"fbeta score:\", fbeta_score(y_train, y_train_pred_knn, beta=f_beta).round(4))\n",
    "print(\"---\"*20)\n",
    "print(classification_report(y_train, y_train_pred_knn))\n",
    "print(\"---\"*20)\n",
    "\n",
    "\n",
    "cm = confusion_matrix(y_train, y_train_pred_knn)\n",
    "sns.heatmap(cm, cmap=\"YlGnBu_r\", annot=True, fmt=\".0f\");"
   ]
  },
  {
   "cell_type": "markdown",
   "metadata": {},
   "source": [
    "### Predict with test data"
   ]
  },
  {
   "cell_type": "code",
   "execution_count": 40,
   "metadata": {},
   "outputs": [
    {
     "name": "stdout",
     "output_type": "stream",
     "text": [
      "XGBoost on test data\n",
      "============================================================\n",
      "fbeta score: 0.6473\n",
      "------------------------------------------------------------\n",
      "              precision    recall  f1-score   support\n",
      "\n",
      "           0       0.68      0.63      0.65       772\n",
      "           1       0.62      0.67      0.65       711\n",
      "\n",
      "    accuracy                           0.65      1483\n",
      "   macro avg       0.65      0.65      0.65      1483\n",
      "weighted avg       0.65      0.65      0.65      1483\n",
      "\n",
      "------------------------------------------------------------\n"
     ]
    },
    {
     "data": {
      "image/png": "[encoded data removed]",
      "text/plain": [
       "<Figure size 432x288 with 2 Axes>"
      ]
     },
     "metadata": {
      "needs_background": "light"
     },
     "output_type": "display_data"
    }
   ],
   "source": [
    "# Predict on test set\n",
    "y_test_pred_knn = xgb_pipe.predict(X_test)\n",
    "\n",
    "print(\"XGBoost on test data\")\n",
    "print(\"===\"*20)\n",
    "print(\"fbeta score:\", fbeta_score(y_test, y_test_pred_knn, beta=f_beta).round(4))\n",
    "print(\"---\"*20)\n",
    "print(classification_report(y_test, y_test_pred_knn))\n",
    "print(\"---\"*20)\n",
    "\n",
    "\n",
    "cm = confusion_matrix(y_test, y_test_pred_knn)\n",
    "sns.heatmap(cm, cmap=\"YlGnBu_r\", annot=True, fmt=\".0f\");"
   ]
  },
  {
   "cell_type": "markdown",
   "metadata": {},
   "source": [
    "### Initial pipeline setup for a XGBoost model, using defaults\n",
    "- xgboost overfits (all 1s)\n",
    "- need to run hyperparameter search"
   ]
  },
  {
   "cell_type": "code",
   "execution_count": 41,
   "metadata": {},
   "outputs": [
    {
     "data": {
      "text/html": [
       "<style>#sk-container-id-7 {color: black;background-color: white;}#sk-container-id-7 pre{padding: 0;}#sk-container-id-7 div.sk-toggleable {background-color: white;}#sk-container-id-7 label.sk-toggleable__label {cursor: pointer;display: block;width: 100%;margin-bottom: 0;padding: 0.3em;box-sizing: border-box;text-align: center;}#sk-container-id-7 label.sk-toggleable__label-arrow:before {content: \"▸\";float: left;margin-right: 0.25em;color: #696969;}#sk-container-id-7 label.sk-toggleable__label-arrow:hover:before {color: black;}#sk-container-id-7 div.sk-estimator:hover label.sk-toggleable__label-arrow:before {color: black;}#sk-container-id-7 div.sk-toggleable__content {max-height: 0;max-width: 0;overflow: hidden;text-align: left;background-color: #f0f8ff;}#sk-container-id-7 div.sk-toggleable__content pre {margin: 0.2em;color: black;border-radius: 0.25em;background-color: #f0f8ff;}#sk-container-id-7 input.sk-toggleable__control:checked~div.sk-toggleable__content {max-height: 200px;max-width: 100%;overflow: auto;}#sk-container-id-7 input.sk-toggleable__control:checked~label.sk-toggleable__label-arrow:before {content: \"▾\";}#sk-container-id-7 div.sk-estimator input.sk-toggleable__control:checked~label.sk-toggleable__label {background-color: #d4ebff;}#sk-container-id-7 div.sk-label input.sk-toggleable__control:checked~label.sk-toggleable__label {background-color: #d4ebff;}#sk-container-id-7 input.sk-hidden--visually {border: 0;clip: rect(1px 1px 1px 1px);clip: rect(1px, 1px, 1px, 1px);height: 1px;margin: -1px;overflow: hidden;padding: 0;position: absolute;width: 1px;}#sk-container-id-7 div.sk-estimator {font-family: monospace;background-color: #f0f8ff;border: 1px dotted black;border-radius: 0.25em;box-sizing: border-box;margin-bottom: 0.5em;}#sk-container-id-7 div.sk-estimator:hover {background-color: #d4ebff;}#sk-container-id-7 div.sk-parallel-item::after {content: \"\";width: 100%;border-bottom: 1px solid gray;flex-grow: 1;}#sk-container-id-7 div.sk-label:hover label.sk-toggleable__label {background-color: #d4ebff;}#sk-container-id-7 div.sk-serial::before {content: \"\";position: absolute;border-left: 1px solid gray;box-sizing: border-box;top: 0;bottom: 0;left: 50%;z-index: 0;}#sk-container-id-7 div.sk-serial {display: flex;flex-direction: column;align-items: center;background-color: white;padding-right: 0.2em;padding-left: 0.2em;position: relative;}#sk-container-id-7 div.sk-item {position: relative;z-index: 1;}#sk-container-id-7 div.sk-parallel {display: flex;align-items: stretch;justify-content: center;background-color: white;position: relative;}#sk-container-id-7 div.sk-item::before, #sk-container-id-7 div.sk-parallel-item::before {content: \"\";position: absolute;border-left: 1px solid gray;box-sizing: border-box;top: 0;bottom: 0;left: 50%;z-index: -1;}#sk-container-id-7 div.sk-parallel-item {display: flex;flex-direction: column;z-index: 1;position: relative;background-color: white;}#sk-container-id-7 div.sk-parallel-item:first-child::after {align-self: flex-end;width: 50%;}#sk-container-id-7 div.sk-parallel-item:last-child::after {align-self: flex-start;width: 50%;}#sk-container-id-7 div.sk-parallel-item:only-child::after {width: 0;}#sk-container-id-7 div.sk-dashed-wrapped {border: 1px dashed gray;margin: 0 0.4em 0.5em 0.4em;box-sizing: border-box;padding-bottom: 0.4em;background-color: white;}#sk-container-id-7 div.sk-label label {font-family: monospace;font-weight: bold;display: inline-block;line-height: 1.2em;}#sk-container-id-7 div.sk-label-container {text-align: center;}#sk-container-id-7 div.sk-container {/* jupyter's `normalize.less` sets `[hidden] { display: none; }` but bootstrap.min.css set `[hidden] { display: none !important; }` so we also need the `!important` here to be able to override the default hidden behavior on the sphinx rendered scikit-learn.org. See: https://github.com/scikit-learn/scikit-learn/issues/21755 */display: inline-block !important;position: relative;}#sk-container-id-7 div.sk-text-repr-fallback {display: none;}</style><div id=\"sk-container-id-7\" class=\"sk-top-container\"><div class=\"sk-text-repr-fallback\"><pre>Pipeline(steps=[(&#x27;quant&#x27;, QuantileTransformer(random_state=0)),\n",
       "                (&#x27;stscale&#x27;, StandardScaler()),\n",
       "                (&#x27;xgb&#x27;,\n",
       "                 XGBClassifier(base_score=0.5, booster=&#x27;gbtree&#x27;, callbacks=None,\n",
       "                               colsample_bylevel=1, colsample_bynode=1,\n",
       "                               colsample_bytree=1, early_stopping_rounds=None,\n",
       "                               enable_categorical=False,\n",
       "                               eval_metric=make_scorer(fbeta_score, beta=1),\n",
       "                               gamma=0, gpu_id=-1, grow_policy=&#x27;depthwise&#x27;,\n",
       "                               importance_type=None, interaction_constraints=&#x27;&#x27;,\n",
       "                               learning_rate=0.300000012, max_bin=256,\n",
       "                               max_cat_to_onehot=4, max_delta_step=0,\n",
       "                               max_depth=6, max_leaves=0, min_child_weight=1,\n",
       "                               missing=nan, monotone_constraints=&#x27;()&#x27;,\n",
       "                               n_estimators=100, n_jobs=0, num_parallel_tree=1,\n",
       "                               predictor=&#x27;auto&#x27;, random_state=42, reg_alpha=0,\n",
       "                               reg_lambda=1, ...))])</pre><b>In a Jupyter environment, please rerun this cell to show the HTML representation or trust the notebook. <br />On GitHub, the HTML representation is unable to render, please try loading this page with nbviewer.org.</b></div><div class=\"sk-container\" hidden><div class=\"sk-item sk-dashed-wrapped\"><div class=\"sk-label-container\"><div class=\"sk-label sk-toggleable\"><input class=\"sk-toggleable__control sk-hidden--visually\" id=\"sk-estimator-id-25\" type=\"checkbox\" ><label for=\"sk-estimator-id-25\" class=\"sk-toggleable__label sk-toggleable__label-arrow\">Pipeline</label><div class=\"sk-toggleable__content\"><pre>Pipeline(steps=[(&#x27;quant&#x27;, QuantileTransformer(random_state=0)),\n",
       "                (&#x27;stscale&#x27;, StandardScaler()),\n",
       "                (&#x27;xgb&#x27;,\n",
       "                 XGBClassifier(base_score=0.5, booster=&#x27;gbtree&#x27;, callbacks=None,\n",
       "                               colsample_bylevel=1, colsample_bynode=1,\n",
       "                               colsample_bytree=1, early_stopping_rounds=None,\n",
       "                               enable_categorical=False,\n",
       "                               eval_metric=make_scorer(fbeta_score, beta=1),\n",
       "                               gamma=0, gpu_id=-1, grow_policy=&#x27;depthwise&#x27;,\n",
       "                               importance_type=None, interaction_constraints=&#x27;&#x27;,\n",
       "                               learning_rate=0.300000012, max_bin=256,\n",
       "                               max_cat_to_onehot=4, max_delta_step=0,\n",
       "                               max_depth=6, max_leaves=0, min_child_weight=1,\n",
       "                               missing=nan, monotone_constraints=&#x27;()&#x27;,\n",
       "                               n_estimators=100, n_jobs=0, num_parallel_tree=1,\n",
       "                               predictor=&#x27;auto&#x27;, random_state=42, reg_alpha=0,\n",
       "                               reg_lambda=1, ...))])</pre></div></div></div><div class=\"sk-serial\"><div class=\"sk-item\"><div class=\"sk-estimator sk-toggleable\"><input class=\"sk-toggleable__control sk-hidden--visually\" id=\"sk-estimator-id-26\" type=\"checkbox\" ><label for=\"sk-estimator-id-26\" class=\"sk-toggleable__label sk-toggleable__label-arrow\">QuantileTransformer</label><div class=\"sk-toggleable__content\"><pre>QuantileTransformer(random_state=0)</pre></div></div></div><div class=\"sk-item\"><div class=\"sk-estimator sk-toggleable\"><input class=\"sk-toggleable__control sk-hidden--visually\" id=\"sk-estimator-id-27\" type=\"checkbox\" ><label for=\"sk-estimator-id-27\" class=\"sk-toggleable__label sk-toggleable__label-arrow\">StandardScaler</label><div class=\"sk-toggleable__content\"><pre>StandardScaler()</pre></div></div></div><div class=\"sk-item\"><div class=\"sk-estimator sk-toggleable\"><input class=\"sk-toggleable__control sk-hidden--visually\" id=\"sk-estimator-id-28\" type=\"checkbox\" ><label for=\"sk-estimator-id-28\" class=\"sk-toggleable__label sk-toggleable__label-arrow\">XGBClassifier</label><div class=\"sk-toggleable__content\"><pre>XGBClassifier(base_score=0.5, booster=&#x27;gbtree&#x27;, callbacks=None,\n",
       "              colsample_bylevel=1, colsample_bynode=1, colsample_bytree=1,\n",
       "              early_stopping_rounds=None, enable_categorical=False,\n",
       "              eval_metric=make_scorer(fbeta_score, beta=1), gamma=0, gpu_id=-1,\n",
       "              grow_policy=&#x27;depthwise&#x27;, importance_type=None,\n",
       "              interaction_constraints=&#x27;&#x27;, learning_rate=0.300000012,\n",
       "              max_bin=256, max_cat_to_onehot=4, max_delta_step=0, max_depth=6,\n",
       "              max_leaves=0, min_child_weight=1, missing=nan,\n",
       "              monotone_constraints=&#x27;()&#x27;, n_estimators=100, n_jobs=0,\n",
       "              num_parallel_tree=1, predictor=&#x27;auto&#x27;, random_state=42,\n",
       "              reg_alpha=0, reg_lambda=1, ...)</pre></div></div></div></div></div></div></div>"
      ],
      "text/plain": [
       "Pipeline(steps=[('quant', QuantileTransformer(random_state=0)),\n",
       "                ('stscale', StandardScaler()),\n",
       "                ('xgb',\n",
       "                 XGBClassifier(base_score=0.5, booster='gbtree', callbacks=None,\n",
       "                               colsample_bylevel=1, colsample_bynode=1,\n",
       "                               colsample_bytree=1, early_stopping_rounds=None,\n",
       "                               enable_categorical=False,\n",
       "                               eval_metric=make_scorer(fbeta_score, beta=1),\n",
       "                               gamma=0, gpu_id=-1, grow_policy='depthwise',\n",
       "                               importance_type=None, interaction_constraints='',\n",
       "                               learning_rate=0.300000012, max_bin=256,\n",
       "                               max_cat_to_onehot=4, max_delta_step=0,\n",
       "                               max_depth=6, max_leaves=0, min_child_weight=1,\n",
       "                               missing=nan, monotone_constraints='()',\n",
       "                               n_estimators=100, n_jobs=0, num_parallel_tree=1,\n",
       "                               predictor='auto', random_state=42, reg_alpha=0,\n",
       "                               reg_lambda=1, ...))])"
      ]
     },
     "execution_count": 41,
     "metadata": {},
     "output_type": "execute_result"
    }
   ],
   "source": [
    "xgb_pipe = Pipeline([\n",
    "    ('quant', QuantileTransformer(random_state=0)), \n",
    "    ('stscale',StandardScaler()),\n",
    "    ('xgb', xgb.XGBClassifier(objective=\"binary:logistic\", random_state=42, eval_metric=fbeta_scorer)),\n",
    "])\n",
    "# xgb_pipe = make_pipeline(QuantileTransformer(random_state=0), StandardScaler(), \n",
    "#                          xgb.XGBClassifier(objective=\"binary:logistic\", random_state=42, eval_metric=fbeta_scorer)\n",
    "#                         )\n",
    "xgb_pipe.fit(X_train, y_train)  # apply scaling on training data\n"
   ]
  },
  {
   "cell_type": "markdown",
   "metadata": {},
   "source": [
    "### Predict with train data"
   ]
  },
  {
   "cell_type": "code",
   "execution_count": 42,
   "metadata": {},
   "outputs": [
    {
     "name": "stdout",
     "output_type": "stream",
     "text": [
      "XGBoost on train data\n",
      "============================================================\n",
      "fbeta score: 1.0\n",
      "------------------------------------------------------------\n",
      "              precision    recall  f1-score   support\n",
      "\n",
      "           0       1.00      1.00      1.00      2193\n",
      "           1       1.00      1.00      1.00      2254\n",
      "\n",
      "    accuracy                           1.00      4447\n",
      "   macro avg       1.00      1.00      1.00      4447\n",
      "weighted avg       1.00      1.00      1.00      4447\n",
      "\n",
      "------------------------------------------------------------\n"
     ]
    },
    {
     "data": {
      "image/png": "[encoded data removed]",
      "text/plain": [
       "<Figure size 432x288 with 2 Axes>"
      ]
     },
     "metadata": {
      "needs_background": "light"
     },
     "output_type": "display_data"
    }
   ],
   "source": [
    "# Predict on test set\n",
    "y_train_pred_knn = xgb_pipe.predict(X_train)\n",
    "f_beta = 1\n",
    "print(\"XGBoost on train data\")\n",
    "print(\"===\"*20)\n",
    "print(\"fbeta score:\", fbeta_score(y_train, y_train_pred_knn, beta=f_beta).round(4))\n",
    "print(\"---\"*20)\n",
    "print(classification_report(y_train, y_train_pred_knn))\n",
    "print(\"---\"*20)\n",
    "\n",
    "\n",
    "cm = confusion_matrix(y_train, y_train_pred_knn)\n",
    "sns.heatmap(cm, cmap=\"YlGnBu_r\", annot=True, fmt=\".0f\");"
   ]
  },
  {
   "cell_type": "markdown",
   "metadata": {},
   "source": [
    "### Predict with test data"
   ]
  },
  {
   "cell_type": "code",
   "execution_count": 43,
   "metadata": {},
   "outputs": [
    {
     "name": "stdout",
     "output_type": "stream",
     "text": [
      "XGBoost on test data\n",
      "============================================================\n",
      "fbeta score: 0.652\n",
      "------------------------------------------------------------\n",
      "              precision    recall  f1-score   support\n",
      "\n",
      "           0       0.68      0.61      0.65       772\n",
      "           1       0.62      0.69      0.65       711\n",
      "\n",
      "    accuracy                           0.65      1483\n",
      "   macro avg       0.65      0.65      0.65      1483\n",
      "weighted avg       0.65      0.65      0.65      1483\n",
      "\n",
      "------------------------------------------------------------\n"
     ]
    },
    {
     "data": {
      "image/png": "[encoded data removed]",
      "text/plain": [
       "<Figure size 432x288 with 2 Axes>"
      ]
     },
     "metadata": {
      "needs_background": "light"
     },
     "output_type": "display_data"
    }
   ],
   "source": [
    "# Predict on test set\n",
    "y_test_pred_knn = xgb_pipe.predict(X_test)\n",
    "\n",
    "print(\"XGBoost on test data\")\n",
    "print(\"===\"*20)\n",
    "print(\"fbeta score:\", fbeta_score(y_test, y_test_pred_knn, beta=f_beta).round(4))\n",
    "print(\"---\"*20)\n",
    "print(classification_report(y_test, y_test_pred_knn))\n",
    "print(\"---\"*20)\n",
    "\n",
    "\n",
    "cm = confusion_matrix(y_test, y_test_pred_knn)\n",
    "sns.heatmap(cm, cmap=\"YlGnBu_r\", annot=True, fmt=\".0f\");"
   ]
  },
  {
   "cell_type": "code",
   "execution_count": null,
   "metadata": {},
   "outputs": [],
   "source": []
  }
 ],
 "metadata": {
  "kernelspec": {
   "display_name": "Python 3.9.8 ('.venv': venv)",
   "language": "python",
   "name": "python3"
  },
  "language_info": {
   "codemirror_mode": {
    "name": "ipython",
    "version": 3
   },
   "file_extension": ".py",
   "mimetype": "text/x-python",
   "name": "python",
   "nbconvert_exporter": "python",
   "pygments_lexer": "ipython3",
   "version": "3.9.8"
  },
  "orig_nbformat": 4,
  "vscode": {
   "interpreter": {
    "hash": "717143f14746c3d224cb0d002ee644c548f4eee3e4e2b19bc8ee2a06acbee4a6"
   }
  }
 },
 "nbformat": 4,
 "nbformat_minor": 2
}
