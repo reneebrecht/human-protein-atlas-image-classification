{
 "cells": [
  {
   "cell_type": "markdown",
   "metadata": {},
   "source": [
    "# Selection of data for the Binary model\n",
    "With the binary model we want to predict if the protein is in a specific (not so frequent) location or not. Therefor we need to collect all the pictures the label include this specific location and the same number of pictures, where the label include it. "
   ]
  },
  {
   "cell_type": "code",
   "execution_count": 5,
   "metadata": {},
   "outputs": [],
   "source": [
    "import pandas as pd\n",
    "import numpy as np"
   ]
  },
  {
   "cell_type": "code",
   "execution_count": 6,
   "metadata": {},
   "outputs": [],
   "source": [
    "from Helper_classes import Location_in_Target"
   ]
  },
  {
   "cell_type": "code",
   "execution_count": 7,
   "metadata": {},
   "outputs": [],
   "source": [
    "#get all of the labels\n",
    "labels_training = pd.read_csv('../data/human-protein-atlas-image-classification_data/train.csv')"
   ]
  },
  {
   "cell_type": "code",
   "execution_count": 8,
   "metadata": {},
   "outputs": [
    {
     "data": {
      "text/html": [
       "<div>\n",
       "<style scoped>\n",
       "    .dataframe tbody tr th:only-of-type {\n",
       "        vertical-align: middle;\n",
       "    }\n",
       "\n",
       "    .dataframe tbody tr th {\n",
       "        vertical-align: top;\n",
       "    }\n",
       "\n",
       "    .dataframe thead th {\n",
       "        text-align: right;\n",
       "    }\n",
       "</style>\n",
       "<table border=\"1\" class=\"dataframe\">\n",
       "  <thead>\n",
       "    <tr style=\"text-align: right;\">\n",
       "      <th></th>\n",
       "      <th>Id</th>\n",
       "      <th>Target</th>\n",
       "    </tr>\n",
       "  </thead>\n",
       "  <tbody>\n",
       "    <tr>\n",
       "      <th>0</th>\n",
       "      <td>00070df0-bbc3-11e8-b2bc-ac1f6b6435d0</td>\n",
       "      <td>16 0</td>\n",
       "    </tr>\n",
       "    <tr>\n",
       "      <th>1</th>\n",
       "      <td>000a6c98-bb9b-11e8-b2b9-ac1f6b6435d0</td>\n",
       "      <td>7 1 2 0</td>\n",
       "    </tr>\n",
       "    <tr>\n",
       "      <th>2</th>\n",
       "      <td>000a9596-bbc4-11e8-b2bc-ac1f6b6435d0</td>\n",
       "      <td>5</td>\n",
       "    </tr>\n",
       "    <tr>\n",
       "      <th>3</th>\n",
       "      <td>000c99ba-bba4-11e8-b2b9-ac1f6b6435d0</td>\n",
       "      <td>1</td>\n",
       "    </tr>\n",
       "    <tr>\n",
       "      <th>4</th>\n",
       "      <td>001838f8-bbca-11e8-b2bc-ac1f6b6435d0</td>\n",
       "      <td>18</td>\n",
       "    </tr>\n",
       "    <tr>\n",
       "      <th>...</th>\n",
       "      <td>...</td>\n",
       "      <td>...</td>\n",
       "    </tr>\n",
       "    <tr>\n",
       "      <th>31067</th>\n",
       "      <td>ffed4430-bbac-11e8-b2ba-ac1f6b6435d0</td>\n",
       "      <td>21</td>\n",
       "    </tr>\n",
       "    <tr>\n",
       "      <th>31068</th>\n",
       "      <td>fff0a998-bbae-11e8-b2ba-ac1f6b6435d0</td>\n",
       "      <td>5</td>\n",
       "    </tr>\n",
       "    <tr>\n",
       "      <th>31069</th>\n",
       "      <td>fff189d8-bbab-11e8-b2ba-ac1f6b6435d0</td>\n",
       "      <td>7</td>\n",
       "    </tr>\n",
       "    <tr>\n",
       "      <th>31070</th>\n",
       "      <td>fffdf7e0-bbc4-11e8-b2bc-ac1f6b6435d0</td>\n",
       "      <td>25 2 21</td>\n",
       "    </tr>\n",
       "    <tr>\n",
       "      <th>31071</th>\n",
       "      <td>fffe0ffe-bbc0-11e8-b2bb-ac1f6b6435d0</td>\n",
       "      <td>2 0</td>\n",
       "    </tr>\n",
       "  </tbody>\n",
       "</table>\n",
       "<p>31072 rows × 2 columns</p>\n",
       "</div>"
      ],
      "text/plain": [
       "                                         Id   Target\n",
       "0      00070df0-bbc3-11e8-b2bc-ac1f6b6435d0     16 0\n",
       "1      000a6c98-bb9b-11e8-b2b9-ac1f6b6435d0  7 1 2 0\n",
       "2      000a9596-bbc4-11e8-b2bc-ac1f6b6435d0        5\n",
       "3      000c99ba-bba4-11e8-b2b9-ac1f6b6435d0        1\n",
       "4      001838f8-bbca-11e8-b2bc-ac1f6b6435d0       18\n",
       "...                                     ...      ...\n",
       "31067  ffed4430-bbac-11e8-b2ba-ac1f6b6435d0       21\n",
       "31068  fff0a998-bbae-11e8-b2ba-ac1f6b6435d0        5\n",
       "31069  fff189d8-bbab-11e8-b2ba-ac1f6b6435d0        7\n",
       "31070  fffdf7e0-bbc4-11e8-b2bc-ac1f6b6435d0  25 2 21\n",
       "31071  fffe0ffe-bbc0-11e8-b2bb-ac1f6b6435d0      2 0\n",
       "\n",
       "[31072 rows x 2 columns]"
      ]
     },
     "execution_count": 8,
     "metadata": {},
     "output_type": "execute_result"
    }
   ],
   "source": [
    "labels_training"
   ]
  },
  {
   "cell_type": "markdown",
   "metadata": {},
   "source": [
    "#### Class for getting a list with the names of the pictures which was labelled with a given location"
   ]
  },
  {
   "cell_type": "markdown",
   "metadata": {},
   "source": [
    "#### Test the class with Mitochondria labeled with a 23"
   ]
  },
  {
   "cell_type": "code",
   "execution_count": 9,
   "metadata": {},
   "outputs": [
    {
     "data": {
      "text/html": [
       "<div>\n",
       "<style scoped>\n",
       "    .dataframe tbody tr th:only-of-type {\n",
       "        vertical-align: middle;\n",
       "    }\n",
       "\n",
       "    .dataframe tbody tr th {\n",
       "        vertical-align: top;\n",
       "    }\n",
       "\n",
       "    .dataframe thead th {\n",
       "        text-align: right;\n",
       "    }\n",
       "</style>\n",
       "<table border=\"1\" class=\"dataframe\">\n",
       "  <thead>\n",
       "    <tr style=\"text-align: right;\">\n",
       "      <th></th>\n",
       "      <th>pictures_with_location_23</th>\n",
       "      <th>pictures_without_location_23</th>\n",
       "    </tr>\n",
       "  </thead>\n",
       "  <tbody>\n",
       "    <tr>\n",
       "      <th>0</th>\n",
       "      <td>002ff91e-bbb8-11e8-b2ba-ac1f6b6435d0</td>\n",
       "      <td>060a8378-bbb7-11e8-b2ba-ac1f6b6435d0</td>\n",
       "    </tr>\n",
       "    <tr>\n",
       "      <th>1</th>\n",
       "      <td>00344514-bbc2-11e8-b2bb-ac1f6b6435d0</td>\n",
       "      <td>4aa95198-bbb8-11e8-b2ba-ac1f6b6435d0</td>\n",
       "    </tr>\n",
       "    <tr>\n",
       "      <th>2</th>\n",
       "      <td>004efaa2-bba5-11e8-b2ba-ac1f6b6435d0</td>\n",
       "      <td>6a7defb0-bbbd-11e8-b2ba-ac1f6b6435d0</td>\n",
       "    </tr>\n",
       "    <tr>\n",
       "      <th>3</th>\n",
       "      <td>00626a32-bbab-11e8-b2ba-ac1f6b6435d0</td>\n",
       "      <td>dbbeb0f4-bbb0-11e8-b2ba-ac1f6b6435d0</td>\n",
       "    </tr>\n",
       "    <tr>\n",
       "      <th>4</th>\n",
       "      <td>0062719a-bbbe-11e8-b2ba-ac1f6b6435d0</td>\n",
       "      <td>141ba95a-bba9-11e8-b2ba-ac1f6b6435d0</td>\n",
       "    </tr>\n",
       "  </tbody>\n",
       "</table>\n",
       "</div>"
      ],
      "text/plain": [
       "              pictures_with_location_23          pictures_without_location_23\n",
       "0  002ff91e-bbb8-11e8-b2ba-ac1f6b6435d0  060a8378-bbb7-11e8-b2ba-ac1f6b6435d0\n",
       "1  00344514-bbc2-11e8-b2bb-ac1f6b6435d0  4aa95198-bbb8-11e8-b2ba-ac1f6b6435d0\n",
       "2  004efaa2-bba5-11e8-b2ba-ac1f6b6435d0  6a7defb0-bbbd-11e8-b2ba-ac1f6b6435d0\n",
       "3  00626a32-bbab-11e8-b2ba-ac1f6b6435d0  dbbeb0f4-bbb0-11e8-b2ba-ac1f6b6435d0\n",
       "4  0062719a-bbbe-11e8-b2ba-ac1f6b6435d0  141ba95a-bba9-11e8-b2ba-ac1f6b6435d0"
      ]
     },
     "execution_count": 9,
     "metadata": {},
     "output_type": "execute_result"
    }
   ],
   "source": [
    "mitochondria_pictures = Location_in_Target(location = 23)\n",
    "mitochondria_pictures.determine_pictures(labels_training)\n",
    "mitochondria_pictures.get_pictures().head()"
   ]
  },
  {
   "cell_type": "code",
   "execution_count": null,
   "metadata": {},
   "outputs": [],
   "source": []
  }
 ],
 "metadata": {
  "kernelspec": {
   "display_name": "Python 3.9.8 ('.venv': venv)",
   "language": "python",
   "name": "python3"
  },
  "language_info": {
   "codemirror_mode": {
    "name": "ipython",
    "version": 3
   },
   "file_extension": ".py",
   "mimetype": "text/x-python",
   "name": "python",
   "nbconvert_exporter": "python",
   "pygments_lexer": "ipython3",
   "version": "3.9.8"
  },
  "orig_nbformat": 4,
  "vscode": {
   "interpreter": {
    "hash": "19f7bca3239b03b2de0c977c50cb26509aa4d9fb832a62e270228268f2f2cc6a"
   }
  }
 },
 "nbformat": 4,
 "nbformat_minor": 2
}
