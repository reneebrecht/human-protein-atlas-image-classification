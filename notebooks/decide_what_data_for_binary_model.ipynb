{
 "cells": [
  {
   "cell_type": "markdown",
   "metadata": {},
   "source": [
    "# Selection of data for the Binary model\n",
    "With the binary model we want to predict if the protein is in a specific (not so frequent) location or not. Therefor we need to collect all the pictures the label include this specific location and the same number of pictures, where the label include it. "
   ]
  },
  {
   "cell_type": "code",
   "execution_count": 68,
   "metadata": {},
   "outputs": [],
   "source": [
    "import pandas as pd\n",
    "import numpy as np\n"
   ]
  },
  {
   "cell_type": "code",
   "execution_count": 9,
   "metadata": {},
   "outputs": [],
   "source": [
    "#get all of the labels\n",
    "labels_training = pd.read_csv('../data/human-protein-atlas-image-classification_data/train.csv')"
   ]
  },
  {
   "cell_type": "markdown",
   "metadata": {},
   "source": [
    "#### Class for getting a list with the names of the pictures which was labelled with a given location"
   ]
  },
  {
   "cell_type": "code",
   "execution_count": 70,
   "metadata": {},
   "outputs": [],
   "source": [
    "class Location_in_Target(object):\n",
    "    ''' Class to get a list of name of pictures which are labeled with a specific \n",
    "        location and the same number of names of pictures which labels do not \n",
    "        contain the specific location.\n",
    "        ...\n",
    "        Attributes:\n",
    "        ----------\n",
    "        location: int \n",
    "            number which define a location in a human cell\n",
    "        pictures: panda.DataFrame\n",
    "            list of the names of the pictures labeled with the location and \n",
    "            same number of pictures without the label\n",
    "        \n",
    "        Methods:\n",
    "        ----------\n",
    "        save_pictures(pictures, column_name):\n",
    "            Saves the list of picture names in an Attribute\n",
    "        get_pictures()\n",
    "            Returns the list of picture names\n",
    "        determine_pictures(labels)  \n",
    "            Find pictures with and without the specific label and call save method\n",
    "            when list is build\n",
    "    '''\n",
    "\n",
    "    def __init__(self, location): \n",
    "        '''Parameters\n",
    "           ----------\n",
    "           location: int \n",
    "                number which define a location in a human cell\n",
    "        '''\n",
    "\n",
    "        self.location = location\n",
    "        self.pictures = pd.DataFrame()\n",
    "\n",
    "    def save_pictures(self, pictures, column_name):\n",
    "        ''' Saves the list of pictures in the attribute pictures\n",
    "\n",
    "            Parameters\n",
    "            ----------\n",
    "            pictures: panda.DataFrame\n",
    "                list of the names of the pictures labeled with the location and \n",
    "                same number of pictures without the label\n",
    "            column_name: str\n",
    "                Description of the data saved in the DataFrame used as column names \n",
    "        '''\n",
    "\n",
    "        self.pictures[column_name] = pictures\n",
    "\n",
    "    def get_pictures(self):\n",
    "        '''Gives back the list of picture names which are labeled or not labeled\n",
    "            with the given location\n",
    "        '''\n",
    "\n",
    "        return self.picture\n",
    "\n",
    "    def determine_pictures(self, labels):\n",
    "        ''' First the names of the pictures labeled with the given location are \n",
    "            saved in a list and the method to save it in a DataFrame column is \n",
    "            called. \n",
    "            The same number of names from pictures not labeled with the location \n",
    "            are chosen randomly. The saving function is called with it again. \n",
    "\n",
    "            Parameters\n",
    "            ----------\n",
    "            labels: DataFrame with all picture names and Targets       \n",
    "        '''\n",
    "\n",
    "        pictures = [label.Id  for index, label in labels.iterrows() \n",
    "                              if str(self.location) in label.Target]\n",
    "        self.save_pictures(pictures, f'pictures_with_location_{self.location}')\n",
    "        #The number of pictures labeled with the given location is needed to get the \n",
    "        #same number of pictures not labeled with the location\n",
    "        number_needed_pictures= len(pictures)\n",
    "        pictures = [label.Id  for index, label in labels.iterrows() \n",
    "                              if str(self.location) not in label.Target]\n",
    "        self.save_pictures(np.random.choice(pictures, number_needed_pictures),\n",
    "                                f'pictures_without_location_{self.location}')"
   ]
  },
  {
   "cell_type": "markdown",
   "metadata": {},
   "source": [
    "#### Test the class with Mitochondria labeled with a 23"
   ]
  },
  {
   "cell_type": "code",
   "execution_count": 69,
   "metadata": {},
   "outputs": [
    {
     "data": {
      "text/html": [
       "<div>\n",
       "<style scoped>\n",
       "    .dataframe tbody tr th:only-of-type {\n",
       "        vertical-align: middle;\n",
       "    }\n",
       "\n",
       "    .dataframe tbody tr th {\n",
       "        vertical-align: top;\n",
       "    }\n",
       "\n",
       "    .dataframe thead th {\n",
       "        text-align: right;\n",
       "    }\n",
       "</style>\n",
       "<table border=\"1\" class=\"dataframe\">\n",
       "  <thead>\n",
       "    <tr style=\"text-align: right;\">\n",
       "      <th></th>\n",
       "      <th>pictures_with_location_23</th>\n",
       "      <th>pictures_without_location_23</th>\n",
       "    </tr>\n",
       "  </thead>\n",
       "  <tbody>\n",
       "    <tr>\n",
       "      <th>0</th>\n",
       "      <td>002ff91e-bbb8-11e8-b2ba-ac1f6b6435d0</td>\n",
       "      <td>d9045d20-bbb8-11e8-b2ba-ac1f6b6435d0</td>\n",
       "    </tr>\n",
       "    <tr>\n",
       "      <th>1</th>\n",
       "      <td>00344514-bbc2-11e8-b2bb-ac1f6b6435d0</td>\n",
       "      <td>87b77dd2-bba2-11e8-b2b9-ac1f6b6435d0</td>\n",
       "    </tr>\n",
       "    <tr>\n",
       "      <th>2</th>\n",
       "      <td>004efaa2-bba5-11e8-b2ba-ac1f6b6435d0</td>\n",
       "      <td>6978e83a-bbbe-11e8-b2ba-ac1f6b6435d0</td>\n",
       "    </tr>\n",
       "    <tr>\n",
       "      <th>3</th>\n",
       "      <td>00626a32-bbab-11e8-b2ba-ac1f6b6435d0</td>\n",
       "      <td>1b9a8c16-bbbb-11e8-b2ba-ac1f6b6435d0</td>\n",
       "    </tr>\n",
       "    <tr>\n",
       "      <th>4</th>\n",
       "      <td>0062719a-bbbe-11e8-b2ba-ac1f6b6435d0</td>\n",
       "      <td>0a6eb934-bbb7-11e8-b2ba-ac1f6b6435d0</td>\n",
       "    </tr>\n",
       "  </tbody>\n",
       "</table>\n",
       "</div>"
      ],
      "text/plain": [
       "              pictures_with_location_23          pictures_without_location_23\n",
       "0  002ff91e-bbb8-11e8-b2ba-ac1f6b6435d0  d9045d20-bbb8-11e8-b2ba-ac1f6b6435d0\n",
       "1  00344514-bbc2-11e8-b2bb-ac1f6b6435d0  87b77dd2-bba2-11e8-b2b9-ac1f6b6435d0\n",
       "2  004efaa2-bba5-11e8-b2ba-ac1f6b6435d0  6978e83a-bbbe-11e8-b2ba-ac1f6b6435d0\n",
       "3  00626a32-bbab-11e8-b2ba-ac1f6b6435d0  1b9a8c16-bbbb-11e8-b2ba-ac1f6b6435d0\n",
       "4  0062719a-bbbe-11e8-b2ba-ac1f6b6435d0  0a6eb934-bbb7-11e8-b2ba-ac1f6b6435d0"
      ]
     },
     "execution_count": 69,
     "metadata": {},
     "output_type": "execute_result"
    }
   ],
   "source": [
    "mitochondria_pictures = Location_in_Target(location = 23)\n",
    "mitochondria_pictures.determine_pictures(labels_training)\n",
    "mitochondria_pictures.get_pictures().head()"
   ]
  }
 ],
 "metadata": {
  "kernelspec": {
   "display_name": "Python 3.9.8 64-bit ('3.9.8')",
   "language": "python",
   "name": "python3"
  },
  "language_info": {
   "codemirror_mode": {
    "name": "ipython",
    "version": 3
   },
   "file_extension": ".py",
   "mimetype": "text/x-python",
   "name": "python",
   "nbconvert_exporter": "python",
   "pygments_lexer": "ipython3",
   "version": "3.9.8"
  },
  "orig_nbformat": 4,
  "vscode": {
   "interpreter": {
    "hash": "7935efc99e458b019fff8f61580c6779aa9e709ab6397fb50169c3b4839634ad"
   }
  }
 },
 "nbformat": 4,
 "nbformat_minor": 2
}
