{
 "cells": [
  {
   "cell_type": "code",
   "execution_count": null,
   "metadata": {},
   "outputs": [],
   "source": [
    "import matplotlib.image as img  \n",
    "import matplotlib.pyplot as plt\n",
    "\n",
    "import xarray as xr\n",
    "import numpy as np\n",
    "import hvplot.xarray\n",
    "import holoviews as hv\n",
    "\n",
    "import panel as pn\n",
    "import plotly.express as px\n",
    "import pandas as pd\n",
    "\n",
    "\n",
    "import os, random\n",
    "%matplotlib inline\n",
    "\n",
    "#import warnings\n",
    "#warnings.filterwarnings('ignore')"
   ]
  },
  {
   "cell_type": "code",
   "execution_count": null,
   "metadata": {},
   "outputs": [],
   "source": [
    "def display_imgs(x):\n",
    "    columns = 4\n",
    "    rows = 2\n",
    "    fig, axs = plt.subplots(rows,columns, figsize=(columns*8, rows*8))\n",
    "    axs = axs.ravel()\n",
    "    for idx, a in enumerate(axs):\n",
    "          a.axis('off')\n",
    "          a.imshow((x[idx]*255).astype(int), cmap='Greys_r')\n",
    "    #plt.show()\n",
    "\n",
    "    return fig"
   ]
  },
  {
   "cell_type": "code",
   "execution_count": null,
   "metadata": {},
   "outputs": [],
   "source": [
    "def display_imgs_hv(ds, ds_pairs):\n",
    "    plt_rgby = ds.hvplot.rgb(x='y', y='x', bands='channel',  aspect='equal', xaxis=False, yaxis=None)\n",
    "    #plt_rgb = ds.hvplot(x='y',y='x',groupby='channel',width=400, aspect='equal', xaxis=False, yaxis=None )\n",
    "    plt_pairs = ds_pairs.hvplot.rgb(x='y', y='x', bands='channel', groupby='pair',  aspect='equal', xaxis=False, yaxis=None)\n",
    "\n",
    "    return plt_pairs.opts(axiswise=True) "
   ]
  },
  {
   "cell_type": "code",
   "execution_count": null,
   "metadata": {},
   "outputs": [],
   "source": [
    "import plotly.graph_objects as go\n",
    "from plotly.subplots import make_subplots\n",
    "\n",
    "def display_imgs_plotly(x):\n",
    "    rows = 2\n",
    "    cols = 4\n",
    "    fig = make_subplots(rows=rows, cols=cols, start_cell=\"bottom-left\", shared_xaxes=True)\n",
    "    for idx, a in enumerate(range(cols*rows)):\n",
    "        col = int(idx%cols + 1)\n",
    "        row = int(np.floor(idx/cols) + 1)\n",
    "        if idx < cols: cmap = 'gray_r'\n",
    "        else: cmap = 'Viridis'\n",
    "        fig.add_trace(px.imshow((x[idx])).data[0],\n",
    "                    row=row, col=col)\n",
    "\n",
    "    fig.update_layout(coloraxis_showscale=False)\n",
    "    fig.update_xaxes(showticklabels=False)\n",
    "    fig.update_yaxes(showticklabels=False)\n",
    "\n",
    "    return fig"
   ]
  },
  {
   "cell_type": "code",
   "execution_count": null,
   "metadata": {},
   "outputs": [],
   "source": [
    "dropdown_list = ['0.  Nucleoplasm',   \n",
    "                '1.  Nuclear membrane',   \n",
    "                '2.  Nucleoli',   \n",
    "                '3.  Nucleoli fibrillar center',   \n",
    "                '4.  Nuclear speckles',   \n",
    "                '5.  Nuclear bodies',   \n",
    "                '6.  Endoplasmic reticulum',   \n",
    "                '7.  Golgi apparatus',   \n",
    "                '8.  Peroxisomes',   \n",
    "                '9.  Endosomes',   \n",
    "                '10.  Lysosomes',   \n",
    "                '11.  Intermediate filaments',   \n",
    "                '12.  Actin filaments',   \n",
    "                '13.  Focal adhesion sites',   \n",
    "                '14.  Microtubules',   \n",
    "                '15.  Microtubule ends',   \n",
    "                '16.  Cytokinetic bridge',   \n",
    "                '17.  Mitotic spindle',   \n",
    "                '18.  Microtubule organizing center',   \n",
    "                '19.  Centrosome',   \n",
    "                '20.  Lipid droplets',   \n",
    "                '21.  Plasma membrane',   \n",
    "                '22.  Cell junctions',   \n",
    "                '23.  Mitochondria',   \n",
    "                '24.  Aggresome',   \n",
    "                '25.  Cytosol',   \n",
    "                '26.  Cytoplasmic bodies',   \n",
    "                '27.  Rods & rings'] \n"
   ]
  },
  {
   "cell_type": "code",
   "execution_count": null,
   "metadata": {},
   "outputs": [],
   "source": [
    "def sel_png_plot(dir_in=\"../data/train/\"):\n",
    "    pred_protein = []\n",
    "    str_list = ['_red.png', '_blue.png', '_green.png','_yellow.png']\n",
    "    filename = random.choice(os.listdir(dir_in)).rpartition('_')\n",
    "    \n",
    "    target_val = targets.query('Id == @filename[0]').Target.str.split(' ').values[0]\n",
    "    target_val = target_val[0] # just check the first answer\n",
    "    targ_list.append(target_val)\n",
    "    print(targ_list)\n",
    "\n",
    "    img_array = np.array([img.imread(dir_in+filename[0]+end_str) for end_str in str_list]).transpose([1,2,0])\n",
    "\n",
    "    ds = xr.Dataset({'image': (('x', 'y','channel'), img_array)},\n",
    "        coords={'x': np.arange(0,img_array.shape[0]), 'y': np.arange(0,img_array.shape[0]),\n",
    "                'channel': ['red','green','blue','yellow']})\n",
    "\n",
    "    img_array_gr= img_array.copy()\n",
    "    img_array_gr[:,:,[1,3]] = img_array[:,:,[1,3]]*0\n",
    "    img_array_gb= img_array.copy()\n",
    "    img_array_gb[:,:,[0,3]] = img_array[:,:,[0,3]]*0\n",
    "    img_array_yb = img_array.copy()\n",
    "    img_array_yb[:,:,[0,1]] = img_array[:,:,[0,1]]*0\n",
    "\n",
    "    img_array_pairs = np.array((img_array[:,:,0:3], img_array_gr[:,:,0:3], \n",
    "                                img_array_gb[:,:,0:3], img_array_yb[:,:,1:4]))\n",
    "    ds_pairs = xr.Dataset({'image': (('pair','x', 'y','channel'), img_array_pairs)},\n",
    "        coords={'x': np.arange(0,img_array.shape[0]), 'y': np.arange(0,img_array.shape[0]),\n",
    "                'channel': ['red','green','blue'], \n",
    "                'pair':['rgb', 'rg', 'gb', 'yb'] })\n",
    "\n",
    "    all_img = [img_array[:,:,0], img_array[:,:,1], img_array[:,:,2], img_array[:,:,3],\n",
    "            img_array[:,:,0:3], img_array_gr[:,:,0:3], img_array_gb[:,:,0:3], img_array_yb[:,:,1:4]]\n",
    "\n",
    "    return display_imgs(all_img)\n",
    "#    return display_imgs_plotly(all_img)\n",
    "#    return display_imgs_hv(ds, ds_pairs)\n",
    "     \n",
    "\n"
   ]
  },
  {
   "cell_type": "code",
   "execution_count": null,
   "metadata": {},
   "outputs": [],
   "source": [
    "hv.extension('bokeh')\n",
    "fig_container = pn.pane.Matplotlib(sel_png_plot())\n",
    "\n",
    "targ_list = []\n",
    "targets = pd.read_csv('../data/train.csv')\n",
    "\n",
    "text_list = []\n",
    "button = pn.widgets.Button(name=\"Click me\", button_type=\"primary\")\n",
    "def new_image(event):\n",
    "    fig_container.loading = True\n",
    "    fig = sel_png_plot()\n",
    "    fig_container.object = fig\n",
    "    fig_container.loading = False\n",
    "\n",
    "def save_text(event):\n",
    "    text_list.append(text_input.value)\n",
    "    new_image(event)\n",
    "\n",
    "def calc_acc(event):\n",
    "    #targ_list = targ_list[:-1] # last one isn't used\n",
    "    if len(targ_list[:-1]) == len(text_list):\n",
    "        acc_out = sum(1 for x,y in zip(text_list,targ_list[:-1]) if x == y) / len(targ_list)\n",
    "        print('Accuracy for ' + str(len(targ_list)) +': '+ acc_out)\n",
    "    else:\n",
    "        print(\"Error, lists don't line up, try again\")\n",
    "text_input = pn.widgets.Select(name='Select protein', options=dropdown_list)\n",
    "button2 = pn.widgets.Button(name=\"Save selection\", button_type=\"primary\")\n",
    "button2.on_click(save_text)\n",
    "\n",
    "#forward = pn.widgets.Button(name='\\u25b6', width=50)\n",
    "#forward.on_click(new_image)\n",
    "\n",
    "button3 = pn.widgets.Button(name=\"Calculate accuracy\", button_type=\"primary\")\n",
    "button3.on_click(calc_acc)\n",
    "\n",
    "\n",
    "sel_box = pn.WidgetBox('Selection', text_input, button2, button3)\n",
    "img_box = pn.WidgetBox('Image', fig_container)\n",
    "pn.Column(sel_box, img_box).show()\n",
    "#pn.Row(pn.Column(fig_container, forward), pn.Column(text_input, button2), width=200).show()"
   ]
  },
  {
   "cell_type": "markdown",
   "metadata": {},
   "source": [
    "### compare output"
   ]
  },
  {
   "cell_type": "code",
   "execution_count": null,
   "metadata": {},
   "outputs": [],
   "source": [
    "len(targ_list[:-1]), len(text_list)"
   ]
  },
  {
   "cell_type": "code",
   "execution_count": null,
   "metadata": {},
   "outputs": [],
   "source": []
  },
  {
   "cell_type": "code",
   "execution_count": null,
   "metadata": {},
   "outputs": [],
   "source": []
  },
  {
   "cell_type": "code",
   "execution_count": null,
   "metadata": {},
   "outputs": [],
   "source": [
    "pn.extension()\n",
    "import matplotlib.pyplot as plt\n",
    "import numpy as np\n",
    "import panel as pn\n",
    "from matplotlib.backends.backend_agg import \\\n",
    "    FigureCanvas  # not needed for mpl >= 3.1\n",
    "\n",
    "pn.extension(sizing_mode=\"stretch_width\")\n",
    "\n",
    "def make_fig():\n",
    "    fig, _ = plt.subplots()\n",
    "    plt.hist(np.random.random(10))\n",
    "    plt.close()\n",
    "    FigureCanvas(fig) # not needed for mpl >= 3.1\n",
    "    return fig\n",
    "\n",
    "fig_container = pn.pane.Matplotlib(make_fig())\n",
    "\n",
    "button = pn.widgets.Button(name=\"Click me\", button_type=\"primary\")\n",
    "def b(event):\n",
    "    fig_container.loading = True\n",
    "    fig = make_fig()\n",
    "    fig_container.object = fig\n",
    "    fig_container.loading = False\n",
    "\n",
    "button = pn.widgets.Button(name=\"Click me\", button_type=\"primary\")\n",
    "button.on_click(b)\n",
    "\n",
    "app = pn.template.MaterialTemplate(\n",
    "    site=\"Awesome Panel\",\n",
    "    title=\"Updating Matplotlib\",\n",
    "    sidebar = [button],\n",
    "    main = [pn.Card(fig_container)],\n",
    ")\n",
    "\n",
    "app.servable()"
   ]
  },
  {
   "cell_type": "code",
   "execution_count": null,
   "metadata": {},
   "outputs": [],
   "source": [
    "pn.extension()\n",
    "text_input = pn.widgets.TextInput(name='Text Input', placeholder='Enter a string here...')\n",
    "#slider = pn.widgets.FloatSlider(name='Another widget', width=200)\n",
    "forward = pn.widgets.Button(name='\\u25b6', width=50)\n",
    "forward.on_click(sel_png_plot()) # on click run function\n",
    "#print(forward.clicks) # num clicks\n",
    "pn.Column(text_input, forward, width=200)"
   ]
  },
  {
   "cell_type": "code",
   "execution_count": null,
   "metadata": {},
   "outputs": [],
   "source": [
    "!! load csv too, compare typed and target, third button to calculate"
   ]
  },
  {
   "cell_type": "code",
   "execution_count": null,
   "metadata": {},
   "outputs": [],
   "source": [
    "text_list"
   ]
  },
  {
   "cell_type": "code",
   "execution_count": null,
   "metadata": {},
   "outputs": [],
   "source": [
    "import panel as pn\n",
    "hv.extension('bokeh')\n",
    "\n",
    "pane = pn.panel(sel_png_plot())\n",
    "#pane.object = sel_png_plot()\n",
    "text_input = pn.widgets.TextInput(name='Text Input', placeholder='Enter a string here...')\n",
    "button = pn.widgets.Button(name=\"Click me\", button_type=\"primary\")\n",
    "button.on_click(sel_png_plot())\n",
    "\n",
    "pn.Column(text_input, pane, button, width=200)"
   ]
  },
  {
   "cell_type": "code",
   "execution_count": null,
   "metadata": {},
   "outputs": [],
   "source": [
    "import panel as pn\n",
    "pn.extension()\n",
    "output_list = []\n",
    "# Create and organize basic elements to show where things go\n",
    "#file_input = pn.widgets.FileInput()\n",
    "continent = pn.widgets.Select(\n",
    "    value='Asia', \n",
    "    options=['Africa', 'Asia', 'Europe']\n",
    ")\n",
    "item_selector = pn.widgets.MultiSelect()\n",
    "controls = pn.Column(item_selector, \"\")\n",
    "layout = pn.Row(item_selector, pn.Column(\"\"))\n",
    "#output_list.append(continent.value)\n",
    "\n",
    "# Set up selector object\n",
    "@pn.depends(file_contents=item_selector, watch=True)\n",
    "def _item_selector(file_contents):\n",
    "    # Dummy file contents\n",
    "    items = ['a', 'b', 'c', 'd', 'e', 'f', 'g', 'h', 'i', 'j'] \n",
    "    item_selector.options = items\n",
    "    item_selector.value = ['a', 'c']\n",
    "    item_selector.size = 12\n",
    "    item_selector.width = 120\n",
    "    layout[0][1] = item_selector\n",
    "\n",
    "# Define interactivity based on selector object\n",
    "@pn.depends(selected_items=item_selector, watch=True)\n",
    "def _col(selected_items):\n",
    "    col = pn.Column()\n",
    "    for item in selected_items:\n",
    "        col.append(item)\n",
    "    layout[1] = col\n",
    "\n",
    "layout"
   ]
  },
  {
   "cell_type": "code",
   "execution_count": null,
   "metadata": {},
   "outputs": [],
   "source": [
    "output_list"
   ]
  },
  {
   "cell_type": "code",
   "execution_count": null,
   "metadata": {},
   "outputs": [],
   "source": [
    "pane.object = burglaries"
   ]
  },
  {
   "cell_type": "code",
   "execution_count": null,
   "metadata": {},
   "outputs": [],
   "source": [
    "sel_png_plot()"
   ]
  },
  {
   "cell_type": "code",
   "execution_count": null,
   "metadata": {},
   "outputs": [],
   "source": [
    "\n",
    "pn.extension()\n",
    "\n",
    "pn.interact(sel_png_plot)"
   ]
  },
  {
   "cell_type": "code",
   "execution_count": null,
   "metadata": {},
   "outputs": [],
   "source": [
    "text_input = pn.widgets.TextInput(name='Text Input', placeholder='Enter a string here...')\n",
    "text_input"
   ]
  },
  {
   "cell_type": "code",
   "execution_count": null,
   "metadata": {},
   "outputs": [],
   "source": [
    "text_input[0]"
   ]
  },
  {
   "cell_type": "code",
   "execution_count": null,
   "metadata": {},
   "outputs": [],
   "source": [
    "from dash import Dash, dcc, html, Input, Output, State\n",
    "\n",
    "fig = sel_png_plot()\n",
    "\n",
    "app = Dash(__name__)\n",
    "\n",
    "app.layout = html.Div([\n",
    "    html.Div([\n",
    "    html.Div(dcc.Input(id='input-on-submit', type='text')),\n",
    "    html.Button('Submit', id='submit-val', n_clicks=0),\n",
    "    html.Div(id='container-button-basic',\n",
    "             children='Enter a value and press submit')\n",
    "    ]),\n",
    "    html.Div(\n",
    "      children=[\n",
    "      dcc.Graph(figure=fig)])\n",
    "\n",
    "])\n",
    "\n",
    "\n",
    "@app.callback(\n",
    "    Output('container-button-basic', 'children'),\n",
    "    Input('submit-val', 'n_clicks'),\n",
    "    State('input-on-submit', 'value')\n",
    ")\n",
    "def update_output(n_clicks, value):\n",
    "    return 'The input value was \"{}\" and the button has been clicked {} times'.format(\n",
    "        value,\n",
    "        n_clicks\n",
    "    )\n",
    "\n",
    "\n",
    "if __name__ == '__main__':\n",
    "    app.run_server()"
   ]
  },
  {
   "cell_type": "code",
   "execution_count": null,
   "metadata": {},
   "outputs": [],
   "source": []
  }
 ],
 "metadata": {
  "kernelspec": {
   "display_name": "Python 3.9.8 64-bit ('3.9.8')",
   "language": "python",
   "name": "python3"
  },
  "language_info": {
   "codemirror_mode": {
    "name": "ipython",
    "version": 3
   },
   "file_extension": ".py",
   "mimetype": "text/x-python",
   "name": "python",
   "nbconvert_exporter": "python",
   "pygments_lexer": "ipython3",
   "version": "3.9.8"
  },
  "orig_nbformat": 4,
  "vscode": {
   "interpreter": {
    "hash": "96202dd473bad24d79db86604e2c945a5bfb2a556dd68eb8d29bbb0895cbe46b"
   }
  }
 },
 "nbformat": 4,
 "nbformat_minor": 2
}
